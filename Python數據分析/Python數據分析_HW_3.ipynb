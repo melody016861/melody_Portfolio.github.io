{
  "nbformat": 4,
  "nbformat_minor": 0,
  "metadata": {
    "colab": {
      "provenance": [],
      "authorship_tag": "ABX9TyN4/tRtiwiyySmh35Xe743b",
      "include_colab_link": true
    },
    "kernelspec": {
      "name": "python3",
      "display_name": "Python 3"
    },
    "language_info": {
      "name": "python"
    }
  },
  "cells": [
    {
      "cell_type": "markdown",
      "metadata": {
        "id": "view-in-github",
        "colab_type": "text"
      },
      "source": [
        "<a href=\"https://colab.research.google.com/github/melody016861/melody_Portfolio.github.io/blob/main/HW_3.ipynb\" target=\"_parent\"><img src=\"https://colab.research.google.com/assets/colab-badge.svg\" alt=\"Open In Colab\"/></a>"
      ]
    },
    {
      "cell_type": "markdown",
      "source": [
        "#第三周_上課內容\n",
        "Python強大的秘密： numpy、向量化與各式套件"
      ],
      "metadata": {
        "id": "ZpNesEzNuHRG"
      }
    },
    {
      "cell_type": "markdown",
      "source": [
        "## 正規讀套件的方法之一\n",
        "UML: https://moocs.nccu.edu.tw/mod/page/view.php?id=2472"
      ],
      "metadata": {
        "id": "zZbkBtm-uWFT"
      }
    },
    {
      "cell_type": "code",
      "execution_count": null,
      "metadata": {
        "id": "vSLl2dGwt-I5"
      },
      "outputs": [],
      "source": [
        "# 正規讀套件的方法\n",
        "# from 套件 import *\n",
        "# '*':\n",
        "from numpy import *\n",
        "from numpy import sin"
      ]
    },
    {
      "cell_type": "code",
      "source": [
        "sin(3)"
      ],
      "metadata": {
        "colab": {
          "base_uri": "https://localhost:8080/"
        },
        "id": "7qPGWf96vTq4",
        "outputId": "e3db70fc-1827-4c2f-ebc1-e05c92197410"
      },
      "execution_count": null,
      "outputs": [
        {
          "output_type": "execute_result",
          "data": {
            "text/plain": [
              "0.1411200080598672"
            ]
          },
          "metadata": {},
          "execution_count": 6
        }
      ]
    },
    {
      "cell_type": "code",
      "source": [
        "cos(3)"
      ],
      "metadata": {
        "colab": {
          "base_uri": "https://localhost:8080/"
        },
        "id": "DZW2xp69vTtt",
        "outputId": "05e19a1c-ad98-4a90-a746-f53952e92e4d"
      },
      "execution_count": null,
      "outputs": [
        {
          "output_type": "execute_result",
          "data": {
            "text/plain": [
              "-0.9899924966004454"
            ]
          },
          "metadata": {},
          "execution_count": 7
        }
      ]
    },
    {
      "cell_type": "markdown",
      "source": [
        "from random import *\n",
        "\n",
        "印出的結果會包含範圍的最後一個數字10。"
      ],
      "metadata": {
        "id": "CwMdVZMGwoUA"
      }
    },
    {
      "cell_type": "code",
      "source": [
        "from random import *"
      ],
      "metadata": {
        "id": "NH_74RXLvTv3"
      },
      "execution_count": null,
      "outputs": []
    },
    {
      "cell_type": "code",
      "source": [
        "randint(1, 10)"
      ],
      "metadata": {
        "colab": {
          "base_uri": "https://localhost:8080/"
        },
        "id": "f5ljh9lvvTxy",
        "outputId": "f5c73e64-21da-4a93-a035-ae0a0f4f8a3d"
      },
      "execution_count": null,
      "outputs": [
        {
          "output_type": "execute_result",
          "data": {
            "text/plain": [
              "9"
            ]
          },
          "metadata": {},
          "execution_count": 12
        }
      ]
    },
    {
      "cell_type": "code",
      "source": [
        "for i in range(50):\n",
        "  print(randint(1, 10), end=\", \")"
      ],
      "metadata": {
        "colab": {
          "base_uri": "https://localhost:8080/"
        },
        "id": "RIxlPA2uv96M",
        "outputId": "09c2308a-95a1-418c-92e4-ee4c026e84f1"
      },
      "execution_count": null,
      "outputs": [
        {
          "output_type": "stream",
          "name": "stdout",
          "text": [
            "2, 7, 1, 6, 10, 2, 2, 6, 10, 3, 1, 10, 9, 9, 5, 9, 2, 8, 7, 4, 1, 10, 6, 8, 4, 10, 6, 4, 8, 3, 2, 4, 9, 7, 1, 6, 8, 1, 3, 1, 8, 9, 7, 10, 5, 7, 2, 9, 3, 4, "
          ]
        }
      ]
    },
    {
      "cell_type": "markdown",
      "source": [
        "from numpy.random import *\n",
        "\n",
        "印出的結果不會包含範圍的最後一個數字10。"
      ],
      "metadata": {
        "id": "p_bu_vPHwtHh"
      }
    },
    {
      "cell_type": "code",
      "source": [
        "from numpy.random import *"
      ],
      "metadata": {
        "id": "12tLepAov98U"
      },
      "execution_count": null,
      "outputs": []
    },
    {
      "cell_type": "code",
      "source": [
        "randint(1, 10)"
      ],
      "metadata": {
        "colab": {
          "base_uri": "https://localhost:8080/"
        },
        "id": "SMtnyVIxv-CK",
        "outputId": "d48563f8-6d38-46d6-f4ce-391e3304b623"
      },
      "execution_count": null,
      "outputs": [
        {
          "output_type": "execute_result",
          "data": {
            "text/plain": [
              "5"
            ]
          },
          "metadata": {},
          "execution_count": 16
        }
      ]
    },
    {
      "cell_type": "code",
      "source": [
        "for i in range(50):\n",
        "  print(randint(1, 10), end=\", \")"
      ],
      "metadata": {
        "colab": {
          "base_uri": "https://localhost:8080/"
        },
        "id": "7pfLZVCYwyH7",
        "outputId": "ef8e5c76-afd0-4043-a9fb-3fcd457de3a6"
      },
      "execution_count": null,
      "outputs": [
        {
          "output_type": "stream",
          "name": "stdout",
          "text": [
            "6, 2, 2, 4, 7, 8, 6, 3, 5, 2, 6, 9, 7, 8, 1, 7, 2, 7, 1, 2, 9, 7, 3, 3, 5, 2, 9, 4, 7, 6, 2, 8, 8, 2, 4, 8, 6, 5, 3, 5, 6, 6, 6, 9, 8, 7, 4, 2, 8, 1, "
          ]
        }
      ]
    },
    {
      "cell_type": "markdown",
      "source": [
        "結論:\n",
        "\n",
        "如果把套件的函數全部(`*`)讀進來。會導致同名的套件互相混亂衝突。所以不推薦用`import *` 或是`%pylab inline`來讀套件。"
      ],
      "metadata": {
        "id": "uZHq9GwzxDCc"
      }
    },
    {
      "cell_type": "markdown",
      "source": [
        "## 正規讀套件的方法之二\n",
        "UML: https://moocs.nccu.edu.tw/mod/page/view.php?id=2473"
      ],
      "metadata": {
        "id": "uVanyGkXue1K"
      }
    },
    {
      "cell_type": "code",
      "source": [
        "import numpy"
      ],
      "metadata": {
        "id": "gfoA-iFNuiZY"
      },
      "execution_count": null,
      "outputs": []
    },
    {
      "cell_type": "code",
      "source": [
        "numpy.sin(3)"
      ],
      "metadata": {
        "colab": {
          "base_uri": "https://localhost:8080/"
        },
        "id": "XtfbbQa_xuGk",
        "outputId": "221661c4-b763-417d-b3b7-dfae9acfbe40"
      },
      "execution_count": null,
      "outputs": [
        {
          "output_type": "execute_result",
          "data": {
            "text/plain": [
              "0.1411200080598672"
            ]
          },
          "metadata": {},
          "execution_count": 19
        }
      ]
    },
    {
      "cell_type": "code",
      "source": [
        "numpy.cos(3)"
      ],
      "metadata": {
        "colab": {
          "base_uri": "https://localhost:8080/"
        },
        "id": "jpSyznHCxuI7",
        "outputId": "d1dd1ecd-d716-4176-a4b3-ec744f231dda"
      },
      "execution_count": null,
      "outputs": [
        {
          "output_type": "execute_result",
          "data": {
            "text/plain": [
              "-0.9899924966004454"
            ]
          },
          "metadata": {},
          "execution_count": 20
        }
      ]
    },
    {
      "cell_type": "code",
      "source": [
        "numpy.pi"
      ],
      "metadata": {
        "colab": {
          "base_uri": "https://localhost:8080/"
        },
        "id": "VssBYErFxuLR",
        "outputId": "aacdb926-35ae-4237-81fe-5c4d8029910e"
      },
      "execution_count": null,
      "outputs": [
        {
          "output_type": "execute_result",
          "data": {
            "text/plain": [
              "3.141592653589793"
            ]
          },
          "metadata": {},
          "execution_count": 21
        }
      ]
    },
    {
      "cell_type": "code",
      "source": [
        "import numpy as np"
      ],
      "metadata": {
        "id": "ux6UAsn-xuNt"
      },
      "execution_count": null,
      "outputs": []
    },
    {
      "cell_type": "code",
      "source": [
        "np.sin(3)"
      ],
      "metadata": {
        "colab": {
          "base_uri": "https://localhost:8080/"
        },
        "id": "w-qX-iOexuR0",
        "outputId": "6c761ead-3ace-4af5-c609-d4e5c60ec78f"
      },
      "execution_count": null,
      "outputs": [
        {
          "output_type": "execute_result",
          "data": {
            "text/plain": [
              "0.1411200080598672"
            ]
          },
          "metadata": {},
          "execution_count": 24
        }
      ]
    },
    {
      "cell_type": "code",
      "source": [
        "np.cos(3)"
      ],
      "metadata": {
        "colab": {
          "base_uri": "https://localhost:8080/"
        },
        "id": "E15Z7u7axuUH",
        "outputId": "66634e8b-ab0d-4120-a012-d61c7ddee360"
      },
      "execution_count": null,
      "outputs": [
        {
          "output_type": "execute_result",
          "data": {
            "text/plain": [
              "-0.9899924966004454"
            ]
          },
          "metadata": {},
          "execution_count": 25
        }
      ]
    },
    {
      "cell_type": "markdown",
      "source": [
        "## 數據分析的標準動作\n",
        "UML: https://moocs.nccu.edu.tw/mod/page/view.php?id=2474"
      ],
      "metadata": {
        "id": "Fx--3StlujCd"
      }
    },
    {
      "cell_type": "code",
      "source": [
        "%matplotlib inline\n",
        "import numpy as np\n",
        "import matplotlib.pyplot as plt"
      ],
      "metadata": {
        "id": "KNHWZV_Rumj7"
      },
      "execution_count": null,
      "outputs": []
    },
    {
      "cell_type": "code",
      "source": [
        "np.pi"
      ],
      "metadata": {
        "colab": {
          "base_uri": "https://localhost:8080/"
        },
        "id": "pnxwv18jyUxk",
        "outputId": "7381326c-48f6-4f2c-c827-746b0b010df0"
      },
      "execution_count": null,
      "outputs": [
        {
          "output_type": "execute_result",
          "data": {
            "text/plain": [
              "3.141592653589793"
            ]
          },
          "metadata": {},
          "execution_count": 28
        }
      ]
    },
    {
      "cell_type": "code",
      "source": [
        "plt.plot([3, -4, 1, 5, -2, 7, 3, -5, 6])"
      ],
      "metadata": {
        "colab": {
          "base_uri": "https://localhost:8080/",
          "height": 447
        },
        "id": "jnSMlo0lyaTl",
        "outputId": "1efb09b2-7245-4b36-eb0a-75ff6aa0f576"
      },
      "execution_count": null,
      "outputs": [
        {
          "output_type": "execute_result",
          "data": {
            "text/plain": [
              "[<matplotlib.lines.Line2D at 0x7bf2543104c0>]"
            ]
          },
          "metadata": {},
          "execution_count": 30
        },
        {
          "output_type": "display_data",
          "data": {
            "text/plain": [
              "<Figure size 640x480 with 1 Axes>"
            ],
            "image/png": "[encoded data removed]"
          },
          "metadata": {}
        }
      ]
    },
    {
      "cell_type": "code",
      "source": [
        "plt.plot(np.random.randn(100))"
      ],
      "metadata": {
        "colab": {
          "base_uri": "https://localhost:8080/",
          "height": 447
        },
        "id": "g2iSaIVPyaV8",
        "outputId": "13796535-4a44-4a60-a0f1-ed261f7077ee"
      },
      "execution_count": null,
      "outputs": [
        {
          "output_type": "execute_result",
          "data": {
            "text/plain": [
              "[<matplotlib.lines.Line2D at 0x7bf2543b6f80>]"
            ]
          },
          "metadata": {},
          "execution_count": 31
        },
        {
          "output_type": "display_data",
          "data": {
            "text/plain": [
              "<Figure size 640x480 with 1 Axes>"
            ],
            "image/png": "[encoded data removed]"
          },
          "metadata": {}
        }
      ]
    },
    {
      "cell_type": "code",
      "source": [
        "# tab鍵可以自動補完剩下的命令\n",
        "%matplotlib inline\n",
        "import numpy as np\n",
        "import matplotlib.pyplot as plt"
      ],
      "metadata": {
        "id": "VGzaIIORyUz9"
      },
      "execution_count": null,
      "outputs": []
    },
    {
      "cell_type": "markdown",
      "source": [
        "##處理一整個List的數字\n",
        "UML: https://moocs.nccu.edu.tw/mod/page/view.php?id=2475"
      ],
      "metadata": {
        "id": "EzXNfFiIunN6"
      }
    },
    {
      "cell_type": "code",
      "source": [
        "p = [1096.95, 596.95, 896.95]"
      ],
      "metadata": {
        "id": "j7Vlk2YUuql4"
      },
      "execution_count": null,
      "outputs": []
    },
    {
      "cell_type": "code",
      "source": [
        "c = 30.1"
      ],
      "metadata": {
        "id": "EnlT0Zynzpj0"
      },
      "execution_count": null,
      "outputs": []
    },
    {
      "cell_type": "code",
      "source": [
        "for k in p:\n",
        "  print(k*c)"
      ],
      "metadata": {
        "colab": {
          "base_uri": "https://localhost:8080/"
        },
        "id": "MbGQJp0tzpmn",
        "outputId": "b6f3da7d-1d89-4990-8f30-ecd93d06ddb4"
      },
      "execution_count": null,
      "outputs": [
        {
          "output_type": "stream",
          "name": "stdout",
          "text": [
            "33018.195\n",
            "17968.195000000003\n",
            "26998.195000000003\n"
          ]
        }
      ]
    },
    {
      "cell_type": "code",
      "source": [
        "result = []"
      ],
      "metadata": {
        "id": "S17fDB3xzppH"
      },
      "execution_count": null,
      "outputs": []
    },
    {
      "cell_type": "code",
      "source": [
        "for k in p:\n",
        "  twd = k*c\n",
        "  result.append(twd)"
      ],
      "metadata": {
        "id": "qdhpHBvF0K-Q"
      },
      "execution_count": null,
      "outputs": []
    },
    {
      "cell_type": "code",
      "source": [
        "result"
      ],
      "metadata": {
        "colab": {
          "base_uri": "https://localhost:8080/"
        },
        "id": "Q_rgZbfp0LAx",
        "outputId": "37a2a034-87b0-4430-bcf8-edd0760acffa"
      },
      "execution_count": null,
      "outputs": [
        {
          "output_type": "execute_result",
          "data": {
            "text/plain": [
              "[33018.195, 17968.195000000003, 26998.195000000003]"
            ]
          },
          "metadata": {},
          "execution_count": 40
        }
      ]
    },
    {
      "cell_type": "markdown",
      "source": [
        "## Array真是太炫了\n",
        "UML: https://moocs.nccu.edu.tw/mod/page/view.php?id=2476"
      ],
      "metadata": {
        "id": "ByCYe3x6uq51"
      }
    },
    {
      "cell_type": "code",
      "source": [
        "%matplotlib inline\n",
        "import numpy as np\n",
        "import matplotlib.pyplot as plt"
      ],
      "metadata": {
        "id": "LjzdIAiJuuM5"
      },
      "execution_count": null,
      "outputs": []
    },
    {
      "cell_type": "code",
      "source": [
        "p = [1096.95, 596.95,896.95]"
      ],
      "metadata": {
        "id": "ZSkpYfGn0vaL"
      },
      "execution_count": null,
      "outputs": []
    },
    {
      "cell_type": "code",
      "source": [
        "c = 30.1"
      ],
      "metadata": {
        "id": "OSkwnK3c0wjL"
      },
      "execution_count": null,
      "outputs": []
    },
    {
      "cell_type": "code",
      "source": [
        "#將list轉換成array\n",
        "prices = np.array(p)"
      ],
      "metadata": {
        "id": "WwvbVSLc0wl4"
      },
      "execution_count": null,
      "outputs": []
    },
    {
      "cell_type": "code",
      "source": [
        "prices"
      ],
      "metadata": {
        "colab": {
          "base_uri": "https://localhost:8080/"
        },
        "id": "xTb7AGRG0woc",
        "outputId": "3beaa59f-5b18-4082-9462-bc102bdf7bd6"
      },
      "execution_count": null,
      "outputs": [
        {
          "output_type": "execute_result",
          "data": {
            "text/plain": [
              "array([1096.95,  596.95,  896.95])"
            ]
          },
          "metadata": {},
          "execution_count": 45
        }
      ]
    },
    {
      "cell_type": "code",
      "source": [
        "print(prices)"
      ],
      "metadata": {
        "colab": {
          "base_uri": "https://localhost:8080/"
        },
        "id": "kkMPxK970vcv",
        "outputId": "3c709a66-9422-405d-c8d2-b26ff880885c"
      },
      "execution_count": null,
      "outputs": [
        {
          "output_type": "stream",
          "name": "stdout",
          "text": [
            "[1096.95  596.95  896.95]\n"
          ]
        }
      ]
    },
    {
      "cell_type": "code",
      "source": [
        "prices * c\n",
        "#array不需要做迴圈，就可以將全部的元素各相乘c"
      ],
      "metadata": {
        "colab": {
          "base_uri": "https://localhost:8080/"
        },
        "id": "NfX_z0T_0vgS",
        "outputId": "c1e34628-44ef-4b98-8a9e-e2d5775a23bc"
      },
      "execution_count": null,
      "outputs": [
        {
          "output_type": "execute_result",
          "data": {
            "text/plain": [
              "array([33018.195, 17968.195, 26998.195])"
            ]
          },
          "metadata": {},
          "execution_count": 48
        }
      ]
    },
    {
      "cell_type": "markdown",
      "source": [
        "## 用Array算成績(加權和)\n",
        "UML: https://moocs.nccu.edu.tw/mod/page/view.php?id=2477"
      ],
      "metadata": {
        "id": "qR1krwtGuumE"
      }
    },
    {
      "cell_type": "code",
      "source": [
        "%matplotlib inline\n",
        "import numpy as np\n",
        "import matplotlib.pyplot as plt"
      ],
      "metadata": {
        "id": "T1dY8qIgux9P"
      },
      "execution_count": null,
      "outputs": []
    },
    {
      "cell_type": "code",
      "source": [
        "grades = np.array([85, 70, 82])"
      ],
      "metadata": {
        "id": "x49Etlga9lwd"
      },
      "execution_count": null,
      "outputs": []
    },
    {
      "cell_type": "code",
      "source": [
        "weights = np.array([0.3, 0.4, 0.3])"
      ],
      "metadata": {
        "id": "DCiYKaXG9phK"
      },
      "execution_count": null,
      "outputs": []
    },
    {
      "cell_type": "code",
      "source": [
        "g = grades * weights"
      ],
      "metadata": {
        "id": "M1YSzlVN9pjS"
      },
      "execution_count": null,
      "outputs": []
    },
    {
      "cell_type": "code",
      "source": [
        "g"
      ],
      "metadata": {
        "colab": {
          "base_uri": "https://localhost:8080/"
        },
        "id": "cAU2SMqV94l1",
        "outputId": "7b8c5800-cf36-4298-c903-73b6bfb21d6d"
      },
      "execution_count": null,
      "outputs": [
        {
          "output_type": "execute_result",
          "data": {
            "text/plain": [
              "array([25.5, 28. , 24.6])"
            ]
          },
          "metadata": {},
          "execution_count": 54
        }
      ]
    },
    {
      "cell_type": "code",
      "source": [
        "g.sum()"
      ],
      "metadata": {
        "colab": {
          "base_uri": "https://localhost:8080/"
        },
        "id": "C0nW32bU9lyz",
        "outputId": "4b30d21c-67d8-41a2-803b-2fce362f6399"
      },
      "execution_count": null,
      "outputs": [
        {
          "output_type": "execute_result",
          "data": {
            "text/plain": [
              "78.1"
            ]
          },
          "metadata": {},
          "execution_count": 59
        }
      ]
    },
    {
      "cell_type": "code",
      "source": [
        "np.dot(grades, weights)"
      ],
      "metadata": {
        "colab": {
          "base_uri": "https://localhost:8080/"
        },
        "id": "pJu0JI8b9l1j",
        "outputId": "abf41da8-56b2-42fe-96df-0aa239e44422"
      },
      "execution_count": null,
      "outputs": [
        {
          "output_type": "execute_result",
          "data": {
            "text/plain": [
              "78.1"
            ]
          },
          "metadata": {},
          "execution_count": 60
        }
      ]
    },
    {
      "cell_type": "markdown",
      "source": [
        "## 算全班成績（Python 的 broadcasting）\n",
        "UML: https://moocs.nccu.edu.tw/mod/page/view.php?id=2478"
      ],
      "metadata": {
        "id": "8dpmO60auyjk"
      }
    },
    {
      "cell_type": "code",
      "source": [
        "%matplotlib inline\n",
        "import numpy as np\n",
        "import matplotlib.pyplot as plt"
      ],
      "metadata": {
        "id": "OxEnyAQSu1z3"
      },
      "execution_count": null,
      "outputs": []
    },
    {
      "cell_type": "code",
      "source": [
        "# array不只可以是一維的，也可以是二維的\n",
        "grades = np.array([[85, 70, 82], [75, 92, 85], [66, 67, 64]])"
      ],
      "metadata": {
        "id": "ZiaCszzK-QgN"
      },
      "execution_count": null,
      "outputs": []
    },
    {
      "cell_type": "code",
      "source": [
        "grades"
      ],
      "metadata": {
        "colab": {
          "base_uri": "https://localhost:8080/"
        },
        "id": "2WyfctSG-Qis",
        "outputId": "d1badbd2-5049-479c-c390-e10eb0a466a2"
      },
      "execution_count": null,
      "outputs": [
        {
          "output_type": "execute_result",
          "data": {
            "text/plain": [
              "array([[85, 70, 82],\n",
              "       [75, 92, 85],\n",
              "       [66, 67, 64]])"
            ]
          },
          "metadata": {},
          "execution_count": 65
        }
      ]
    },
    {
      "cell_type": "code",
      "source": [
        "weights = np.array([0.3, 0.4, 0.3])"
      ],
      "metadata": {
        "id": "ELJ5U_S_-QlQ"
      },
      "execution_count": null,
      "outputs": []
    },
    {
      "cell_type": "code",
      "source": [
        "np.dot(grades, weights)"
      ],
      "metadata": {
        "colab": {
          "base_uri": "https://localhost:8080/"
        },
        "id": "Z7Pn_Jas-rxt",
        "outputId": "ed16653b-6af2-4c31-ae4c-4dbf517b8f21"
      },
      "execution_count": null,
      "outputs": [
        {
          "output_type": "execute_result",
          "data": {
            "text/plain": [
              "array([78.1, 84.8, 65.8])"
            ]
          },
          "metadata": {},
          "execution_count": 67
        }
      ]
    },
    {
      "cell_type": "code",
      "source": [
        "L = np.array([3, 5, 7, 9])"
      ],
      "metadata": {
        "id": "LFUBqGrp-rtZ"
      },
      "execution_count": null,
      "outputs": []
    },
    {
      "cell_type": "code",
      "source": [
        "L * 3"
      ],
      "metadata": {
        "colab": {
          "base_uri": "https://localhost:8080/"
        },
        "id": "uATWOCIB-yeY",
        "outputId": "e688e333-9022-4eb9-ec51-053b632b1a44"
      },
      "execution_count": null,
      "outputs": [
        {
          "output_type": "execute_result",
          "data": {
            "text/plain": [
              "array([ 9, 15, 21, 27])"
            ]
          },
          "metadata": {},
          "execution_count": 69
        }
      ]
    },
    {
      "cell_type": "markdown",
      "source": [
        "## Array大變身\n",
        "UML: https://moocs.nccu.edu.tw/mod/page/view.php?id=2479"
      ],
      "metadata": {
        "id": "ajq5MP9uu2O5"
      }
    },
    {
      "cell_type": "code",
      "source": [
        "%matplotlib inline\n",
        "import numpy as np\n",
        "import matplotlib.pyplot as plt"
      ],
      "metadata": {
        "id": "-9kUDwwWu5Nd"
      },
      "execution_count": null,
      "outputs": []
    },
    {
      "cell_type": "code",
      "source": [
        "A = np.random.randn(100)"
      ],
      "metadata": {
        "id": "aeTdct7z_FTv"
      },
      "execution_count": null,
      "outputs": []
    },
    {
      "cell_type": "code",
      "source": [
        "A"
      ],
      "metadata": {
        "colab": {
          "base_uri": "https://localhost:8080/"
        },
        "id": "yUO5t6PN_FWT",
        "outputId": "8953ec01-3641-4d50-a01f-6d8cdf9bfe3f"
      },
      "execution_count": null,
      "outputs": [
        {
          "output_type": "execute_result",
          "data": {
            "text/plain": [
              "array([ 0.04615842, -0.28044557,  1.05178612, -1.29274723,  0.97140398,\n",
              "        1.68118419,  1.00724328, -0.08282914, -0.82686739, -0.90835963,\n",
              "       -1.86752207,  0.52136707, -1.7785796 ,  0.84342718, -0.23976087,\n",
              "       -0.17498089,  0.1746575 ,  1.09700509,  0.63437986, -1.95875345,\n",
              "       -1.06714021, -0.39599976,  1.27817235, -0.09611554, -0.7657921 ,\n",
              "       -1.39067448, -1.82101412,  1.61100712,  0.20817133, -0.07086838,\n",
              "       -1.07738168,  1.11521675, -0.49452603,  0.25004116,  0.41919948,\n",
              "        0.03581795, -0.25270623, -0.03641597,  0.79949222,  2.22842111,\n",
              "       -0.59847281,  0.64311181,  0.76936851, -0.03605328,  0.1505301 ,\n",
              "        1.26873051,  0.78186478,  0.97544414, -0.26628843, -1.58198342,\n",
              "       -0.87742416, -0.78371443, -0.38597001,  0.39236346, -1.84481205,\n",
              "        1.26961895,  0.85178405, -0.23857792, -0.00365602, -0.07605969,\n",
              "        1.26362327, -0.17942825,  1.68744225,  0.82430642, -0.83939136,\n",
              "        0.71525587, -0.31910122, -1.60950566, -0.2799905 , -0.5697287 ,\n",
              "        1.96066937, -0.66183557, -0.26223719, -1.02019316,  1.55566818,\n",
              "        0.61826411,  0.75669143,  0.27668664, -1.51519912,  2.08062888,\n",
              "        0.16597576,  3.08494515, -1.52360168,  1.86827487,  1.01563256,\n",
              "       -0.34190774, -0.06390271,  0.68844129, -0.31724926, -0.49984707,\n",
              "        0.07745719,  0.99884188,  0.02902544,  0.20350434, -0.19413984,\n",
              "       -0.44076356,  0.94835159,  0.54651533, -0.27776304, -0.67135473])"
            ]
          },
          "metadata": {},
          "execution_count": 3
        }
      ]
    },
    {
      "cell_type": "code",
      "source": [
        "A = 10 * A + 50"
      ],
      "metadata": {
        "id": "pOlJ2aV6_FYk"
      },
      "execution_count": null,
      "outputs": []
    },
    {
      "cell_type": "code",
      "source": [
        "A"
      ],
      "metadata": {
        "colab": {
          "base_uri": "https://localhost:8080/"
        },
        "id": "FqH1CAsQ_FaY",
        "outputId": "d97f6e74-42e9-40e8-caaa-f2bcbf6e9583"
      },
      "execution_count": null,
      "outputs": [
        {
          "output_type": "execute_result",
          "data": {
            "text/plain": [
              "array([50.46158415, 47.1955443 , 60.51786121, 37.07252768, 59.71403982,\n",
              "       66.81184189, 60.07243284, 49.17170863, 41.7313261 , 40.91640372,\n",
              "       31.32477927, 55.21367072, 32.21420401, 58.43427176, 47.60239126,\n",
              "       48.25019109, 51.746575  , 60.97005086, 56.34379858, 30.41246553,\n",
              "       39.32859789, 46.0400024 , 62.78172354, 49.03884456, 42.34207895,\n",
              "       36.09325522, 31.78985883, 66.1100712 , 52.0817133 , 49.29131617,\n",
              "       39.22618324, 61.15216746, 45.05473975, 52.5004116 , 54.19199482,\n",
              "       50.35817954, 47.47293769, 49.63584027, 57.99492215, 72.28421114,\n",
              "       44.01527189, 56.43111809, 57.69368509, 49.63946719, 51.50530099,\n",
              "       62.68730511, 57.81864783, 59.75444142, 47.33711566, 34.18016579,\n",
              "       41.22575838, 42.16285575, 46.14029994, 53.92363463, 31.55187953,\n",
              "       62.69618953, 58.5178405 , 47.61422084, 49.96343975, 49.23940312,\n",
              "       62.63623273, 48.20571746, 66.87442251, 58.2430642 , 41.6060864 ,\n",
              "       57.15255866, 46.80898782, 33.90494339, 47.200095  , 44.302713  ,\n",
              "       69.60669372, 43.38164433, 47.37762806, 39.79806843, 65.55668184,\n",
              "       56.18264115, 57.56691431, 52.76686637, 34.84800879, 70.80628882,\n",
              "       51.65975763, 80.8494515 , 34.76398322, 68.68274873, 60.15632564,\n",
              "       46.58092263, 49.36097294, 56.88441289, 46.82750745, 45.00152929,\n",
              "       50.77457186, 59.98841878, 50.2902544 , 52.0350434 , 48.05860164,\n",
              "       45.59236444, 59.48351586, 55.46515328, 47.22236964, 43.28645267])"
            ]
          },
          "metadata": {},
          "execution_count": 5
        }
      ]
    },
    {
      "cell_type": "code",
      "source": [
        "A.shape"
      ],
      "metadata": {
        "colab": {
          "base_uri": "https://localhost:8080/"
        },
        "id": "5Q2g4GTi_FcO",
        "outputId": "dd250d6c-37cf-4bcd-890d-03c7be4e7dfc"
      },
      "execution_count": null,
      "outputs": [
        {
          "output_type": "execute_result",
          "data": {
            "text/plain": [
              "(100,)"
            ]
          },
          "metadata": {},
          "execution_count": 6
        }
      ]
    },
    {
      "cell_type": "code",
      "source": [
        "A.shape = (5, 20)\n",
        "#共5列，每列有20個數據"
      ],
      "metadata": {
        "id": "gdn70tWf1du9"
      },
      "execution_count": null,
      "outputs": []
    },
    {
      "cell_type": "code",
      "source": [
        "A"
      ],
      "metadata": {
        "colab": {
          "base_uri": "https://localhost:8080/"
        },
        "id": "eWBz_mXD1dxo",
        "outputId": "8de54289-283c-4739-d620-28bb0d125109"
      },
      "execution_count": null,
      "outputs": [
        {
          "output_type": "execute_result",
          "data": {
            "text/plain": [
              "array([[50.46158415, 47.1955443 , 60.51786121, 37.07252768, 59.71403982,\n",
              "        66.81184189, 60.07243284, 49.17170863, 41.7313261 , 40.91640372,\n",
              "        31.32477927, 55.21367072, 32.21420401, 58.43427176, 47.60239126,\n",
              "        48.25019109, 51.746575  , 60.97005086, 56.34379858, 30.41246553],\n",
              "       [39.32859789, 46.0400024 , 62.78172354, 49.03884456, 42.34207895,\n",
              "        36.09325522, 31.78985883, 66.1100712 , 52.0817133 , 49.29131617,\n",
              "        39.22618324, 61.15216746, 45.05473975, 52.5004116 , 54.19199482,\n",
              "        50.35817954, 47.47293769, 49.63584027, 57.99492215, 72.28421114],\n",
              "       [44.01527189, 56.43111809, 57.69368509, 49.63946719, 51.50530099,\n",
              "        62.68730511, 57.81864783, 59.75444142, 47.33711566, 34.18016579,\n",
              "        41.22575838, 42.16285575, 46.14029994, 53.92363463, 31.55187953,\n",
              "        62.69618953, 58.5178405 , 47.61422084, 49.96343975, 49.23940312],\n",
              "       [62.63623273, 48.20571746, 66.87442251, 58.2430642 , 41.6060864 ,\n",
              "        57.15255866, 46.80898782, 33.90494339, 47.200095  , 44.302713  ,\n",
              "        69.60669372, 43.38164433, 47.37762806, 39.79806843, 65.55668184,\n",
              "        56.18264115, 57.56691431, 52.76686637, 34.84800879, 70.80628882],\n",
              "       [51.65975763, 80.8494515 , 34.76398322, 68.68274873, 60.15632564,\n",
              "        46.58092263, 49.36097294, 56.88441289, 46.82750745, 45.00152929,\n",
              "        50.77457186, 59.98841878, 50.2902544 , 52.0350434 , 48.05860164,\n",
              "        45.59236444, 59.48351586, 55.46515328, 47.22236964, 43.28645267]])"
            ]
          },
          "metadata": {},
          "execution_count": 8
        }
      ]
    },
    {
      "cell_type": "code",
      "source": [
        "# reshape: 另外一個改變array形狀的方法，會另外產生一個array\n",
        "A.reshape(100, 1)"
      ],
      "metadata": {
        "colab": {
          "base_uri": "https://localhost:8080/"
        },
        "id": "5vFbZsN71jCr",
        "outputId": "97e39212-28a2-4eb4-941b-069a87e2f5a7"
      },
      "execution_count": null,
      "outputs": [
        {
          "output_type": "execute_result",
          "data": {
            "text/plain": [
              "array([[50.46158415],\n",
              "       [47.1955443 ],\n",
              "       [60.51786121],\n",
              "       [37.07252768],\n",
              "       [59.71403982],\n",
              "       [66.81184189],\n",
              "       [60.07243284],\n",
              "       [49.17170863],\n",
              "       [41.7313261 ],\n",
              "       [40.91640372],\n",
              "       [31.32477927],\n",
              "       [55.21367072],\n",
              "       [32.21420401],\n",
              "       [58.43427176],\n",
              "       [47.60239126],\n",
              "       [48.25019109],\n",
              "       [51.746575  ],\n",
              "       [60.97005086],\n",
              "       [56.34379858],\n",
              "       [30.41246553],\n",
              "       [39.32859789],\n",
              "       [46.0400024 ],\n",
              "       [62.78172354],\n",
              "       [49.03884456],\n",
              "       [42.34207895],\n",
              "       [36.09325522],\n",
              "       [31.78985883],\n",
              "       [66.1100712 ],\n",
              "       [52.0817133 ],\n",
              "       [49.29131617],\n",
              "       [39.22618324],\n",
              "       [61.15216746],\n",
              "       [45.05473975],\n",
              "       [52.5004116 ],\n",
              "       [54.19199482],\n",
              "       [50.35817954],\n",
              "       [47.47293769],\n",
              "       [49.63584027],\n",
              "       [57.99492215],\n",
              "       [72.28421114],\n",
              "       [44.01527189],\n",
              "       [56.43111809],\n",
              "       [57.69368509],\n",
              "       [49.63946719],\n",
              "       [51.50530099],\n",
              "       [62.68730511],\n",
              "       [57.81864783],\n",
              "       [59.75444142],\n",
              "       [47.33711566],\n",
              "       [34.18016579],\n",
              "       [41.22575838],\n",
              "       [42.16285575],\n",
              "       [46.14029994],\n",
              "       [53.92363463],\n",
              "       [31.55187953],\n",
              "       [62.69618953],\n",
              "       [58.5178405 ],\n",
              "       [47.61422084],\n",
              "       [49.96343975],\n",
              "       [49.23940312],\n",
              "       [62.63623273],\n",
              "       [48.20571746],\n",
              "       [66.87442251],\n",
              "       [58.2430642 ],\n",
              "       [41.6060864 ],\n",
              "       [57.15255866],\n",
              "       [46.80898782],\n",
              "       [33.90494339],\n",
              "       [47.200095  ],\n",
              "       [44.302713  ],\n",
              "       [69.60669372],\n",
              "       [43.38164433],\n",
              "       [47.37762806],\n",
              "       [39.79806843],\n",
              "       [65.55668184],\n",
              "       [56.18264115],\n",
              "       [57.56691431],\n",
              "       [52.76686637],\n",
              "       [34.84800879],\n",
              "       [70.80628882],\n",
              "       [51.65975763],\n",
              "       [80.8494515 ],\n",
              "       [34.76398322],\n",
              "       [68.68274873],\n",
              "       [60.15632564],\n",
              "       [46.58092263],\n",
              "       [49.36097294],\n",
              "       [56.88441289],\n",
              "       [46.82750745],\n",
              "       [45.00152929],\n",
              "       [50.77457186],\n",
              "       [59.98841878],\n",
              "       [50.2902544 ],\n",
              "       [52.0350434 ],\n",
              "       [48.05860164],\n",
              "       [45.59236444],\n",
              "       [59.48351586],\n",
              "       [55.46515328],\n",
              "       [47.22236964],\n",
              "       [43.28645267]])"
            ]
          },
          "metadata": {},
          "execution_count": 10
        }
      ]
    },
    {
      "cell_type": "markdown",
      "source": [
        "## Array的快速生成法\n",
        "UML: https://moocs.nccu.edu.tw/mod/page/view.php?id=2480"
      ],
      "metadata": {
        "id": "cUvMlWZcu5dY"
      }
    },
    {
      "cell_type": "code",
      "source": [
        "%matplotlib inline\n",
        "import numpy as np\n",
        "import matplotlib.pyplot as plt"
      ],
      "metadata": {
        "id": "J_VT0H-fu9Qw"
      },
      "execution_count": null,
      "outputs": []
    },
    {
      "cell_type": "code",
      "source": [
        "xy = [[x, y] for x in range(10) for y in range(5)]"
      ],
      "metadata": {
        "id": "ScnrGMlU2LYe"
      },
      "execution_count": null,
      "outputs": []
    },
    {
      "cell_type": "code",
      "source": [
        "xy = np.array(xy)"
      ],
      "metadata": {
        "id": "3DFVBj6-2LbD"
      },
      "execution_count": null,
      "outputs": []
    },
    {
      "cell_type": "code",
      "source": [
        "xy"
      ],
      "metadata": {
        "colab": {
          "base_uri": "https://localhost:8080/"
        },
        "id": "axaghtuI2Ldn",
        "outputId": "65f0badf-b9ab-4c98-b62a-569452b2b867"
      },
      "execution_count": null,
      "outputs": [
        {
          "output_type": "execute_result",
          "data": {
            "text/plain": [
              "array([[0, 0],\n",
              "       [0, 1],\n",
              "       [0, 2],\n",
              "       [0, 3],\n",
              "       [0, 4],\n",
              "       [1, 0],\n",
              "       [1, 1],\n",
              "       [1, 2],\n",
              "       [1, 3],\n",
              "       [1, 4],\n",
              "       [2, 0],\n",
              "       [2, 1],\n",
              "       [2, 2],\n",
              "       [2, 3],\n",
              "       [2, 4],\n",
              "       [3, 0],\n",
              "       [3, 1],\n",
              "       [3, 2],\n",
              "       [3, 3],\n",
              "       [3, 4],\n",
              "       [4, 0],\n",
              "       [4, 1],\n",
              "       [4, 2],\n",
              "       [4, 3],\n",
              "       [4, 4],\n",
              "       [5, 0],\n",
              "       [5, 1],\n",
              "       [5, 2],\n",
              "       [5, 3],\n",
              "       [5, 4],\n",
              "       [6, 0],\n",
              "       [6, 1],\n",
              "       [6, 2],\n",
              "       [6, 3],\n",
              "       [6, 4],\n",
              "       [7, 0],\n",
              "       [7, 1],\n",
              "       [7, 2],\n",
              "       [7, 3],\n",
              "       [7, 4],\n",
              "       [8, 0],\n",
              "       [8, 1],\n",
              "       [8, 2],\n",
              "       [8, 3],\n",
              "       [8, 4],\n",
              "       [9, 0],\n",
              "       [9, 1],\n",
              "       [9, 2],\n",
              "       [9, 3],\n",
              "       [9, 4]])"
            ]
          },
          "metadata": {},
          "execution_count": 14
        }
      ]
    },
    {
      "cell_type": "code",
      "source": [
        "np.zeros(10)"
      ],
      "metadata": {
        "colab": {
          "base_uri": "https://localhost:8080/"
        },
        "id": "QR4PzJxR2Lfx",
        "outputId": "18c46819-daca-4a08-f887-de9e3bd2ccd5"
      },
      "execution_count": null,
      "outputs": [
        {
          "output_type": "execute_result",
          "data": {
            "text/plain": [
              "array([0., 0., 0., 0., 0., 0., 0., 0., 0., 0.])"
            ]
          },
          "metadata": {},
          "execution_count": 15
        }
      ]
    },
    {
      "cell_type": "code",
      "source": [
        "np.zeros((3, 4))"
      ],
      "metadata": {
        "colab": {
          "base_uri": "https://localhost:8080/"
        },
        "id": "HmiDLY6Y2LiJ",
        "outputId": "55e2cc49-aa6c-4c2b-da5b-6c24bb6b134a"
      },
      "execution_count": null,
      "outputs": [
        {
          "output_type": "execute_result",
          "data": {
            "text/plain": [
              "array([[0., 0., 0., 0.],\n",
              "       [0., 0., 0., 0.],\n",
              "       [0., 0., 0., 0.]])"
            ]
          },
          "metadata": {},
          "execution_count": 17
        }
      ]
    },
    {
      "cell_type": "code",
      "source": [
        "np.ones(5)"
      ],
      "metadata": {
        "colab": {
          "base_uri": "https://localhost:8080/"
        },
        "id": "igE9aL9m2Lki",
        "outputId": "d9ffb3ab-f63d-41e9-8fcf-9724e684a7f3"
      },
      "execution_count": null,
      "outputs": [
        {
          "output_type": "execute_result",
          "data": {
            "text/plain": [
              "array([1., 1., 1., 1., 1.])"
            ]
          },
          "metadata": {},
          "execution_count": 18
        }
      ]
    },
    {
      "cell_type": "code",
      "source": [
        "np.eye(5)"
      ],
      "metadata": {
        "colab": {
          "base_uri": "https://localhost:8080/"
        },
        "id": "_4R-DnBO2stm",
        "outputId": "719cf66f-7ca3-4e41-81da-8d0fcd27bd3f"
      },
      "execution_count": null,
      "outputs": [
        {
          "output_type": "execute_result",
          "data": {
            "text/plain": [
              "array([[1., 0., 0., 0., 0.],\n",
              "       [0., 1., 0., 0., 0.],\n",
              "       [0., 0., 1., 0., 0.],\n",
              "       [0., 0., 0., 1., 0.],\n",
              "       [0., 0., 0., 0., 1.]])"
            ]
          },
          "metadata": {},
          "execution_count": 20
        }
      ]
    },
    {
      "cell_type": "markdown",
      "source": [
        "## Array畫圖超方便\n",
        "UML: https://moocs.nccu.edu.tw/mod/page/view.php?id=2481"
      ],
      "metadata": {
        "id": "wF7Ryk5JvE0r"
      }
    },
    {
      "cell_type": "code",
      "source": [
        "%matplotlib inline\n",
        "import numpy as np\n",
        "import matplotlib.pyplot as plt"
      ],
      "metadata": {
        "id": "uaMmyDbZvHuA"
      },
      "execution_count": null,
      "outputs": []
    },
    {
      "cell_type": "code",
      "source": [
        "y = np.random.rand(50)"
      ],
      "metadata": {
        "id": "pL4VYA8-23pZ"
      },
      "execution_count": null,
      "outputs": []
    },
    {
      "cell_type": "code",
      "source": [
        "y"
      ],
      "metadata": {
        "colab": {
          "base_uri": "https://localhost:8080/"
        },
        "id": "NeqCuXV123sK",
        "outputId": "3c7c9942-9359-4411-d2c9-b5b7efa35d28"
      },
      "execution_count": null,
      "outputs": [
        {
          "output_type": "execute_result",
          "data": {
            "text/plain": [
              "array([0.07785327, 0.267881  , 0.76363028, 0.97272077, 0.34260375,\n",
              "       0.04276892, 0.4851534 , 0.07488711, 0.38224571, 0.508085  ,\n",
              "       0.76052694, 0.98834601, 0.23250527, 0.2443323 , 0.52324027,\n",
              "       0.13016646, 0.72268387, 0.85681857, 0.36853796, 0.99463373,\n",
              "       0.66070548, 0.99021153, 0.02846635, 0.88468535, 0.59311413,\n",
              "       0.9075431 , 0.89246947, 0.85093715, 0.49060346, 0.54602244,\n",
              "       0.25411808, 0.97719079, 0.60993102, 0.06394527, 0.83746432,\n",
              "       0.44891053, 0.79528484, 0.2012459 , 0.5118365 , 0.60228571,\n",
              "       0.01182458, 0.30968246, 0.93150439, 0.13608604, 0.17005847,\n",
              "       0.79422478, 0.58566705, 0.05791999, 0.3471938 , 0.82922299])"
            ]
          },
          "metadata": {},
          "execution_count": 23
        }
      ]
    },
    {
      "cell_type": "code",
      "source": [
        "plt.plot(y)"
      ],
      "metadata": {
        "colab": {
          "base_uri": "https://localhost:8080/",
          "height": 447
        },
        "id": "FhxMebVG23uO",
        "outputId": "09bf2e9d-39ad-4327-a931-5394c52d9bc9"
      },
      "execution_count": null,
      "outputs": [
        {
          "output_type": "execute_result",
          "data": {
            "text/plain": [
              "[<matplotlib.lines.Line2D at 0x7c34002b2aa0>]"
            ]
          },
          "metadata": {},
          "execution_count": 24
        },
        {
          "output_type": "display_data",
          "data": {
            "text/plain": [
              "<Figure size 640x480 with 1 Axes>"
            ],
            "image/png": "[encoded data removed]"
          },
          "metadata": {}
        }
      ]
    },
    {
      "cell_type": "code",
      "source": [
        "# x = np.linspace(起始值, 結束值, 多少點)\n",
        "x = np.linspace(0, 10, 100)"
      ],
      "metadata": {
        "id": "wI7-pCfy23wQ"
      },
      "execution_count": null,
      "outputs": []
    },
    {
      "cell_type": "code",
      "source": [
        "x"
      ],
      "metadata": {
        "colab": {
          "base_uri": "https://localhost:8080/"
        },
        "id": "uZhAIdZD3FKQ",
        "outputId": "3f5cf2d5-cc2f-4e33-8a51-5b09d6807d91"
      },
      "execution_count": null,
      "outputs": [
        {
          "output_type": "execute_result",
          "data": {
            "text/plain": [
              "array([ 0.        ,  0.1010101 ,  0.2020202 ,  0.3030303 ,  0.4040404 ,\n",
              "        0.50505051,  0.60606061,  0.70707071,  0.80808081,  0.90909091,\n",
              "        1.01010101,  1.11111111,  1.21212121,  1.31313131,  1.41414141,\n",
              "        1.51515152,  1.61616162,  1.71717172,  1.81818182,  1.91919192,\n",
              "        2.02020202,  2.12121212,  2.22222222,  2.32323232,  2.42424242,\n",
              "        2.52525253,  2.62626263,  2.72727273,  2.82828283,  2.92929293,\n",
              "        3.03030303,  3.13131313,  3.23232323,  3.33333333,  3.43434343,\n",
              "        3.53535354,  3.63636364,  3.73737374,  3.83838384,  3.93939394,\n",
              "        4.04040404,  4.14141414,  4.24242424,  4.34343434,  4.44444444,\n",
              "        4.54545455,  4.64646465,  4.74747475,  4.84848485,  4.94949495,\n",
              "        5.05050505,  5.15151515,  5.25252525,  5.35353535,  5.45454545,\n",
              "        5.55555556,  5.65656566,  5.75757576,  5.85858586,  5.95959596,\n",
              "        6.06060606,  6.16161616,  6.26262626,  6.36363636,  6.46464646,\n",
              "        6.56565657,  6.66666667,  6.76767677,  6.86868687,  6.96969697,\n",
              "        7.07070707,  7.17171717,  7.27272727,  7.37373737,  7.47474747,\n",
              "        7.57575758,  7.67676768,  7.77777778,  7.87878788,  7.97979798,\n",
              "        8.08080808,  8.18181818,  8.28282828,  8.38383838,  8.48484848,\n",
              "        8.58585859,  8.68686869,  8.78787879,  8.88888889,  8.98989899,\n",
              "        9.09090909,  9.19191919,  9.29292929,  9.39393939,  9.49494949,\n",
              "        9.5959596 ,  9.6969697 ,  9.7979798 ,  9.8989899 , 10.        ])"
            ]
          },
          "metadata": {},
          "execution_count": 28
        }
      ]
    },
    {
      "cell_type": "code",
      "source": [
        "# 代表用array一次算完sin(x) + x\n",
        "# 可以一次畫出兩種函數圖形\n",
        "plt.plot(x, np.sin(x) + x)\n",
        "plt.plot(x, np.cos(x))"
      ],
      "metadata": {
        "colab": {
          "base_uri": "https://localhost:8080/",
          "height": 447
        },
        "id": "7KuWzd3m3FMz",
        "outputId": "6cb51172-07ff-48ae-fc1d-a6a1b4bd82e9"
      },
      "execution_count": null,
      "outputs": [
        {
          "output_type": "execute_result",
          "data": {
            "text/plain": [
              "[<matplotlib.lines.Line2D at 0x7c33ea7688b0>]"
            ]
          },
          "metadata": {},
          "execution_count": 31
        },
        {
          "output_type": "display_data",
          "data": {
            "text/plain": [
              "<Figure size 640x480 with 1 Axes>"
            ],
            "image/png": "[encoded data removed]"
          },
          "metadata": {}
        }
      ]
    },
    {
      "cell_type": "markdown",
      "source": [
        "## Array快篩法\n",
        "UML: https://moocs.nccu.edu.tw/mod/page/view.php?id=2482"
      ],
      "metadata": {
        "id": "JuZWVqKOvIB4"
      }
    },
    {
      "cell_type": "code",
      "source": [
        "%matplotlib inline\n",
        "import numpy as np\n",
        "import matplotlib.pyplot as plt"
      ],
      "metadata": {
        "id": "e1X2ZZNRvLhZ"
      },
      "execution_count": null,
      "outputs": []
    },
    {
      "cell_type": "code",
      "source": [
        "L = np.array([3, -2, 4, -5, 333, -555, -60])"
      ],
      "metadata": {
        "id": "90aTGlNl3_97"
      },
      "execution_count": null,
      "outputs": []
    },
    {
      "cell_type": "code",
      "source": [
        "L<0"
      ],
      "metadata": {
        "colab": {
          "base_uri": "https://localhost:8080/"
        },
        "id": "m66ukQHC4AAf",
        "outputId": "71609ca3-a5d7-4009-c6b7-850259c5ba32"
      },
      "execution_count": null,
      "outputs": [
        {
          "output_type": "execute_result",
          "data": {
            "text/plain": [
              "array([False,  True, False,  True, False,  True,  True])"
            ]
          },
          "metadata": {},
          "execution_count": 34
        }
      ]
    },
    {
      "cell_type": "code",
      "source": [
        "L[0]"
      ],
      "metadata": {
        "colab": {
          "base_uri": "https://localhost:8080/"
        },
        "id": "_TBIj8FS4AC8",
        "outputId": "85504cbc-1c21-4b18-99fd-7d730f4c7e03"
      },
      "execution_count": null,
      "outputs": [
        {
          "output_type": "execute_result",
          "data": {
            "text/plain": [
              "3"
            ]
          },
          "metadata": {},
          "execution_count": 35
        }
      ]
    },
    {
      "cell_type": "code",
      "source": [
        "L[2:4]"
      ],
      "metadata": {
        "colab": {
          "base_uri": "https://localhost:8080/"
        },
        "id": "s05yUC3n4AHs",
        "outputId": "19201f0e-92f8-429e-ba4b-98b4e959322a"
      },
      "execution_count": null,
      "outputs": [
        {
          "output_type": "execute_result",
          "data": {
            "text/plain": [
              "array([ 4, -5])"
            ]
          },
          "metadata": {},
          "execution_count": 36
        }
      ]
    },
    {
      "cell_type": "code",
      "source": [
        "#從L array中，選出小於0的元素\n",
        "L[L<0]"
      ],
      "metadata": {
        "colab": {
          "base_uri": "https://localhost:8080/"
        },
        "id": "ugsOJgT74AKW",
        "outputId": "fa702a6b-7afb-4b40-e53b-ef672996403a"
      },
      "execution_count": null,
      "outputs": [
        {
          "output_type": "execute_result",
          "data": {
            "text/plain": [
              "array([  -2,   -5, -555,  -60])"
            ]
          },
          "metadata": {},
          "execution_count": 37
        }
      ]
    },
    {
      "cell_type": "code",
      "source": [
        "x = np.linspace(-5, 5, 500)\n",
        "y = np.sinc(x)\n",
        "\n",
        "plt.plot(x, y)"
      ],
      "metadata": {
        "colab": {
          "base_uri": "https://localhost:8080/",
          "height": 447
        },
        "id": "yXNuwgAa40pl",
        "outputId": "eaad5674-0604-4bae-b3c0-41542ef8cb84"
      },
      "execution_count": null,
      "outputs": [
        {
          "output_type": "execute_result",
          "data": {
            "text/plain": [
              "[<matplotlib.lines.Line2D at 0x7c33ea72b0d0>]"
            ]
          },
          "metadata": {},
          "execution_count": 42
        },
        {
          "output_type": "display_data",
          "data": {
            "text/plain": [
              "<Figure size 640x480 with 1 Axes>"
            ],
            "image/png": "[encoded data removed]"
          },
          "metadata": {}
        }
      ]
    },
    {
      "cell_type": "code",
      "source": [
        "plt.plot(x, y)\n",
        "plt.plot(x[y>0] , y[y>0], 'o')\n",
        "#將y>0的部分用\"o\"標示出來"
      ],
      "metadata": {
        "colab": {
          "base_uri": "https://localhost:8080/",
          "height": 447
        },
        "id": "4SZyWHQu40rm",
        "outputId": "da966863-e0f6-4edd-a8ed-ca24067c9b53"
      },
      "execution_count": null,
      "outputs": [
        {
          "output_type": "execute_result",
          "data": {
            "text/plain": [
              "[<matplotlib.lines.Line2D at 0x7c33e9354460>]"
            ]
          },
          "metadata": {},
          "execution_count": 43
        },
        {
          "output_type": "display_data",
          "data": {
            "text/plain": [
              "<Figure size 640x480 with 1 Axes>"
            ],
            "image/png": "[encoded data removed]"
          },
          "metadata": {}
        }
      ]
    },
    {
      "cell_type": "code",
      "source": [],
      "metadata": {
        "id": "bAgQsW3Q40tr"
      },
      "execution_count": null,
      "outputs": []
    },
    {
      "cell_type": "markdown",
      "source": [
        "## 助教 Office Hourweek 2+3\n",
        "UML: https://moocs.nccu.edu.tw/mod/page/view.php?id=2483"
      ],
      "metadata": {
        "id": "zXS2UvdnvL1a"
      }
    },
    {
      "cell_type": "markdown",
      "source": [
        "# 作業"
      ],
      "metadata": {
        "id": "ooHQ415g0aC3"
      }
    },
    {
      "cell_type": "markdown",
      "source": [
        "## 第一題\n",
        "\n",
        "寫一個求平均數的程式：讓使用者輸入一系列數字，然後使用 numpy 模組將它們存成陣列並求出平均數。"
      ],
      "metadata": {
        "id": "5vjfgbUs0cKN"
      }
    },
    {
      "cell_type": "code",
      "source": [
        "%matplotlib inline\n",
        "import numpy as np\n",
        "import matplotlib.pyplot as plt"
      ],
      "metadata": {
        "id": "sw0VfaNw0bN1"
      },
      "execution_count": null,
      "outputs": []
    },
    {
      "cell_type": "code",
      "source": [
        "numbers = input(\"請輸入一系列數字，以空格分隔: \").split()\n",
        "numbers = [float(num) for num in numbers] #for迴圈\n",
        "arr = np.array(numbers)\n",
        "avg = np.mean(arr)\n",
        "print(\"平均數:\", avg)"
      ],
      "metadata": {
        "colab": {
          "base_uri": "https://localhost:8080/"
        },
        "id": "ry-dwA5D6cHI",
        "outputId": "7d1d1879-9567-497a-ad6c-9348d1d09f66"
      },
      "execution_count": null,
      "outputs": [
        {
          "output_type": "stream",
          "name": "stdout",
          "text": [
            "請輸入一系列數字，以空格分隔: 2.5 3 4 5\n",
            "平均數: 3.625\n"
          ]
        }
      ]
    },
    {
      "cell_type": "markdown",
      "source": [
        "## 第二題\n",
        "\n",
        "寫一個求中位數的程式：讓使用者輸入一系列數字，然後使用 numpy 模組將它們存成陣列並求出中位數。"
      ],
      "metadata": {
        "id": "UZVXqYVq0jES"
      }
    },
    {
      "cell_type": "code",
      "source": [
        "numbers = input(\"請輸入一系列數字，以空格分隔: \").split()\n",
        "numbers = [float(num) for num in numbers]\n",
        "arr = np.array(numbers)\n",
        "med = np.median(arr)\n",
        "print(\"中位數:\", med)"
      ],
      "metadata": {
        "colab": {
          "base_uri": "https://localhost:8080/"
        },
        "id": "ztLov6ru0kM_",
        "outputId": "d1d35c8a-198c-447c-c540-0a4273bcda18"
      },
      "execution_count": null,
      "outputs": [
        {
          "output_type": "stream",
          "name": "stdout",
          "text": [
            "請輸入一系列數字，以空格分隔: 2.5 3 4 5\n",
            "中位數: 3.5\n"
          ]
        }
      ]
    },
    {
      "cell_type": "markdown",
      "source": [
        "## 第三題\n",
        "寫一個求變異數的程式：讓使用者輸入一系列數字，然後使用 numpy 模組將它們存成陣列並求出變異數。\n"
      ],
      "metadata": {
        "id": "xWzKxfHV0ko1"
      }
    },
    {
      "cell_type": "code",
      "source": [
        "numbers = input(\"請輸入一系列數字，以空格分隔: \").split()\n",
        "numbers = [float(num) for num in numbers]\n",
        "arr = np.array(numbers)\n",
        "var = np.var(arr)\n",
        "print(\"變異數:\", var)"
      ],
      "metadata": {
        "colab": {
          "base_uri": "https://localhost:8080/"
        },
        "id": "M4RTXFnO0li2",
        "outputId": "be966cc4-e8d0-437f-85da-c01b4c03a295"
      },
      "execution_count": null,
      "outputs": [
        {
          "output_type": "stream",
          "name": "stdout",
          "text": [
            "請輸入一系列數字，以空格分隔: 2.5 3 4 5\n",
            "變異數: 0.921875\n"
          ]
        }
      ]
    },
    {
      "cell_type": "markdown",
      "source": [
        "## 第四題\n",
        "寫一個尋找最大值和最小值的程式：讓使用者輸入一系列數字，然後使用 numpy 模組將它們存成陣列並尋找最大值和最小值。"
      ],
      "metadata": {
        "id": "KIymMpA00lzZ"
      }
    },
    {
      "cell_type": "code",
      "source": [
        "numbers = input(\"請輸入一系列數字，以空格分隔: \").split()\n",
        "numbers = [float(num) for num in numbers]\n",
        "arr = np.array(numbers)\n",
        "max_val = np.max(arr)\n",
        "min_val = np.min(arr)\n",
        "print(\"最大值:\", max_val)\n",
        "print(\"最小值:\", min_val)"
      ],
      "metadata": {
        "colab": {
          "base_uri": "https://localhost:8080/"
        },
        "id": "aaUPWMS-0m6e",
        "outputId": "d78e39c5-d5cf-49a5-f3f7-752ad295c38d"
      },
      "execution_count": null,
      "outputs": [
        {
          "output_type": "stream",
          "name": "stdout",
          "text": [
            "請輸入一系列數字，以空格分隔: 2.5 3 4 5\n",
            "最大值: 5.0\n",
            "最小值: 2.5\n"
          ]
        }
      ]
    },
    {
      "cell_type": "code",
      "source": [
        "北七 = [8, 7]"
      ],
      "metadata": {
        "id": "sVFds_U4E2ES"
      },
      "execution_count": null,
      "outputs": []
    },
    {
      "cell_type": "code",
      "source": [
        " 94*北七"
      ],
      "metadata": {
        "colab": {
          "base_uri": "https://localhost:8080/"
        },
        "id": "KdT_OWuCE3uP",
        "outputId": "6d11e4eb-5588-4d9f-ff35-0b8195e966d7"
      },
      "execution_count": null,
      "outputs": [
        {
          "output_type": "execute_result",
          "data": {
            "text/plain": [
              "[8,\n",
              " 7,\n",
              " 8,\n",
              " 7,\n",
              " 8,\n",
              " 7,\n",
              " 8,\n",
              " 7,\n",
              " 8,\n",
              " 7,\n",
              " 8,\n",
              " 7,\n",
              " 8,\n",
              " 7,\n",
              " 8,\n",
              " 7,\n",
              " 8,\n",
              " 7,\n",
              " 8,\n",
              " 7,\n",
              " 8,\n",
              " 7,\n",
              " 8,\n",
              " 7,\n",
              " 8,\n",
              " 7,\n",
              " 8,\n",
              " 7,\n",
              " 8,\n",
              " 7,\n",
              " 8,\n",
              " 7,\n",
              " 8,\n",
              " 7,\n",
              " 8,\n",
              " 7,\n",
              " 8,\n",
              " 7,\n",
              " 8,\n",
              " 7,\n",
              " 8,\n",
              " 7,\n",
              " 8,\n",
              " 7,\n",
              " 8,\n",
              " 7,\n",
              " 8,\n",
              " 7,\n",
              " 8,\n",
              " 7,\n",
              " 8,\n",
              " 7,\n",
              " 8,\n",
              " 7,\n",
              " 8,\n",
              " 7,\n",
              " 8,\n",
              " 7,\n",
              " 8,\n",
              " 7,\n",
              " 8,\n",
              " 7,\n",
              " 8,\n",
              " 7,\n",
              " 8,\n",
              " 7,\n",
              " 8,\n",
              " 7,\n",
              " 8,\n",
              " 7,\n",
              " 8,\n",
              " 7,\n",
              " 8,\n",
              " 7,\n",
              " 8,\n",
              " 7,\n",
              " 8,\n",
              " 7,\n",
              " 8,\n",
              " 7,\n",
              " 8,\n",
              " 7,\n",
              " 8,\n",
              " 7,\n",
              " 8,\n",
              " 7,\n",
              " 8,\n",
              " 7,\n",
              " 8,\n",
              " 7,\n",
              " 8,\n",
              " 7,\n",
              " 8,\n",
              " 7,\n",
              " 8,\n",
              " 7,\n",
              " 8,\n",
              " 7,\n",
              " 8,\n",
              " 7,\n",
              " 8,\n",
              " 7,\n",
              " 8,\n",
              " 7,\n",
              " 8,\n",
              " 7,\n",
              " 8,\n",
              " 7,\n",
              " 8,\n",
              " 7,\n",
              " 8,\n",
              " 7,\n",
              " 8,\n",
              " 7,\n",
              " 8,\n",
              " 7,\n",
              " 8,\n",
              " 7,\n",
              " 8,\n",
              " 7,\n",
              " 8,\n",
              " 7,\n",
              " 8,\n",
              " 7,\n",
              " 8,\n",
              " 7,\n",
              " 8,\n",
              " 7,\n",
              " 8,\n",
              " 7,\n",
              " 8,\n",
              " 7,\n",
              " 8,\n",
              " 7,\n",
              " 8,\n",
              " 7,\n",
              " 8,\n",
              " 7,\n",
              " 8,\n",
              " 7,\n",
              " 8,\n",
              " 7,\n",
              " 8,\n",
              " 7,\n",
              " 8,\n",
              " 7,\n",
              " 8,\n",
              " 7,\n",
              " 8,\n",
              " 7,\n",
              " 8,\n",
              " 7,\n",
              " 8,\n",
              " 7,\n",
              " 8,\n",
              " 7,\n",
              " 8,\n",
              " 7,\n",
              " 8,\n",
              " 7,\n",
              " 8,\n",
              " 7,\n",
              " 8,\n",
              " 7,\n",
              " 8,\n",
              " 7,\n",
              " 8,\n",
              " 7,\n",
              " 8,\n",
              " 7,\n",
              " 8,\n",
              " 7,\n",
              " 8,\n",
              " 7,\n",
              " 8,\n",
              " 7,\n",
              " 8,\n",
              " 7,\n",
              " 8,\n",
              " 7,\n",
              " 8,\n",
              " 7,\n",
              " 8,\n",
              " 7,\n",
              " 8,\n",
              " 7,\n",
              " 8,\n",
              " 7]"
            ]
          },
          "metadata": {},
          "execution_count": 2
        }
      ]
    },
    {
      "cell_type": "code",
      "source": [
        "A = [5, 5, 6, 6]\n",
        "\n",
        "B = [1, 3, 1, 4]"
      ],
      "metadata": {
        "id": "Yzly4a_TFAY5"
      },
      "execution_count": null,
      "outputs": []
    },
    {
      "cell_type": "code",
      "source": [
        "A+B"
      ],
      "metadata": {
        "colab": {
          "base_uri": "https://localhost:8080/"
        },
        "id": "fYyDQm45E7Pj",
        "outputId": "6185a4a9-f2c6-4601-bdf0-a703311f19cb"
      },
      "execution_count": null,
      "outputs": [
        {
          "output_type": "execute_result",
          "data": {
            "text/plain": [
              "[5, 5, 6, 6, 1, 3, 1, 4]"
            ]
          },
          "metadata": {},
          "execution_count": 4
        }
      ]
    },
    {
      "cell_type": "code",
      "source": [
        "import numpy as np\n",
        "五五六六 = np.linspace(56,5566)\n",
        "\n",
        "五五六六[五五六六<87]"
      ],
      "metadata": {
        "colab": {
          "base_uri": "https://localhost:8080/"
        },
        "id": "N49qmjzWFBmV",
        "outputId": "836187a7-3717-40a7-8d05-237851cc3d43"
      },
      "execution_count": null,
      "outputs": [
        {
          "output_type": "execute_result",
          "data": {
            "text/plain": [
              "array([56.])"
            ]
          },
          "metadata": {},
          "execution_count": 7
        }
      ]
    },
    {
      "cell_type": "code",
      "source": [
        "2 * np.array([13, 14, 55, 66])"
      ],
      "metadata": {
        "colab": {
          "base_uri": "https://localhost:8080/"
        },
        "id": "YNVZiV1mFFz1",
        "outputId": "c033eb77-a80e-4942-fbe3-a308901c30ed"
      },
      "execution_count": null,
      "outputs": [
        {
          "output_type": "execute_result",
          "data": {
            "text/plain": [
              "array([ 26,  28, 110, 132])"
            ]
          },
          "metadata": {},
          "execution_count": 8
        }
      ]
    },
    {
      "cell_type": "code",
      "source": [
        "year = 1\n",
        "\n",
        "l = [9,4,8,7]\n",
        "\n",
        "for i in l:\n",
        "\n",
        "    year = year*i"
      ],
      "metadata": {
        "id": "qjktSDiNFLBf"
      },
      "execution_count": null,
      "outputs": []
    },
    {
      "cell_type": "code",
      "source": [
        "year"
      ],
      "metadata": {
        "colab": {
          "base_uri": "https://localhost:8080/"
        },
        "id": "LFUiUJWCFNzD",
        "outputId": "c17e4b76-de03-453d-cb35-7eaef41efab3"
      },
      "execution_count": null,
      "outputs": [
        {
          "output_type": "execute_result",
          "data": {
            "text/plain": [
              "2016"
            ]
          },
          "metadata": {},
          "execution_count": 10
        }
      ]
    },
    {
      "cell_type": "code",
      "source": [
        "A = [1, 3, 1, 4]\n",
        "\n",
        "B = [5, 5, 6, 6]\n",
        "\n"
      ],
      "metadata": {
        "id": "ojeRqKA9FPV2"
      },
      "execution_count": null,
      "outputs": []
    },
    {
      "cell_type": "code",
      "source": [
        "八七字典 = {'就是':94, '北七':87}"
      ],
      "metadata": {
        "id": "0OCbLjl1FU2V"
      },
      "execution_count": null,
      "outputs": []
    },
    {
      "cell_type": "code",
      "source": [
        "八七字典['就是']+八七字典['北七']"
      ],
      "metadata": {
        "colab": {
          "base_uri": "https://localhost:8080/"
        },
        "id": "_pTd3R6OGf5f",
        "outputId": "fde14440-c2aa-40bb-f3a9-52a88200cac2"
      },
      "execution_count": null,
      "outputs": [
        {
          "output_type": "execute_result",
          "data": {
            "text/plain": [
              "181"
            ]
          },
          "metadata": {},
          "execution_count": 14
        }
      ]
    },
    {
      "cell_type": "code",
      "source": [
        "八七字典[0]+八七字典[1]"
      ],
      "metadata": {
        "colab": {
          "base_uri": "https://localhost:8080/",
          "height": 145
        },
        "id": "-Op8on4zGhQL",
        "outputId": "2ea016ae-d675-4993-bc89-c0420a2b59c4"
      },
      "execution_count": null,
      "outputs": [
        {
          "output_type": "error",
          "ename": "KeyError",
          "evalue": "0",
          "traceback": [
            "\u001b[0;31m---------------------------------------------------------------------------\u001b[0m",
            "\u001b[0;31mKeyError\u001b[0m                                  Traceback (most recent call last)",
            "\u001b[0;32m<ipython-input-15-3ac6521aa541>\u001b[0m in \u001b[0;36m<cell line: 1>\u001b[0;34m()\u001b[0m\n\u001b[0;32m----> 1\u001b[0;31m \u001b[0m八七字典\u001b[0m\u001b[0;34m[\u001b[0m\u001b[0;36m0\u001b[0m\u001b[0;34m]\u001b[0m\u001b[0;34m+\u001b[0m\u001b[0m八七字典\u001b[0m\u001b[0;34m[\u001b[0m\u001b[0;36m1\u001b[0m\u001b[0;34m]\u001b[0m\u001b[0;34m\u001b[0m\u001b[0;34m\u001b[0m\u001b[0m\n\u001b[0m",
            "\u001b[0;31mKeyError\u001b[0m: 0"
          ]
        }
      ]
    },
    {
      "cell_type": "code",
      "source": [
        "int(\"八七字典['就是']\"+\"八七字典['北七']\")"
      ],
      "metadata": {
        "colab": {
          "base_uri": "https://localhost:8080/",
          "height": 163
        },
        "id": "2VX1Q0e9Gi5l",
        "outputId": "24b140e6-2966-4b88-e0f3-dd6bc5ae9dfd"
      },
      "execution_count": null,
      "outputs": [
        {
          "output_type": "error",
          "ename": "ValueError",
          "evalue": "invalid literal for int() with base 10: \"八七字典['就是']八七字典['北七']\"",
          "traceback": [
            "\u001b[0;31m---------------------------------------------------------------------------\u001b[0m",
            "\u001b[0;31mValueError\u001b[0m                                Traceback (most recent call last)",
            "\u001b[0;32m<ipython-input-16-0ab34c1b43f3>\u001b[0m in \u001b[0;36m<cell line: 1>\u001b[0;34m()\u001b[0m\n\u001b[0;32m----> 1\u001b[0;31m \u001b[0mint\u001b[0m\u001b[0;34m(\u001b[0m\u001b[0;34m\"八七字典['就是']\"\u001b[0m\u001b[0;34m+\u001b[0m\u001b[0;34m\"八七字典['北七']\"\u001b[0m\u001b[0;34m)\u001b[0m\u001b[0;34m\u001b[0m\u001b[0;34m\u001b[0m\u001b[0m\n\u001b[0m",
            "\u001b[0;31mValueError\u001b[0m: invalid literal for int() with base 10: \"八七字典['就是']八七字典['北七']\""
          ]
        }
      ]
    },
    {
      "cell_type": "code",
      "source": [
        "八七字典['就是']*100+八七字典['北七']"
      ],
      "metadata": {
        "colab": {
          "base_uri": "https://localhost:8080/"
        },
        "id": "PysK4havGn-2",
        "outputId": "7eb1f163-53e8-4428-cc05-f342e3499a06"
      },
      "execution_count": null,
      "outputs": [
        {
          "output_type": "execute_result",
          "data": {
            "text/plain": [
              "9487"
            ]
          },
          "metadata": {},
          "execution_count": 17
        }
      ]
    },
    {
      "cell_type": "code",
      "source": [
        "我難過 = {'五五':55, '六六':66}"
      ],
      "metadata": {
        "id": "JoHlWHNzGpl7"
      },
      "execution_count": null,
      "outputs": []
    },
    {
      "cell_type": "code",
      "source": [
        "我難過{'五五'}+我難過{'六六'}"
      ],
      "metadata": {
        "colab": {
          "base_uri": "https://localhost:8080/",
          "height": 109
        },
        "id": "1_c5W1EjHPc4",
        "outputId": "e0adc148-1c61-435b-a821-e0a0e5002d64"
      },
      "execution_count": null,
      "outputs": [
        {
          "output_type": "error",
          "ename": "SyntaxError",
          "evalue": "invalid syntax (<ipython-input-19-d004e0c2123b>, line 1)",
          "traceback": [
            "\u001b[0;36m  File \u001b[0;32m\"<ipython-input-19-d004e0c2123b>\"\u001b[0;36m, line \u001b[0;32m1\u001b[0m\n\u001b[0;31m    我難過{'五五'}+我難過{'六六'}\u001b[0m\n\u001b[0m       ^\u001b[0m\n\u001b[0;31mSyntaxError\u001b[0m\u001b[0;31m:\u001b[0m invalid syntax\n"
          ]
        }
      ]
    },
    {
      "cell_type": "code",
      "source": [
        "我難過.{'五五'}+我難過.{'六六'}"
      ],
      "metadata": {
        "colab": {
          "base_uri": "https://localhost:8080/",
          "height": 109
        },
        "id": "hPFOjK_AHQ23",
        "outputId": "07e2e4f3-de0b-45cb-de7a-806d2c679417"
      },
      "execution_count": null,
      "outputs": [
        {
          "output_type": "error",
          "ename": "SyntaxError",
          "evalue": "invalid syntax (<ipython-input-20-b94fa4e4b6b0>, line 1)",
          "traceback": [
            "\u001b[0;36m  File \u001b[0;32m\"<ipython-input-20-b94fa4e4b6b0>\"\u001b[0;36m, line \u001b[0;32m1\u001b[0m\n\u001b[0;31m    我難過.{'五五'}+我難過.{'六六'}\u001b[0m\n\u001b[0m        ^\u001b[0m\n\u001b[0;31mSyntaxError\u001b[0m\u001b[0;31m:\u001b[0m invalid syntax\n"
          ]
        }
      ]
    },
    {
      "cell_type": "code",
      "source": [
        "我難過['五五']+我難過['六六']"
      ],
      "metadata": {
        "colab": {
          "base_uri": "https://localhost:8080/"
        },
        "id": "B5r526Q3HSRh",
        "outputId": "c763b996-c9b0-4288-a534-371b9850016e"
      },
      "execution_count": null,
      "outputs": [
        {
          "output_type": "execute_result",
          "data": {
            "text/plain": [
              "121"
            ]
          },
          "metadata": {},
          "execution_count": 21
        }
      ]
    },
    {
      "cell_type": "code",
      "source": [
        "int(\"{}\".format(我難過['五五'])+\"{}\".format(我難過['六六']))"
      ],
      "metadata": {
        "colab": {
          "base_uri": "https://localhost:8080/"
        },
        "id": "PaDhc2e9HT5P",
        "outputId": "95a5be34-72ab-44bc-ed9f-3421a05b83f7"
      },
      "execution_count": null,
      "outputs": [
        {
          "output_type": "execute_result",
          "data": {
            "text/plain": [
              "5566"
            ]
          },
          "metadata": {},
          "execution_count": 22
        }
      ]
    },
    {
      "cell_type": "code",
      "source": [
        "北七=[9,4,8,7]\n",
        "\n",
        "empty = []\n",
        "\n",
        "for i in enumerate(北七):\n",
        "\n",
        "    empty.append(i)\n",
        "\n"
      ],
      "metadata": {
        "id": "iVpXFdLoHVK2"
      },
      "execution_count": null,
      "outputs": []
    },
    {
      "cell_type": "code",
      "source": [
        "empty"
      ],
      "metadata": {
        "colab": {
          "base_uri": "https://localhost:8080/"
        },
        "id": "c8NSZ0DuHlF5",
        "outputId": "7afb4bc1-c5b3-4755-d50b-fb6006714a87"
      },
      "execution_count": null,
      "outputs": [
        {
          "output_type": "execute_result",
          "data": {
            "text/plain": [
              "[(0, 9), (1, 4), (2, 8), (3, 7)]"
            ]
          },
          "metadata": {},
          "execution_count": 24
        }
      ]
    },
    {
      "cell_type": "code",
      "source": [
        "八七 = {94:'就是', 87:'北七'}"
      ],
      "metadata": {
        "id": "9VuzPaRtHnXj"
      },
      "execution_count": null,
      "outputs": []
    },
    {
      "cell_type": "code",
      "source": [
        "八七[87]"
      ],
      "metadata": {
        "colab": {
          "base_uri": "https://localhost:8080/",
          "height": 36
        },
        "id": "v1S4t9icIh_m",
        "outputId": "fc9a82d3-ab45-4099-e765-eb1f7daeebc1"
      },
      "execution_count": null,
      "outputs": [
        {
          "output_type": "execute_result",
          "data": {
            "text/plain": [
              "'北七'"
            ],
            "application/vnd.google.colaboratory.intrinsic+json": {
              "type": "string"
            }
          },
          "metadata": {},
          "execution_count": 27
        }
      ]
    },
    {
      "cell_type": "code",
      "source": [
        "八七['北七']"
      ],
      "metadata": {
        "id": "UeqSmDFXJdCF",
        "outputId": "6d292f25-5fb9-4743-fc32-39d15c390010",
        "colab": {
          "base_uri": "https://localhost:8080/",
          "height": 145
        }
      },
      "execution_count": null,
      "outputs": [
        {
          "output_type": "error",
          "ename": "KeyError",
          "evalue": "'北七'",
          "traceback": [
            "\u001b[0;31m---------------------------------------------------------------------------\u001b[0m",
            "\u001b[0;31mKeyError\u001b[0m                                  Traceback (most recent call last)",
            "\u001b[0;32m<ipython-input-30-79728d51b750>\u001b[0m in \u001b[0;36m<cell line: 1>\u001b[0;34m()\u001b[0m\n\u001b[0;32m----> 1\u001b[0;31m \u001b[0m八七\u001b[0m\u001b[0;34m[\u001b[0m\u001b[0;34m'北七'\u001b[0m\u001b[0;34m]\u001b[0m\u001b[0;34m\u001b[0m\u001b[0;34m\u001b[0m\u001b[0m\n\u001b[0m",
            "\u001b[0;31mKeyError\u001b[0m: '北七'"
          ]
        }
      ]
    },
    {
      "cell_type": "code",
      "source": [
        " X = ['a', 'b', 'c']"
      ],
      "metadata": {
        "id": "wDgjyTFyIi7W"
      },
      "execution_count": null,
      "outputs": []
    },
    {
      "cell_type": "code",
      "source": [
        "list(enumerate(X))"
      ],
      "metadata": {
        "colab": {
          "base_uri": "https://localhost:8080/"
        },
        "id": "z4Rc7Sn9Iogo",
        "outputId": "97c63378-2e1e-4537-a0d7-4008d21d4e7f"
      },
      "execution_count": null,
      "outputs": [
        {
          "output_type": "execute_result",
          "data": {
            "text/plain": [
              "[(0, 'a'), (1, 'b'), (2, 'c')]"
            ]
          },
          "metadata": {},
          "execution_count": 29
        }
      ]
    },
    {
      "cell_type": "code",
      "source": [],
      "metadata": {
        "id": "R0SqQolCIplf"
      },
      "execution_count": null,
      "outputs": []
    }
  ]
}
