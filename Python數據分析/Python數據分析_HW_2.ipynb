{
  "nbformat": 4,
  "nbformat_minor": 0,
  "metadata": {
    "colab": {
      "provenance": [],
      "authorship_tag": "ABX9TyMawTiROBr3fwSx9pmMqi1T",
      "include_colab_link": true
    },
    "kernelspec": {
      "name": "python3",
      "display_name": "Python 3"
    },
    "language_info": {
      "name": "python"
    }
  },
  "cells": [
    {
      "cell_type": "markdown",
      "metadata": {
        "id": "view-in-github",
        "colab_type": "text"
      },
      "source": [
        "<a href=\"https://colab.research.google.com/github/melody016861/melody_Portfolio.github.io/blob/main/Python%E6%95%B8%E6%93%9A%E5%88%86%E6%9E%90_HW_2.ipynb\" target=\"_parent\"><img src=\"https://colab.research.google.com/assets/colab-badge.svg\" alt=\"Open In Colab\"/></a>"
      ]
    },
    {
      "cell_type": "markdown",
      "source": [
        "#第二周_上課內容\n",
        "Python程式基礎II 迴圈、條件判斷\n",
        "\n"
      ],
      "metadata": {
        "id": "9wjjU7vppDSm"
      }
    },
    {
      "cell_type": "markdown",
      "source": [
        "## 條件判斷\n",
        "UML: https://moocs.nccu.edu.tw/mod/page/view.php?id=2457"
      ],
      "metadata": {
        "id": "s1pcpW3Lpiuq"
      }
    },
    {
      "cell_type": "markdown",
      "source": [
        "### 基本條件判斷"
      ],
      "metadata": {
        "id": "YeeG_k2PraGx"
      }
    },
    {
      "cell_type": "code",
      "source": [
        "2 < 3"
      ],
      "metadata": {
        "colab": {
          "base_uri": "https://localhost:8080/"
        },
        "id": "hky10K_IpiSO",
        "outputId": "351670d7-65f9-483e-d8f5-0324993fbc1b"
      },
      "execution_count": null,
      "outputs": [
        {
          "output_type": "execute_result",
          "data": {
            "text/plain": [
              "True"
            ]
          },
          "metadata": {},
          "execution_count": 15
        }
      ]
    },
    {
      "cell_type": "code",
      "source": [
        "5 > 20"
      ],
      "metadata": {
        "colab": {
          "base_uri": "https://localhost:8080/"
        },
        "id": "Q7-lt-azrfF4",
        "outputId": "5e4c0b9c-1f83-4c3d-b8a2-ca2778aea57e"
      },
      "execution_count": null,
      "outputs": [
        {
          "output_type": "execute_result",
          "data": {
            "text/plain": [
              "False"
            ]
          },
          "metadata": {},
          "execution_count": 17
        }
      ]
    },
    {
      "cell_type": "code",
      "source": [
        "2 <= 3"
      ],
      "metadata": {
        "colab": {
          "base_uri": "https://localhost:8080/"
        },
        "id": "g8thSrsxrfM0",
        "outputId": "6b6503ca-1149-48ed-cc3c-1b9f8d2e7d2d"
      },
      "execution_count": null,
      "outputs": [
        {
          "output_type": "execute_result",
          "data": {
            "text/plain": [
              "True"
            ]
          },
          "metadata": {},
          "execution_count": 18
        }
      ]
    },
    {
      "cell_type": "code",
      "source": [
        "a = 87"
      ],
      "metadata": {
        "id": "YZuw7N-xrfUZ"
      },
      "execution_count": null,
      "outputs": []
    },
    {
      "cell_type": "code",
      "source": [
        "a > 50"
      ],
      "metadata": {
        "colab": {
          "base_uri": "https://localhost:8080/"
        },
        "id": "HD1DMZKurn78",
        "outputId": "afefc9cf-c521-4251-87a9-e136162e8c12"
      },
      "execution_count": null,
      "outputs": [
        {
          "output_type": "execute_result",
          "data": {
            "text/plain": [
              "True"
            ]
          },
          "metadata": {},
          "execution_count": 20
        }
      ]
    },
    {
      "cell_type": "code",
      "source": [
        "a == 90"
      ],
      "metadata": {
        "colab": {
          "base_uri": "https://localhost:8080/"
        },
        "id": "-x6Z8D4NrpwF",
        "outputId": "cc8aa5ba-c3a6-40d5-f37b-021502b0bf45"
      },
      "execution_count": null,
      "outputs": [
        {
          "output_type": "execute_result",
          "data": {
            "text/plain": [
              "False"
            ]
          },
          "metadata": {},
          "execution_count": 21
        }
      ]
    },
    {
      "cell_type": "code",
      "source": [
        "a != 90"
      ],
      "metadata": {
        "colab": {
          "base_uri": "https://localhost:8080/"
        },
        "id": "8fBA2BPvrp3C",
        "outputId": "7858153b-a592-4602-9cc8-521f94d48620"
      },
      "execution_count": null,
      "outputs": [
        {
          "output_type": "execute_result",
          "data": {
            "text/plain": [
              "True"
            ]
          },
          "metadata": {},
          "execution_count": 22
        }
      ]
    },
    {
      "cell_type": "code",
      "source": [
        "\"z\" > \"a\""
      ],
      "metadata": {
        "colab": {
          "base_uri": "https://localhost:8080/"
        },
        "id": "uG-L5AWKrp9u",
        "outputId": "4f258755-8f6d-4ddb-ec6f-fce3227aeefc"
      },
      "execution_count": null,
      "outputs": [
        {
          "output_type": "execute_result",
          "data": {
            "text/plain": [
              "True"
            ]
          },
          "metadata": {},
          "execution_count": 23
        }
      ]
    },
    {
      "cell_type": "markdown",
      "source": [
        "### and 和 or\n",
        "\n",
        "\n",
        "\n",
        "> 建議可以利用括號把判斷的東西包起來，對於自己和電腦來說都會比較容意理解。\n",
        "\n",
        "\n",
        "\n"
      ],
      "metadata": {
        "id": "BA8WunAhr2f2"
      }
    },
    {
      "cell_type": "code",
      "source": [
        "(a>50) and (a<100)"
      ],
      "metadata": {
        "colab": {
          "base_uri": "https://localhost:8080/"
        },
        "id": "dc91ZapNr5Fj",
        "outputId": "ca955420-b95a-40f8-f04c-100685ad956c"
      },
      "execution_count": null,
      "outputs": [
        {
          "output_type": "execute_result",
          "data": {
            "text/plain": [
              "True"
            ]
          },
          "metadata": {},
          "execution_count": 25
        }
      ]
    },
    {
      "cell_type": "code",
      "source": [
        "(a>50) or (a<3)"
      ],
      "metadata": {
        "colab": {
          "base_uri": "https://localhost:8080/"
        },
        "id": "3e_Rffvgr5OF",
        "outputId": "513dc10d-8e6a-42c3-9762-1f93c0559615"
      },
      "execution_count": null,
      "outputs": [
        {
          "output_type": "execute_result",
          "data": {
            "text/plain": [
              "True"
            ]
          },
          "metadata": {},
          "execution_count": 26
        }
      ]
    },
    {
      "cell_type": "markdown",
      "source": [
        "## 用迴圈做拍拍機器人\n",
        "UML: https://moocs.nccu.edu.tw/mod/page/view.php?id=2458"
      ],
      "metadata": {
        "id": "ksaBvHzkpmGV"
      }
    },
    {
      "cell_type": "markdown",
      "source": [
        "### 小技巧"
      ],
      "metadata": {
        "id": "GAtHQCaBsZyA"
      }
    },
    {
      "cell_type": "code",
      "source": [
        "a = 0"
      ],
      "metadata": {
        "id": "Zkn465ODppAW"
      },
      "execution_count": null,
      "outputs": []
    },
    {
      "cell_type": "code",
      "source": [
        "a = a + 1"
      ],
      "metadata": {
        "id": "vTdTrba_2A8T"
      },
      "execution_count": null,
      "outputs": []
    },
    {
      "cell_type": "code",
      "source": [
        "a"
      ],
      "metadata": {
        "colab": {
          "base_uri": "https://localhost:8080/"
        },
        "id": "pTBfwUUu2A_y",
        "outputId": "67506255-fa1c-42f0-871a-64c18222c228"
      },
      "execution_count": null,
      "outputs": [
        {
          "output_type": "execute_result",
          "data": {
            "text/plain": [
              "1"
            ]
          },
          "metadata": {},
          "execution_count": 3
        }
      ]
    },
    {
      "cell_type": "code",
      "source": [
        "a = a + 1"
      ],
      "metadata": {
        "id": "R7RCYcdI2BDU"
      },
      "execution_count": null,
      "outputs": []
    },
    {
      "cell_type": "code",
      "source": [
        "a"
      ],
      "metadata": {
        "colab": {
          "base_uri": "https://localhost:8080/"
        },
        "id": "avWbyjE22BGC",
        "outputId": "a855eeb6-7774-4e01-c41d-9ae546f2f9b5"
      },
      "execution_count": null,
      "outputs": [
        {
          "output_type": "execute_result",
          "data": {
            "text/plain": [
              "2"
            ]
          },
          "metadata": {},
          "execution_count": 5
        }
      ]
    },
    {
      "cell_type": "code",
      "source": [
        "a = a + 1"
      ],
      "metadata": {
        "id": "7jDNxvf72BIQ"
      },
      "execution_count": null,
      "outputs": []
    },
    {
      "cell_type": "code",
      "source": [
        "a"
      ],
      "metadata": {
        "colab": {
          "base_uri": "https://localhost:8080/"
        },
        "id": "shaLzTZU2IOG",
        "outputId": "0444a890-3515-4ad3-faf6-e026994fa5bf"
      },
      "execution_count": null,
      "outputs": [
        {
          "output_type": "execute_result",
          "data": {
            "text/plain": [
              "3"
            ]
          },
          "metadata": {},
          "execution_count": 7
        }
      ]
    },
    {
      "cell_type": "markdown",
      "source": [
        "### 迴圈"
      ],
      "metadata": {
        "id": "1lvv3Spe2KE9"
      }
    },
    {
      "cell_type": "code",
      "source": [
        "s = 0\n",
        "while s < 10:\n",
        "  print(\"*\" * s)\n",
        "  s = s + 1"
      ],
      "metadata": {
        "colab": {
          "base_uri": "https://localhost:8080/"
        },
        "id": "c0vudbZ92IRL",
        "outputId": "f700dec2-f78e-4801-ec05-7ab412deecb7"
      },
      "execution_count": null,
      "outputs": [
        {
          "output_type": "stream",
          "name": "stdout",
          "text": [
            "\n",
            "*\n",
            "**\n",
            "***\n",
            "****\n",
            "*****\n",
            "******\n",
            "*******\n",
            "********\n",
            "*********\n"
          ]
        }
      ]
    },
    {
      "cell_type": "markdown",
      "source": [
        "### 拍拍機器人 v1.0"
      ],
      "metadata": {
        "id": "j-t1Diuu2gZ9"
      }
    },
    {
      "cell_type": "code",
      "source": [
        "message = \"\"\n",
        "while message != \"bye\":\n",
        "  message = input(\">> \")\n",
        "  print(\"拍拍\")"
      ],
      "metadata": {
        "colab": {
          "base_uri": "https://localhost:8080/"
        },
        "id": "4cVcwaqv2IT2",
        "outputId": "9a999a76-81ca-4495-9ee6-ba39d4f8bcea"
      },
      "execution_count": null,
      "outputs": [
        {
          "output_type": "stream",
          "name": "stdout",
          "text": [
            ">> 我今天好多作業\n",
            "拍拍\n",
            ">> 寫都寫不完\n",
            "拍拍\n",
            ">> bye\n",
            "拍拍\n"
          ]
        }
      ]
    },
    {
      "cell_type": "markdown",
      "source": [
        "## 字串簡簡單單格式化\n",
        "UML: https://moocs.nccu.edu.tw/mod/page/view.php?id=2459"
      ],
      "metadata": {
        "id": "IeFg1G7dppQQ"
      }
    },
    {
      "cell_type": "markdown",
      "source": [
        "### 字串格式化"
      ],
      "metadata": {
        "id": "dP4du9oF24Xi"
      }
    },
    {
      "cell_type": "code",
      "source": [
        "name = \"詠琪\"\n",
        "place = \"台北\""
      ],
      "metadata": {
        "id": "snvCxxzAprO7"
      },
      "execution_count": null,
      "outputs": []
    },
    {
      "cell_type": "code",
      "source": [
        "message = \"你好，來自\" + place + \"的\" + name + \"!\""
      ],
      "metadata": {
        "id": "AeM-tk2F2-Ac"
      },
      "execution_count": null,
      "outputs": []
    },
    {
      "cell_type": "code",
      "source": [
        "print(message)"
      ],
      "metadata": {
        "colab": {
          "base_uri": "https://localhost:8080/"
        },
        "id": "L3rO-sdd2_Lg",
        "outputId": "d76e597d-8866-4e98-bea2-bab940c2b9f4"
      },
      "execution_count": null,
      "outputs": [
        {
          "output_type": "stream",
          "name": "stdout",
          "text": [
            "你好，來自台北的詠琪!\n"
          ]
        }
      ]
    },
    {
      "cell_type": "code",
      "source": [
        "message = \"你好，來自{}的{}!\".format(place, name)"
      ],
      "metadata": {
        "id": "Zj2Osrgl2_Pz"
      },
      "execution_count": null,
      "outputs": []
    },
    {
      "cell_type": "code",
      "source": [
        "print(message)"
      ],
      "metadata": {
        "colab": {
          "base_uri": "https://localhost:8080/"
        },
        "id": "ekUesFFR2_SV",
        "outputId": "fa4814e8-9349-43bd-a633-190d392835e9"
      },
      "execution_count": null,
      "outputs": [
        {
          "output_type": "stream",
          "name": "stdout",
          "text": [
            "你好，來自台北的詠琪!\n"
          ]
        }
      ]
    },
    {
      "cell_type": "markdown",
      "source": [
        "### 資料型態不用擔心!"
      ],
      "metadata": {
        "id": "XVjHTHz43V3w"
      }
    },
    {
      "cell_type": "code",
      "source": [
        "m = 270\n",
        "print(str(m) + \"合台幣\" + str(m*30.5) + \"元\")"
      ],
      "metadata": {
        "colab": {
          "base_uri": "https://localhost:8080/"
        },
        "id": "MP5bl7lP2_UQ",
        "outputId": "700227ac-fcba-4dec-a0d0-43a8c07d1746"
      },
      "execution_count": null,
      "outputs": [
        {
          "output_type": "stream",
          "name": "stdout",
          "text": [
            "270合台幣8235.0元\n"
          ]
        }
      ]
    },
    {
      "cell_type": "code",
      "source": [
        "print(\"{}合台幣{}元\".format(m, m*30.5))"
      ],
      "metadata": {
        "colab": {
          "base_uri": "https://localhost:8080/"
        },
        "id": "kRqtio7l3YYC",
        "outputId": "7e194d9c-8fcf-4b4c-a83e-54c72953bf64"
      },
      "execution_count": null,
      "outputs": [
        {
          "output_type": "stream",
          "name": "stdout",
          "text": [
            "270合台幣8235.0元\n"
          ]
        }
      ]
    },
    {
      "cell_type": "markdown",
      "source": [
        "## 函數寫法初級\n",
        "UML: https://moocs.nccu.edu.tw/mod/page/view.php?id=2460"
      ],
      "metadata": {
        "id": "UY9bCHDOprcj"
      }
    },
    {
      "cell_type": "markdown",
      "source": [
        "### 函數基本寫法"
      ],
      "metadata": {
        "id": "IkqXo23-3zIE"
      }
    },
    {
      "cell_type": "code",
      "source": [
        "def square(x):\n",
        "  return x**2"
      ],
      "metadata": {
        "id": "rnGf0dskprs0"
      },
      "execution_count": null,
      "outputs": []
    },
    {
      "cell_type": "code",
      "source": [
        "square(3)"
      ],
      "metadata": {
        "colab": {
          "base_uri": "https://localhost:8080/"
        },
        "id": "FCQ5DV6U31S4",
        "outputId": "a9d25c8e-dc74-43d3-8ef7-1b19d1fa9dc2"
      },
      "execution_count": null,
      "outputs": [
        {
          "output_type": "execute_result",
          "data": {
            "text/plain": [
              "9"
            ]
          },
          "metadata": {},
          "execution_count": 20
        }
      ]
    },
    {
      "cell_type": "code",
      "source": [
        "square(10)"
      ],
      "metadata": {
        "colab": {
          "base_uri": "https://localhost:8080/"
        },
        "id": "LFr37ZCw3_ze",
        "outputId": "fbc85f4c-c51f-48fb-a583-73880135ccb8"
      },
      "execution_count": null,
      "outputs": [
        {
          "output_type": "execute_result",
          "data": {
            "text/plain": [
              "100"
            ]
          },
          "metadata": {},
          "execution_count": 21
        }
      ]
    },
    {
      "cell_type": "markdown",
      "source": [
        "### 看來一樣的函數"
      ],
      "metadata": {
        "id": "IQRcB24131rA"
      }
    },
    {
      "cell_type": "code",
      "source": [
        "def 平方(甲):\n",
        "  print(甲 ** 2)"
      ],
      "metadata": {
        "id": "sYe0oMd034Zu"
      },
      "execution_count": null,
      "outputs": []
    },
    {
      "cell_type": "code",
      "source": [
        "平方(3)"
      ],
      "metadata": {
        "colab": {
          "base_uri": "https://localhost:8080/"
        },
        "id": "vzLObDwI4Ckn",
        "outputId": "60379b97-4b76-48f1-f106-f2516c67ca65"
      },
      "execution_count": null,
      "outputs": [
        {
          "output_type": "stream",
          "name": "stdout",
          "text": [
            "9\n"
          ]
        }
      ]
    },
    {
      "cell_type": "code",
      "source": [
        "平方(10)"
      ],
      "metadata": {
        "colab": {
          "base_uri": "https://localhost:8080/"
        },
        "id": "65v6fD034CnV",
        "outputId": "bde2b186-47ca-4864-b17a-b69e511034d9"
      },
      "execution_count": null,
      "outputs": [
        {
          "output_type": "stream",
          "name": "stdout",
          "text": [
            "100\n"
          ]
        }
      ]
    },
    {
      "cell_type": "code",
      "source": [
        "a = square(87)"
      ],
      "metadata": {
        "id": "b6Oiu1gp4Nac"
      },
      "execution_count": null,
      "outputs": []
    },
    {
      "cell_type": "code",
      "source": [
        "a"
      ],
      "metadata": {
        "colab": {
          "base_uri": "https://localhost:8080/"
        },
        "id": "XwTMsNIf4NdR",
        "outputId": "a6307e16-7fc3-42ca-dade-19b08e3cd4da"
      },
      "execution_count": null,
      "outputs": [
        {
          "output_type": "execute_result",
          "data": {
            "text/plain": [
              "7569"
            ]
          },
          "metadata": {},
          "execution_count": 27
        }
      ]
    },
    {
      "cell_type": "code",
      "source": [
        "b = 平方(87)"
      ],
      "metadata": {
        "colab": {
          "base_uri": "https://localhost:8080/"
        },
        "id": "yLXRH2SA4Sou",
        "outputId": "af9999ac-0c34-44fc-be8c-62e468bc0af2"
      },
      "execution_count": null,
      "outputs": [
        {
          "output_type": "stream",
          "name": "stdout",
          "text": [
            "7569\n"
          ]
        }
      ]
    },
    {
      "cell_type": "code",
      "source": [
        "b"
      ],
      "metadata": {
        "id": "r8vtkIAb4SrV"
      },
      "execution_count": null,
      "outputs": []
    },
    {
      "cell_type": "markdown",
      "source": [
        "## 函數的練習\n",
        "UML: https://moocs.nccu.edu.tw/mod/page/view.php?id=2461"
      ],
      "metadata": {
        "id": "9VyBzjuVpwjF"
      }
    },
    {
      "cell_type": "code",
      "source": [
        "def say_hi(name, place):\n",
        "  message = \"你好，來自{}的{}!\".format(place, name)\n",
        "  return message"
      ],
      "metadata": {
        "id": "qWXgMD_xpwqN"
      },
      "execution_count": null,
      "outputs": []
    },
    {
      "cell_type": "code",
      "source": [
        "say_hi(\"依晨\", \"羅東\")"
      ],
      "metadata": {
        "colab": {
          "base_uri": "https://localhost:8080/",
          "height": 35
        },
        "id": "lmhpmfFR4qCx",
        "outputId": "13ff2462-789d-4e40-901d-15a1df01be43"
      },
      "execution_count": null,
      "outputs": [
        {
          "output_type": "execute_result",
          "data": {
            "text/plain": [
              "'你好，來自羅東的依晨!'"
            ],
            "application/vnd.google.colaboratory.intrinsic+json": {
              "type": "string"
            }
          },
          "metadata": {},
          "execution_count": 32
        }
      ]
    },
    {
      "cell_type": "code",
      "source": [
        "say_hi(\"綺貞\", \"台北\")"
      ],
      "metadata": {
        "colab": {
          "base_uri": "https://localhost:8080/",
          "height": 35
        },
        "id": "tXShf1hw4qFL",
        "outputId": "bdf2086c-fb8f-45ee-f08f-4df4dc6e0f22"
      },
      "execution_count": null,
      "outputs": [
        {
          "output_type": "execute_result",
          "data": {
            "text/plain": [
              "'你好，來自台北的綺貞!'"
            ],
            "application/vnd.google.colaboratory.intrinsic+json": {
              "type": "string"
            }
          },
          "metadata": {},
          "execution_count": 33
        }
      ]
    },
    {
      "cell_type": "markdown",
      "source": [
        "## List的切割\n",
        "UML: https://moocs.nccu.edu.tw/mod/page/view.php?id=2462"
      ],
      "metadata": {
        "id": "a4_uGicMp2IK"
      }
    },
    {
      "cell_type": "markdown",
      "source": [
        "###取得我們想要的元素\n",
        "位置的index是從0開始。"
      ],
      "metadata": {
        "id": "w4a5E9lR45ko"
      }
    },
    {
      "cell_type": "code",
      "source": [
        "l = [3, -5, 6, 8, 10]"
      ],
      "metadata": {
        "id": "JSb9e1ysp2QS"
      },
      "execution_count": null,
      "outputs": []
    },
    {
      "cell_type": "code",
      "source": [
        "l"
      ],
      "metadata": {
        "colab": {
          "base_uri": "https://localhost:8080/"
        },
        "id": "v4bnn22a5FGe",
        "outputId": "33deb176-30fc-4156-9d44-b63683112b74"
      },
      "execution_count": null,
      "outputs": [
        {
          "output_type": "execute_result",
          "data": {
            "text/plain": [
              "[3, -5, 6, 8, 10]"
            ]
          },
          "metadata": {},
          "execution_count": 38
        }
      ]
    },
    {
      "cell_type": "code",
      "source": [
        "l[2]"
      ],
      "metadata": {
        "colab": {
          "base_uri": "https://localhost:8080/"
        },
        "id": "rKAycoEO5GIr",
        "outputId": "3464856d-9006-47e8-f788-6f0f80b9fd13"
      },
      "execution_count": null,
      "outputs": [
        {
          "output_type": "execute_result",
          "data": {
            "text/plain": [
              "6"
            ]
          },
          "metadata": {},
          "execution_count": 39
        }
      ]
    },
    {
      "cell_type": "code",
      "source": [
        "l[3]"
      ],
      "metadata": {
        "colab": {
          "base_uri": "https://localhost:8080/"
        },
        "id": "wt9znaS45GTO",
        "outputId": "3445cd04-552e-4989-9aa2-35965b217a58"
      },
      "execution_count": null,
      "outputs": [
        {
          "output_type": "execute_result",
          "data": {
            "text/plain": [
              "8"
            ]
          },
          "metadata": {},
          "execution_count": 40
        }
      ]
    },
    {
      "cell_type": "markdown",
      "source": [
        "###list 華麗的切割技巧\n",
        "事實上切分點是在list元素和元素之間，而且反過來算也可以喔。"
      ],
      "metadata": {
        "id": "zPpBhCxb5QSz"
      }
    },
    {
      "cell_type": "code",
      "source": [
        "l[2]"
      ],
      "metadata": {
        "colab": {
          "base_uri": "https://localhost:8080/"
        },
        "id": "VJmTI0vW5GV8",
        "outputId": "84d90f24-2478-4a9b-9dda-d526af7771ce"
      },
      "execution_count": null,
      "outputs": [
        {
          "output_type": "execute_result",
          "data": {
            "text/plain": [
              "6"
            ]
          },
          "metadata": {},
          "execution_count": 41
        }
      ]
    },
    {
      "cell_type": "code",
      "source": [
        "l[1:3]"
      ],
      "metadata": {
        "colab": {
          "base_uri": "https://localhost:8080/"
        },
        "id": "PpPS-G2_5GYR",
        "outputId": "564dfba5-2c13-4717-b66a-c520761d394b"
      },
      "execution_count": null,
      "outputs": [
        {
          "output_type": "execute_result",
          "data": {
            "text/plain": [
              "[-5, 6]"
            ]
          },
          "metadata": {},
          "execution_count": 42
        }
      ]
    },
    {
      "cell_type": "code",
      "source": [
        "l[2:5]"
      ],
      "metadata": {
        "colab": {
          "base_uri": "https://localhost:8080/"
        },
        "id": "4R2CzwvL5GaZ",
        "outputId": "9fac3721-06f9-4cda-a484-c43b15736584"
      },
      "execution_count": null,
      "outputs": [
        {
          "output_type": "execute_result",
          "data": {
            "text/plain": [
              "[6, 8, 10]"
            ]
          },
          "metadata": {},
          "execution_count": 43
        }
      ]
    },
    {
      "cell_type": "code",
      "source": [
        "# 範圍是從 2 到最後\n",
        "l[2:]"
      ],
      "metadata": {
        "colab": {
          "base_uri": "https://localhost:8080/"
        },
        "id": "cUtCWtlI5GcJ",
        "outputId": "eeef2d10-928d-440e-e92d-1325bd0fc3f8"
      },
      "execution_count": null,
      "outputs": [
        {
          "output_type": "execute_result",
          "data": {
            "text/plain": [
              "[6, 8, 10]"
            ]
          },
          "metadata": {},
          "execution_count": 52
        }
      ]
    },
    {
      "cell_type": "code",
      "source": [
        "# 範圍是從最前面到 3\n",
        "l[:3]"
      ],
      "metadata": {
        "colab": {
          "base_uri": "https://localhost:8080/"
        },
        "id": "WiZJkFPu5uTA",
        "outputId": "d7687c15-2404-4a15-f166-b088f049b64c"
      },
      "execution_count": null,
      "outputs": [
        {
          "output_type": "execute_result",
          "data": {
            "text/plain": [
              "[3, -5, 6]"
            ]
          },
          "metadata": {},
          "execution_count": 53
        }
      ]
    },
    {
      "cell_type": "code",
      "source": [
        "l[:]"
      ],
      "metadata": {
        "colab": {
          "base_uri": "https://localhost:8080/"
        },
        "id": "NGJ0uXoz5xex",
        "outputId": "77998cd9-12ca-4c75-a8eb-a9ebca8b1831"
      },
      "execution_count": null,
      "outputs": [
        {
          "output_type": "execute_result",
          "data": {
            "text/plain": [
              "[3, -5, 6, 8, 10]"
            ]
          },
          "metadata": {},
          "execution_count": 48
        }
      ]
    },
    {
      "cell_type": "code",
      "source": [
        "l[-1]"
      ],
      "metadata": {
        "colab": {
          "base_uri": "https://localhost:8080/"
        },
        "id": "KgbehW-15xod",
        "outputId": "7c1b97e1-4580-4e8d-a82a-bc1234e5a481"
      },
      "execution_count": null,
      "outputs": [
        {
          "output_type": "execute_result",
          "data": {
            "text/plain": [
              "10"
            ]
          },
          "metadata": {},
          "execution_count": 55
        }
      ]
    },
    {
      "cell_type": "code",
      "source": [
        "l[-2:]"
      ],
      "metadata": {
        "colab": {
          "base_uri": "https://localhost:8080/"
        },
        "id": "4DcTBZUz6uwT",
        "outputId": "9bd034c1-c36c-4acb-bf08-97c71b88d995"
      },
      "execution_count": null,
      "outputs": [
        {
          "output_type": "execute_result",
          "data": {
            "text/plain": [
              "[8, 10]"
            ]
          },
          "metadata": {},
          "execution_count": 56
        }
      ]
    },
    {
      "cell_type": "markdown",
      "source": [
        "## 很像List的字串切割\n",
        "UML: https://moocs.nccu.edu.tw/mod/page/view.php?id=2463"
      ],
      "metadata": {
        "id": "aZ6wuGv7p2XK"
      }
    },
    {
      "cell_type": "code",
      "source": [
        "st = \"hello\""
      ],
      "metadata": {
        "id": "VYSGeBKPp2fK"
      },
      "execution_count": null,
      "outputs": []
    },
    {
      "cell_type": "code",
      "source": [
        "st[1:4]"
      ],
      "metadata": {
        "colab": {
          "base_uri": "https://localhost:8080/",
          "height": 35
        },
        "id": "pEHo4XmF66Tp",
        "outputId": "be6c3c77-9d24-415d-c311-df52177c91a7"
      },
      "execution_count": null,
      "outputs": [
        {
          "output_type": "execute_result",
          "data": {
            "text/plain": [
              "'ell'"
            ],
            "application/vnd.google.colaboratory.intrinsic+json": {
              "type": "string"
            }
          },
          "metadata": {},
          "execution_count": 58
        }
      ]
    },
    {
      "cell_type": "code",
      "source": [
        "name = \"詠琪\""
      ],
      "metadata": {
        "id": "94KJVY0k66Vy"
      },
      "execution_count": null,
      "outputs": []
    },
    {
      "cell_type": "code",
      "source": [
        "name[0]"
      ],
      "metadata": {
        "colab": {
          "base_uri": "https://localhost:8080/",
          "height": 35
        },
        "id": "0ZxFn-Vf66X1",
        "outputId": "6eb9966c-6bd3-46f8-e8ab-1bb7fb2c6853"
      },
      "execution_count": null,
      "outputs": [
        {
          "output_type": "execute_result",
          "data": {
            "text/plain": [
              "'詠'"
            ],
            "application/vnd.google.colaboratory.intrinsic+json": {
              "type": "string"
            }
          },
          "metadata": {},
          "execution_count": 60
        }
      ]
    },
    {
      "cell_type": "code",
      "source": [
        "name[1:]"
      ],
      "metadata": {
        "colab": {
          "base_uri": "https://localhost:8080/",
          "height": 35
        },
        "id": "n_oRAOSv66Zx",
        "outputId": "eb26ac3d-3a96-460b-fee0-61cdba508e1d"
      },
      "execution_count": null,
      "outputs": [
        {
          "output_type": "execute_result",
          "data": {
            "text/plain": [
              "'琪'"
            ],
            "application/vnd.google.colaboratory.intrinsic+json": {
              "type": "string"
            }
          },
          "metadata": {},
          "execution_count": 61
        }
      ]
    },
    {
      "cell_type": "markdown",
      "source": [
        "## List快速生成法\n",
        "UML: https://moocs.nccu.edu.tw/mod/page/view.php?id=2464"
      ],
      "metadata": {
        "id": "HJa-tL5-p2mq"
      }
    },
    {
      "cell_type": "code",
      "source": [
        "L = [0,1,2,3,4,5,6,7,8,9]"
      ],
      "metadata": {
        "id": "QKa_ZSzjp2uJ"
      },
      "execution_count": null,
      "outputs": []
    },
    {
      "cell_type": "code",
      "source": [
        "list(range(10)) #取10個數字"
      ],
      "metadata": {
        "id": "qCHnsNZo7MRF"
      },
      "execution_count": null,
      "outputs": []
    },
    {
      "cell_type": "code",
      "source": [
        "list(range(15)) #取15個數字"
      ],
      "metadata": {
        "colab": {
          "base_uri": "https://localhost:8080/"
        },
        "id": "PwGWpkwd7MTX",
        "outputId": "885c37ad-afcb-485c-b4e2-2b35c1d43d9c"
      },
      "execution_count": null,
      "outputs": [
        {
          "output_type": "execute_result",
          "data": {
            "text/plain": [
              "[0, 1, 2, 3, 4, 5, 6, 7, 8, 9, 10, 11, 12, 13, 14]"
            ]
          },
          "metadata": {},
          "execution_count": 63
        }
      ]
    },
    {
      "cell_type": "code",
      "source": [
        "list(range(3, 15)) #取3到15的數字"
      ],
      "metadata": {
        "colab": {
          "base_uri": "https://localhost:8080/"
        },
        "id": "tvoBUd3D7MZd",
        "outputId": "cfbe555d-67ea-47a7-d62c-5437427f362e"
      },
      "execution_count": null,
      "outputs": [
        {
          "output_type": "execute_result",
          "data": {
            "text/plain": [
              "[3, 4, 5, 6, 7, 8, 9, 10, 11, 12, 13, 14]"
            ]
          },
          "metadata": {},
          "execution_count": 65
        }
      ]
    },
    {
      "cell_type": "code",
      "source": [
        "list(\"ABCDEF\") #印出字串的list"
      ],
      "metadata": {
        "colab": {
          "base_uri": "https://localhost:8080/"
        },
        "id": "E5IpMk-37byh",
        "outputId": "45e6692e-0621-4b7e-a19c-819e7c515e5c"
      },
      "execution_count": null,
      "outputs": [
        {
          "output_type": "execute_result",
          "data": {
            "text/plain": [
              "['A', 'B', 'C', 'D', 'E', 'F']"
            ]
          },
          "metadata": {},
          "execution_count": 67
        }
      ]
    },
    {
      "cell_type": "markdown",
      "source": [
        "## for迴圈\n",
        "UML: https://moocs.nccu.edu.tw/mod/page/view.php?id=2465"
      ],
      "metadata": {
        "id": "LRH4_rzVp9YV"
      }
    },
    {
      "cell_type": "code",
      "source": [
        "L = [1,2,3]"
      ],
      "metadata": {
        "id": "MKiGtDdKp9fg"
      },
      "execution_count": null,
      "outputs": []
    },
    {
      "cell_type": "code",
      "source": [
        "for i in L:\n",
        "  print(i)"
      ],
      "metadata": {
        "colab": {
          "base_uri": "https://localhost:8080/"
        },
        "id": "X-6pgOjS7wB6",
        "outputId": "536264fa-d95f-43be-85d9-9f7e80a9b02b"
      },
      "execution_count": null,
      "outputs": [
        {
          "output_type": "stream",
          "name": "stdout",
          "text": [
            "1\n",
            "2\n",
            "3\n"
          ]
        }
      ]
    },
    {
      "cell_type": "code",
      "source": [
        "L = [\"貓貓\", \"狗狗\", \"豬豬\"]"
      ],
      "metadata": {
        "id": "OQUcARzI7wEv"
      },
      "execution_count": null,
      "outputs": []
    },
    {
      "cell_type": "code",
      "source": [
        "for i in L:\n",
        "  print(i)"
      ],
      "metadata": {
        "colab": {
          "base_uri": "https://localhost:8080/"
        },
        "id": "jyr9cP3_7wGp",
        "outputId": "a5d7cce0-5a5f-4c32-e89d-596392fa3898"
      },
      "execution_count": null,
      "outputs": [
        {
          "output_type": "stream",
          "name": "stdout",
          "text": [
            "貓貓\n",
            "狗狗\n",
            "豬豬\n"
          ]
        }
      ]
    },
    {
      "cell_type": "code",
      "source": [
        "for i in range(1,11):\n",
        "  print(i*2)"
      ],
      "metadata": {
        "colab": {
          "base_uri": "https://localhost:8080/"
        },
        "id": "-xXRk2i47wIs",
        "outputId": "2f3f51c2-8d23-4987-c622-b22f745892c6"
      },
      "execution_count": null,
      "outputs": [
        {
          "output_type": "stream",
          "name": "stdout",
          "text": [
            "2\n",
            "4\n",
            "6\n",
            "8\n",
            "10\n",
            "12\n",
            "14\n",
            "16\n",
            "18\n",
            "20\n"
          ]
        }
      ]
    },
    {
      "cell_type": "code",
      "source": [
        "for i in range(1,11):\n",
        "  print(\"*\" * i)"
      ],
      "metadata": {
        "colab": {
          "base_uri": "https://localhost:8080/"
        },
        "id": "Jzl3dVpl7-Pa",
        "outputId": "b240137b-828d-48c3-c0c4-74d01df68820"
      },
      "execution_count": null,
      "outputs": [
        {
          "output_type": "stream",
          "name": "stdout",
          "text": [
            "*\n",
            "**\n",
            "***\n",
            "****\n",
            "*****\n",
            "******\n",
            "*******\n",
            "********\n",
            "*********\n",
            "**********\n"
          ]
        }
      ]
    },
    {
      "cell_type": "markdown",
      "source": [
        "## 判斷關鍵字有沒有出現在字串中\n",
        "UML: https://moocs.nccu.edu.tw/mod/page/view.php?id=2466"
      ],
      "metadata": {
        "id": "xSGljj3bp9pq"
      }
    },
    {
      "cell_type": "markdown",
      "source": [
        "### 字串"
      ],
      "metadata": {
        "id": "snwZTcLG8R1-"
      }
    },
    {
      "cell_type": "code",
      "source": [
        "keyword = \"悲傷\""
      ],
      "metadata": {
        "id": "UCt2ee8Tp9yH"
      },
      "execution_count": null,
      "outputs": []
    },
    {
      "cell_type": "code",
      "source": [
        "message = \"我今天覺得很悲傷。\""
      ],
      "metadata": {
        "id": "ZTYzLzQh8QP0"
      },
      "execution_count": null,
      "outputs": []
    },
    {
      "cell_type": "code",
      "source": [
        "keyword in message"
      ],
      "metadata": {
        "colab": {
          "base_uri": "https://localhost:8080/"
        },
        "id": "mQ94_gEp8QSB",
        "outputId": "9b6cff4a-c516-430c-86b5-dae28c0ad593"
      },
      "execution_count": null,
      "outputs": [
        {
          "output_type": "execute_result",
          "data": {
            "text/plain": [
              "True"
            ]
          },
          "metadata": {},
          "execution_count": 76
        }
      ]
    },
    {
      "cell_type": "code",
      "source": [
        "message = \"我今天超開心!\""
      ],
      "metadata": {
        "id": "-PyaT8lk8QUQ"
      },
      "execution_count": null,
      "outputs": []
    },
    {
      "cell_type": "code",
      "source": [
        "keyword in message"
      ],
      "metadata": {
        "colab": {
          "base_uri": "https://localhost:8080/"
        },
        "id": "U9dmBAnO8QWY",
        "outputId": "100e3629-6362-445c-faf7-782684eb2659"
      },
      "execution_count": null,
      "outputs": [
        {
          "output_type": "execute_result",
          "data": {
            "text/plain": [
              "False"
            ]
          },
          "metadata": {},
          "execution_count": 78
        }
      ]
    },
    {
      "cell_type": "markdown",
      "source": [
        "### 串列"
      ],
      "metadata": {
        "id": "ydQ3WUUK8ULM"
      }
    },
    {
      "cell_type": "code",
      "source": [
        "L = [34,23,12,88,95,74]"
      ],
      "metadata": {
        "id": "5BrAws_H8Vvj"
      },
      "execution_count": null,
      "outputs": []
    },
    {
      "cell_type": "code",
      "source": [
        "29 in L"
      ],
      "metadata": {
        "colab": {
          "base_uri": "https://localhost:8080/"
        },
        "id": "WK_r91Yf8kM5",
        "outputId": "814790af-54f5-4dca-91fa-6d4ab8e57a96"
      },
      "execution_count": null,
      "outputs": [
        {
          "output_type": "execute_result",
          "data": {
            "text/plain": [
              "False"
            ]
          },
          "metadata": {},
          "execution_count": 80
        }
      ]
    },
    {
      "cell_type": "code",
      "source": [
        "88 in L"
      ],
      "metadata": {
        "colab": {
          "base_uri": "https://localhost:8080/"
        },
        "id": "EClv6VuA8kPg",
        "outputId": "5e52d57b-a5d8-4b4c-de12-4264b7912f7a"
      },
      "execution_count": null,
      "outputs": [
        {
          "output_type": "execute_result",
          "data": {
            "text/plain": [
              "True"
            ]
          },
          "metadata": {},
          "execution_count": 81
        }
      ]
    },
    {
      "cell_type": "markdown",
      "source": [
        "## if條件判斷\n",
        "UML: https://moocs.nccu.edu.tw/mod/page/view.php?id=2467"
      ],
      "metadata": {
        "id": "xEbp-ixLqBYL"
      }
    },
    {
      "cell_type": "code",
      "source": [
        "a = 80\n",
        "if a > 7:\n",
        "  print(\"OK\")"
      ],
      "metadata": {
        "colab": {
          "base_uri": "https://localhost:8080/"
        },
        "id": "LYy8bNTNqBdg",
        "outputId": "d51569e8-5b2f-4878-d4e0-5c3ab1ca0a60"
      },
      "execution_count": null,
      "outputs": [
        {
          "output_type": "stream",
          "name": "stdout",
          "text": [
            "OK\n"
          ]
        }
      ]
    },
    {
      "cell_type": "code",
      "source": [
        "message = input(\">> \")\n",
        "if (\"悲傷\" in message):\n",
        "  print(\"拍拍\")"
      ],
      "metadata": {
        "colab": {
          "base_uri": "https://localhost:8080/"
        },
        "id": "nYHsfiS88vqJ",
        "outputId": "cf40a5f6-1edb-47f9-878f-23a4e5e84106"
      },
      "execution_count": null,
      "outputs": [
        {
          "output_type": "stream",
          "name": "stdout",
          "text": [
            ">> 我今天很悲傷\n",
            "拍拍\n"
          ]
        }
      ]
    },
    {
      "cell_type": "code",
      "source": [
        "message = input(\">> \")\n",
        "if (\"悲傷\" in message):\n",
        "  print(\"拍拍\")\n",
        "else:\n",
        "  print(\"原來如此~\")"
      ],
      "metadata": {
        "colab": {
          "base_uri": "https://localhost:8080/"
        },
        "id": "Cw4MHwwz8vs4",
        "outputId": "780133e6-b43a-4c3e-a0a1-a24adf65bfd8"
      },
      "execution_count": null,
      "outputs": [
        {
          "output_type": "stream",
          "name": "stdout",
          "text": [
            ">> 我今天很開心!\n",
            "原來如此~\n"
          ]
        }
      ]
    },
    {
      "cell_type": "code",
      "source": [
        "message = input(\">> \")\n",
        "if (\"悲傷\" in message):\n",
        "  print(\"拍拍\")\n",
        "elif(\"開心\" in message):\n",
        "  print(\"好棒!!\")\n",
        "elif(\"生氣\" in message):\n",
        "  print(\"沒事的\")\n",
        "else:\n",
        "  print(\"原來如此\")"
      ],
      "metadata": {
        "colab": {
          "base_uri": "https://localhost:8080/"
        },
        "id": "1N8Bf55R8vvg",
        "outputId": "db964ae6-7006-44b3-a2ff-e69a26564434"
      },
      "execution_count": null,
      "outputs": [
        {
          "output_type": "stream",
          "name": "stdout",
          "text": [
            ">> 我好開心\n",
            "好棒!!\n"
          ]
        }
      ]
    },
    {
      "cell_type": "markdown",
      "source": [
        "## 亂數好好玩\n",
        "UML: https://moocs.nccu.edu.tw/mod/page/view.php?id=2468"
      ],
      "metadata": {
        "id": "OhEp-JaQqBsr"
      }
    },
    {
      "cell_type": "code",
      "source": [
        "%pylab inline"
      ],
      "metadata": {
        "colab": {
          "base_uri": "https://localhost:8080/"
        },
        "id": "WcFHQ8TAqByM",
        "outputId": "51333f40-6e3e-4704-9c12-ffab9d41151f"
      },
      "execution_count": null,
      "outputs": [
        {
          "output_type": "stream",
          "name": "stdout",
          "text": [
            "Populating the interactive namespace from numpy and matplotlib\n"
          ]
        },
        {
          "output_type": "stream",
          "name": "stderr",
          "text": [
            "/usr/local/lib/python3.10/dist-packages/IPython/core/magics/pylab.py:159: UserWarning: pylab import has clobbered these variables: ['place', 'square']\n",
            "`%matplotlib` prevents importing * from pylab and numpy\n",
            "  warn(\"pylab import has clobbered these variables: %s\"  % clobbered +\n"
          ]
        }
      ]
    },
    {
      "cell_type": "code",
      "source": [
        "# 從3到21，隨機選出一個數字輸出\n",
        "randint(3, 21)"
      ],
      "metadata": {
        "colab": {
          "base_uri": "https://localhost:8080/"
        },
        "id": "p8gAqmI59ocj",
        "outputId": "6bea3d1a-ec22-49cf-bfbc-01dfa9885d34"
      },
      "execution_count": null,
      "outputs": [
        {
          "output_type": "execute_result",
          "data": {
            "text/plain": [
              "6"
            ]
          },
          "metadata": {},
          "execution_count": 91
        }
      ]
    },
    {
      "cell_type": "code",
      "source": [
        "#會出現亂數的圖片\n",
        "for i in range(10):\n",
        "  k = randint(1, 50)\n",
        "  print(\" \" * k + \"*\")"
      ],
      "metadata": {
        "colab": {
          "base_uri": "https://localhost:8080/"
        },
        "id": "QR0elm-i9ofJ",
        "outputId": "ff81bb19-8444-4787-cc02-107118b47912"
      },
      "execution_count": null,
      "outputs": [
        {
          "output_type": "stream",
          "name": "stdout",
          "text": [
            "                                             *\n",
            "                                             *\n",
            "            *\n",
            "   *\n",
            "                 *\n",
            "                                               *\n",
            "                              *\n",
            "       *\n",
            "                     *\n",
            "    *\n"
          ]
        }
      ]
    },
    {
      "cell_type": "markdown",
      "source": [
        "#作業"
      ],
      "metadata": {
        "id": "1C4Hjm1CpRn3"
      }
    },
    {
      "cell_type": "markdown",
      "source": [
        "## 第一題\n",
        "寫一個療癒型的對話機器人, 不管使用者輸入什麼, 都輸出「拍拍」。"
      ],
      "metadata": {
        "id": "AsJJ1oQwhlGC"
      }
    },
    {
      "cell_type": "code",
      "source": [
        "message = \"\"\n",
        "while message != \"byebye\":\n",
        "  message = input(\">>\")\n",
        "  if message != \"byebye\":\n",
        "    print(\"拍拍\")"
      ],
      "metadata": {
        "colab": {
          "base_uri": "https://localhost:8080/"
        },
        "id": "kIzatLbiiFMc",
        "outputId": "818cc1ce-93af-487d-9b04-802b7f23c952"
      },
      "execution_count": null,
      "outputs": [
        {
          "name": "stdout",
          "output_type": "stream",
          "text": [
            ">>哈囉\n",
            "拍拍\n",
            ">>我今天\n",
            "拍拍\n",
            ">>byebye\n"
          ]
        }
      ]
    },
    {
      "cell_type": "markdown",
      "source": [
        "## 第二題\n",
        "寫一個猜數字遊戲。"
      ],
      "metadata": {
        "id": "t0JmbEt_hrrZ"
      }
    },
    {
      "cell_type": "code",
      "source": [
        "import random\n",
        "\n",
        "def guess_number():\n",
        "    # 產生一個介於1到100之間的隨機數字\n",
        "    secret_number = random.randint(1, 100)\n",
        "    print(\"我心裡想了一個數字，你猜是多少？\")\n",
        "\n",
        "    attempts = 0\n",
        "    while True:\n",
        "        guess = input(\"你的猜測：\")\n",
        "        try:\n",
        "            guess = int(guess)\n",
        "        except ValueError:\n",
        "            print(\"請輸入一個有效的數字。\")\n",
        "            continue\n",
        "\n",
        "        attempts += 1\n",
        "\n",
        "        if guess < secret_number:\n",
        "            print(\"太小了，再猜一次。\")\n",
        "        elif guess > secret_number:\n",
        "            print(\"太大了，再猜一次。\")\n",
        "        else:\n",
        "            print(f\"恭喜你猜對了！你一共猜了 {attempts} 次。\")\n",
        "            break\n",
        "\n",
        "if __name__ == \"__main__\":\n",
        "    guess_number()\n"
      ],
      "metadata": {
        "colab": {
          "base_uri": "https://localhost:8080/"
        },
        "id": "mf7xE8NsjJIX",
        "outputId": "a8bf3602-ecd2-4343-ae8c-6fd26c8cece4"
      },
      "execution_count": null,
      "outputs": [
        {
          "output_type": "stream",
          "name": "stdout",
          "text": [
            "我心裡想了一個數字，你猜是多少？\n",
            "你的猜測：50\n",
            "太小了，再猜一次。\n",
            "你的猜測：80\n",
            "太小了，再猜一次。\n",
            "你的猜測：90\n",
            "太小了，再猜一次。\n",
            "你的猜測：98\n",
            "太大了，再猜一次。\n",
            "你的猜測：96\n",
            "恭喜你猜對了！你一共猜了 5 次。\n"
          ]
        }
      ]
    },
    {
      "cell_type": "markdown",
      "source": [
        "## 第三題\n",
        "我常常不知午餐吃什麼, 所以寫個隨機抽餐廳的程式。"
      ],
      "metadata": {
        "id": "RoxseLM7hu2G"
      }
    },
    {
      "cell_type": "code",
      "source": [
        "import random\n",
        "\n",
        "def choose_restaurant(restaurants):\n",
        "    if restaurants:\n",
        "        chosen_restaurant = random.choice(restaurants)\n",
        "        print(f\"今天的午餐去吃 {chosen_restaurant} 吧！\")\n",
        "    else:\n",
        "        print(\"餐廳清單是空的，請先添加餐廳。\")\n",
        "\n",
        "if __name__ == \"__main__\":\n",
        "    # 假設有一個餐廳清單\n",
        "    restaurant_list = [\"麵食館\", \"燒臘店\", \"素食館\", \"披薩店\", \"壽司店\", \"火鍋店\"]\n",
        "\n",
        "    # 使用者可以選擇執行次數\n",
        "    while True:\n",
        "        choice = input(\"是否要選擇午餐餐廳？(yes/no): \")\n",
        "        if choice.lower() == \"yes\":\n",
        "            choose_restaurant(restaurant_list)\n",
        "        elif choice.lower() == \"no\":\n",
        "            print(\"好的，再見！\")\n",
        "            break\n",
        "        else:\n",
        "            print(\"請輸入有效的選擇 (yes/no)。\")\n"
      ],
      "metadata": {
        "colab": {
          "base_uri": "https://localhost:8080/"
        },
        "id": "tVZKNOY-jJ04",
        "outputId": "e9f7f0c7-5206-4dfa-84fb-61721e0c4d09"
      },
      "execution_count": null,
      "outputs": [
        {
          "output_type": "stream",
          "name": "stdout",
          "text": [
            "是否要選擇午餐餐廳？(yes/no): yes\n",
            "今天的午餐去吃 麵食館 吧！\n",
            "是否要選擇午餐餐廳？(yes/no): no\n",
            "好的，再見！\n"
          ]
        }
      ]
    },
    {
      "cell_type": "markdown",
      "source": [
        "## 第四題\n",
        "寫一個簡單的加減乘除運算程式：讓使用者輸入兩個數字和一個運算符（加、減、乘、除），然後根據運算符進行運算並輸出結果。"
      ],
      "metadata": {
        "id": "fHQuUZI3h46H"
      }
    },
    {
      "cell_type": "code",
      "source": [
        "def calculate(num1, num2, operator):\n",
        "    if operator == '+':\n",
        "        return num1 + num2\n",
        "    elif operator == '-':\n",
        "        return num1 - num2\n",
        "    elif operator == '*':\n",
        "        return num1 * num2\n",
        "    elif operator == '/':\n",
        "        if num2 != 0:\n",
        "            return num1 / num2\n",
        "        else:\n",
        "            return \"無法除以零\"\n",
        "    else:\n",
        "        return \"無效的運算符號\"\n",
        "\n",
        "if __name__ == \"__main__\":\n",
        "    num1 = float(input(\"請輸入第一個數字: \"))\n",
        "    num2 = float(input(\"請輸入第二個數字: \"))\n",
        "    operator = input(\"請輸入運算符（+、-、*、/）: \")\n",
        "\n",
        "    result = calculate(num1, num2, operator)\n",
        "    print(\"結果:\", result)\n"
      ],
      "metadata": {
        "colab": {
          "base_uri": "https://localhost:8080/"
        },
        "id": "w8qljmptkqvU",
        "outputId": "661f90e2-431f-4487-b5e6-73b3899c137c"
      },
      "execution_count": null,
      "outputs": [
        {
          "output_type": "stream",
          "name": "stdout",
          "text": [
            "請輸入第一個數字: 4.5\n",
            "請輸入第二個數字: 8.2\n",
            "請輸入運算符（+、-、*、/）: *\n",
            "結果: 36.9\n"
          ]
        }
      ]
    },
    {
      "cell_type": "markdown",
      "source": [
        "## 第五題\n",
        "寫一個統計字母出現次數的程式：讓使用者輸入一段文字，然後統計每個字母在文字中出現的次數並輸出。"
      ],
      "metadata": {
        "id": "awg6w5NSh9E6"
      }
    },
    {
      "cell_type": "code",
      "source": [
        "def count_letters(text):\n",
        "    # 建立一個空字典來存儲每個字母的出現次數\n",
        "    letter_count = {}\n",
        "\n",
        "    # 遍歷輸入的文本\n",
        "    for char in text:\n",
        "        # 只考慮字母，忽略空格和標點符號\n",
        "        if char.isalpha():\n",
        "            # 將字母轉換為小寫\n",
        "            char = char.lower()\n",
        "            # 如果字母已經在字典中，則將該字母的出現次數加1\n",
        "            if char in letter_count:\n",
        "                letter_count[char] += 1\n",
        "            # 如果字母不在字典中，則將其添加到字典並設置出現次數為1\n",
        "            else:\n",
        "                letter_count[char] = 1\n",
        "\n",
        "    return letter_count\n",
        "\n",
        "if __name__ == \"__main__\":\n",
        "    # 讓使用者輸入一段文字\n",
        "    text = input(\"請輸入一段文字: \")\n",
        "\n",
        "    # 呼叫函式來統計字母出現次數\n",
        "    result = count_letters(text)\n",
        "\n",
        "    # 輸出結果\n",
        "    print(\"字母出現次數:\")\n",
        "    for letter, count in result.items():\n",
        "        print(f\"{letter}: {count}\")\n"
      ],
      "metadata": {
        "colab": {
          "base_uri": "https://localhost:8080/"
        },
        "id": "wm1k9YIoh_M3",
        "outputId": "5b9045ae-f334-4856-e38e-8c34d8051bed"
      },
      "execution_count": null,
      "outputs": [
        {
          "output_type": "stream",
          "name": "stdout",
          "text": [
            "請輸入一段文字: abocempwojpwhcdicnpow,xpwkoepodwocnpwadszmopwjopjcx\n",
            "字母出現次數:\n",
            "a: 2\n",
            "b: 1\n",
            "o: 8\n",
            "c: 5\n",
            "e: 2\n",
            "m: 2\n",
            "p: 8\n",
            "w: 7\n",
            "j: 3\n",
            "h: 1\n",
            "d: 3\n",
            "i: 1\n",
            "n: 2\n",
            "x: 2\n",
            "k: 1\n",
            "s: 1\n",
            "z: 1\n"
          ]
        }
      ]
    },
    {
      "cell_type": "markdown",
      "source": [
        "## 第六題\n",
        "寫一個計算長方形面積的程式：讓使用者輸入長和寬，然後計算並輸出長方形的面積。\n"
      ],
      "metadata": {
        "id": "bUC_p5B5h_rl"
      }
    },
    {
      "cell_type": "code",
      "source": [
        "def calculate_rectangle_area(length, width):\n",
        "  area = length * width\n",
        "  return area\n",
        "\n",
        "if __name__ == \"__main__\":\n",
        "    # 讓使用者輸入長和寬\n",
        "    length = float(input(\"請輸入長方形的長度: \"))\n",
        "    width = float(input(\"請輸入長方形的寬度: \"))\n",
        "\n",
        "    # 呼叫函式計算面積\n",
        "    area = calculate_rectangle_area(length, width)\n",
        "\n",
        "    # 輸出結果\n",
        "    print(\"長方形的面積為:\", area)"
      ],
      "metadata": {
        "colab": {
          "base_uri": "https://localhost:8080/"
        },
        "id": "wYzLdmQDjKm6",
        "outputId": "0c30d383-084b-4e91-cd49-ff7563f664a0"
      },
      "execution_count": null,
      "outputs": [
        {
          "output_type": "stream",
          "name": "stdout",
          "text": [
            "請輸入長方形的長度: 10.5\n",
            "請輸入長方形的寬度: 10\n",
            "長方形的面積為: 105.0\n"
          ]
        }
      ]
    },
    {
      "cell_type": "markdown",
      "source": [
        "## 第七題\n",
        "寫一個生成隨機密碼的程式：使用 random 模組生成一個隨機的 8 位數字組成的字符串，作為密碼。"
      ],
      "metadata": {
        "id": "UsDmGf66iCM0"
      }
    },
    {
      "cell_type": "code",
      "source": [
        "import random\n",
        "\n",
        "# 8位數字組成\n",
        "def generate_random_password(length=8):\n",
        "    # 生成隨機數字組成的密碼\n",
        "    password = ''.join(str(random.randint(0, 9)) for _ in range(length))\n",
        "\n",
        "    return password\n",
        "\n",
        "if __name__ == \"__main__\":\n",
        "    # 生成 8 位數字組成的密碼\n",
        "    password = generate_random_password()\n",
        "\n",
        "    # 輸出結果\n",
        "    print(\"生成的隨機密碼為:\", password)"
      ],
      "metadata": {
        "colab": {
          "base_uri": "https://localhost:8080/"
        },
        "id": "U19I-_mPnJYR",
        "outputId": "09c7c7f7-2d94-4122-e3cd-2c71a9cf5557"
      },
      "execution_count": null,
      "outputs": [
        {
          "output_type": "stream",
          "name": "stdout",
          "text": [
            "生成的隨機密碼為: 49958177\n"
          ]
        }
      ]
    },
    {
      "cell_type": "code",
      "source": [
        "import random\n",
        "import string\n",
        "\n",
        "# 8位數字組成\n",
        "def generate_random_password(length=8):\n",
        "    # 定義密碼可能的字符集合\n",
        "    characters = string.digits  # 使用 string 模組中的 digits 函式來得到數字字符集合\n",
        "\n",
        "    # 隨機選擇字符並組成密碼\n",
        "    password = ''.join(random.choice(characters) for _ in range(length))\n",
        "\n",
        "    return password\n",
        "\n",
        "if __name__ == \"__main__\":\n",
        "    # 生成 8 位數字組成的密碼\n",
        "    password = generate_random_password()\n",
        "\n",
        "    # 輸出結果\n",
        "    print(\"生成的隨機密碼為:\", password)\n"
      ],
      "metadata": {
        "colab": {
          "base_uri": "https://localhost:8080/"
        },
        "id": "1F3sfbAgiBlz",
        "outputId": "9f228ab1-aa73-44e1-8508-f47540e6faf7"
      },
      "execution_count": null,
      "outputs": [
        {
          "output_type": "stream",
          "name": "stdout",
          "text": [
            "生成的隨機密碼為: 99647737\n"
          ]
        }
      ]
    }
  ]
}
