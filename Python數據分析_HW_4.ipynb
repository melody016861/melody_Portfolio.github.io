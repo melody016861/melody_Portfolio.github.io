{
  "nbformat": 4,
  "nbformat_minor": 0,
  "metadata": {
    "colab": {
      "provenance": [],
      "collapsed_sections": [
        "iCsFP1Z58JTM"
      ],
      "authorship_tag": "ABX9TyMod7GZ1qDeQZhqDL4zazDa",
      "include_colab_link": true
    },
    "kernelspec": {
      "name": "python3",
      "display_name": "Python 3"
    },
    "language_info": {
      "name": "python"
    },
    "widgets": {
      "application/vnd.jupyter.widget-state+json": {
        "54fd4531ec90487aa1d5729ded7f6690": {
          "model_module": "@jupyter-widgets/controls",
          "model_name": "VBoxModel",
          "model_module_version": "1.5.0",
          "state": {
            "_dom_classes": [
              "widget-interact"
            ],
            "_model_module": "@jupyter-widgets/controls",
            "_model_module_version": "1.5.0",
            "_model_name": "VBoxModel",
            "_view_count": null,
            "_view_module": "@jupyter-widgets/controls",
            "_view_module_version": "1.5.0",
            "_view_name": "VBoxView",
            "box_style": "",
            "children": [
              "IPY_MODEL_1c5eb4fad2d944e0bee4134ef2ba880d",
              "IPY_MODEL_c3476ebca619468cb8737747dfb98244"
            ],
            "layout": "IPY_MODEL_f8c899f6d932433b9c11c6bca28781c7"
          }
        },
        "1c5eb4fad2d944e0bee4134ef2ba880d": {
          "model_module": "@jupyter-widgets/controls",
          "model_name": "IntSliderModel",
          "model_module_version": "1.5.0",
          "state": {
            "_dom_classes": [],
            "_model_module": "@jupyter-widgets/controls",
            "_model_module_version": "1.5.0",
            "_model_name": "IntSliderModel",
            "_view_count": null,
            "_view_module": "@jupyter-widgets/controls",
            "_view_module_version": "1.5.0",
            "_view_name": "IntSliderView",
            "continuous_update": true,
            "description": "x",
            "description_tooltip": null,
            "disabled": false,
            "layout": "IPY_MODEL_fe736e212cde4827b1380dc962d78588",
            "max": 9,
            "min": -3,
            "orientation": "horizontal",
            "readout": true,
            "readout_format": "d",
            "step": 1,
            "style": "IPY_MODEL_519b25274cde4f26866a14a284a3e3c6",
            "value": 3
          }
        },
        "c3476ebca619468cb8737747dfb98244": {
          "model_module": "@jupyter-widgets/output",
          "model_name": "OutputModel",
          "model_module_version": "1.0.0",
          "state": {
            "_dom_classes": [],
            "_model_module": "@jupyter-widgets/output",
            "_model_module_version": "1.0.0",
            "_model_name": "OutputModel",
            "_view_count": null,
            "_view_module": "@jupyter-widgets/output",
            "_view_module_version": "1.0.0",
            "_view_name": "OutputView",
            "layout": "IPY_MODEL_6afc75689bfb49bab3935c617769a4c2",
            "msg_id": "",
            "outputs": [
              {
                "output_type": "stream",
                "name": "stdout",
                "text": [
                  "3\n"
                ]
              }
            ]
          }
        },
        "f8c899f6d932433b9c11c6bca28781c7": {
          "model_module": "@jupyter-widgets/base",
          "model_name": "LayoutModel",
          "model_module_version": "1.2.0",
          "state": {
            "_model_module": "@jupyter-widgets/base",
            "_model_module_version": "1.2.0",
            "_model_name": "LayoutModel",
            "_view_count": null,
            "_view_module": "@jupyter-widgets/base",
            "_view_module_version": "1.2.0",
            "_view_name": "LayoutView",
            "align_content": null,
            "align_items": null,
            "align_self": null,
            "border": null,
            "bottom": null,
            "display": null,
            "flex": null,
            "flex_flow": null,
            "grid_area": null,
            "grid_auto_columns": null,
            "grid_auto_flow": null,
            "grid_auto_rows": null,
            "grid_column": null,
            "grid_gap": null,
            "grid_row": null,
            "grid_template_areas": null,
            "grid_template_columns": null,
            "grid_template_rows": null,
            "height": null,
            "justify_content": null,
            "justify_items": null,
            "left": null,
            "margin": null,
            "max_height": null,
            "max_width": null,
            "min_height": null,
            "min_width": null,
            "object_fit": null,
            "object_position": null,
            "order": null,
            "overflow": null,
            "overflow_x": null,
            "overflow_y": null,
            "padding": null,
            "right": null,
            "top": null,
            "visibility": null,
            "width": null
          }
        },
        "fe736e212cde4827b1380dc962d78588": {
          "model_module": "@jupyter-widgets/base",
          "model_name": "LayoutModel",
          "model_module_version": "1.2.0",
          "state": {
            "_model_module": "@jupyter-widgets/base",
            "_model_module_version": "1.2.0",
            "_model_name": "LayoutModel",
            "_view_count": null,
            "_view_module": "@jupyter-widgets/base",
            "_view_module_version": "1.2.0",
            "_view_name": "LayoutView",
            "align_content": null,
            "align_items": null,
            "align_self": null,
            "border": null,
            "bottom": null,
            "display": null,
            "flex": null,
            "flex_flow": null,
            "grid_area": null,
            "grid_auto_columns": null,
            "grid_auto_flow": null,
            "grid_auto_rows": null,
            "grid_column": null,
            "grid_gap": null,
            "grid_row": null,
            "grid_template_areas": null,
            "grid_template_columns": null,
            "grid_template_rows": null,
            "height": null,
            "justify_content": null,
            "justify_items": null,
            "left": null,
            "margin": null,
            "max_height": null,
            "max_width": null,
            "min_height": null,
            "min_width": null,
            "object_fit": null,
            "object_position": null,
            "order": null,
            "overflow": null,
            "overflow_x": null,
            "overflow_y": null,
            "padding": null,
            "right": null,
            "top": null,
            "visibility": null,
            "width": null
          }
        },
        "519b25274cde4f26866a14a284a3e3c6": {
          "model_module": "@jupyter-widgets/controls",
          "model_name": "SliderStyleModel",
          "model_module_version": "1.5.0",
          "state": {
            "_model_module": "@jupyter-widgets/controls",
            "_model_module_version": "1.5.0",
            "_model_name": "SliderStyleModel",
            "_view_count": null,
            "_view_module": "@jupyter-widgets/base",
            "_view_module_version": "1.2.0",
            "_view_name": "StyleView",
            "description_width": "",
            "handle_color": null
          }
        },
        "6afc75689bfb49bab3935c617769a4c2": {
          "model_module": "@jupyter-widgets/base",
          "model_name": "LayoutModel",
          "model_module_version": "1.2.0",
          "state": {
            "_model_module": "@jupyter-widgets/base",
            "_model_module_version": "1.2.0",
            "_model_name": "LayoutModel",
            "_view_count": null,
            "_view_module": "@jupyter-widgets/base",
            "_view_module_version": "1.2.0",
            "_view_name": "LayoutView",
            "align_content": null,
            "align_items": null,
            "align_self": null,
            "border": null,
            "bottom": null,
            "display": null,
            "flex": null,
            "flex_flow": null,
            "grid_area": null,
            "grid_auto_columns": null,
            "grid_auto_flow": null,
            "grid_auto_rows": null,
            "grid_column": null,
            "grid_gap": null,
            "grid_row": null,
            "grid_template_areas": null,
            "grid_template_columns": null,
            "grid_template_rows": null,
            "height": null,
            "justify_content": null,
            "justify_items": null,
            "left": null,
            "margin": null,
            "max_height": null,
            "max_width": null,
            "min_height": null,
            "min_width": null,
            "object_fit": null,
            "object_position": null,
            "order": null,
            "overflow": null,
            "overflow_x": null,
            "overflow_y": null,
            "padding": null,
            "right": null,
            "top": null,
            "visibility": null,
            "width": null
          }
        },
        "8ecb757761024f93a801247f0bbdaeb1": {
          "model_module": "@jupyter-widgets/controls",
          "model_name": "VBoxModel",
          "model_module_version": "1.5.0",
          "state": {
            "_dom_classes": [
              "widget-interact"
            ],
            "_model_module": "@jupyter-widgets/controls",
            "_model_module_version": "1.5.0",
            "_model_name": "VBoxModel",
            "_view_count": null,
            "_view_module": "@jupyter-widgets/controls",
            "_view_module_version": "1.5.0",
            "_view_name": "VBoxView",
            "box_style": "",
            "children": [
              "IPY_MODEL_78aa2aef79bf43a8babd946f548bc945",
              "IPY_MODEL_eafd842ae1814feda60fcfec4fb8d502"
            ],
            "layout": "IPY_MODEL_12661da0b6384f18ac348d4ec4abc923"
          }
        },
        "78aa2aef79bf43a8babd946f548bc945": {
          "model_module": "@jupyter-widgets/controls",
          "model_name": "FloatSliderModel",
          "model_module_version": "1.5.0",
          "state": {
            "_dom_classes": [],
            "_model_module": "@jupyter-widgets/controls",
            "_model_module_version": "1.5.0",
            "_model_name": "FloatSliderModel",
            "_view_count": null,
            "_view_module": "@jupyter-widgets/controls",
            "_view_module_version": "1.5.0",
            "_view_name": "FloatSliderView",
            "continuous_update": true,
            "description": "x",
            "description_tooltip": null,
            "disabled": false,
            "layout": "IPY_MODEL_78154a6e3ef04a9aa4e68b111ba41430",
            "max": 9,
            "min": -3,
            "orientation": "horizontal",
            "readout": true,
            "readout_format": ".2f",
            "step": 0.1,
            "style": "IPY_MODEL_b809dce374124dd1b90063092a00e2cf",
            "value": 3
          }
        },
        "eafd842ae1814feda60fcfec4fb8d502": {
          "model_module": "@jupyter-widgets/output",
          "model_name": "OutputModel",
          "model_module_version": "1.0.0",
          "state": {
            "_dom_classes": [],
            "_model_module": "@jupyter-widgets/output",
            "_model_module_version": "1.0.0",
            "_model_name": "OutputModel",
            "_view_count": null,
            "_view_module": "@jupyter-widgets/output",
            "_view_module_version": "1.0.0",
            "_view_name": "OutputView",
            "layout": "IPY_MODEL_e396c2a3095f4cae8f7d98f771e4d938",
            "msg_id": "",
            "outputs": [
              {
                "output_type": "stream",
                "name": "stdout",
                "text": [
                  "3.0\n"
                ]
              }
            ]
          }
        },
        "12661da0b6384f18ac348d4ec4abc923": {
          "model_module": "@jupyter-widgets/base",
          "model_name": "LayoutModel",
          "model_module_version": "1.2.0",
          "state": {
            "_model_module": "@jupyter-widgets/base",
            "_model_module_version": "1.2.0",
            "_model_name": "LayoutModel",
            "_view_count": null,
            "_view_module": "@jupyter-widgets/base",
            "_view_module_version": "1.2.0",
            "_view_name": "LayoutView",
            "align_content": null,
            "align_items": null,
            "align_self": null,
            "border": null,
            "bottom": null,
            "display": null,
            "flex": null,
            "flex_flow": null,
            "grid_area": null,
            "grid_auto_columns": null,
            "grid_auto_flow": null,
            "grid_auto_rows": null,
            "grid_column": null,
            "grid_gap": null,
            "grid_row": null,
            "grid_template_areas": null,
            "grid_template_columns": null,
            "grid_template_rows": null,
            "height": null,
            "justify_content": null,
            "justify_items": null,
            "left": null,
            "margin": null,
            "max_height": null,
            "max_width": null,
            "min_height": null,
            "min_width": null,
            "object_fit": null,
            "object_position": null,
            "order": null,
            "overflow": null,
            "overflow_x": null,
            "overflow_y": null,
            "padding": null,
            "right": null,
            "top": null,
            "visibility": null,
            "width": null
          }
        },
        "78154a6e3ef04a9aa4e68b111ba41430": {
          "model_module": "@jupyter-widgets/base",
          "model_name": "LayoutModel",
          "model_module_version": "1.2.0",
          "state": {
            "_model_module": "@jupyter-widgets/base",
            "_model_module_version": "1.2.0",
            "_model_name": "LayoutModel",
            "_view_count": null,
            "_view_module": "@jupyter-widgets/base",
            "_view_module_version": "1.2.0",
            "_view_name": "LayoutView",
            "align_content": null,
            "align_items": null,
            "align_self": null,
            "border": null,
            "bottom": null,
            "display": null,
            "flex": null,
            "flex_flow": null,
            "grid_area": null,
            "grid_auto_columns": null,
            "grid_auto_flow": null,
            "grid_auto_rows": null,
            "grid_column": null,
            "grid_gap": null,
            "grid_row": null,
            "grid_template_areas": null,
            "grid_template_columns": null,
            "grid_template_rows": null,
            "height": null,
            "justify_content": null,
            "justify_items": null,
            "left": null,
            "margin": null,
            "max_height": null,
            "max_width": null,
            "min_height": null,
            "min_width": null,
            "object_fit": null,
            "object_position": null,
            "order": null,
            "overflow": null,
            "overflow_x": null,
            "overflow_y": null,
            "padding": null,
            "right": null,
            "top": null,
            "visibility": null,
            "width": null
          }
        },
        "b809dce374124dd1b90063092a00e2cf": {
          "model_module": "@jupyter-widgets/controls",
          "model_name": "SliderStyleModel",
          "model_module_version": "1.5.0",
          "state": {
            "_model_module": "@jupyter-widgets/controls",
            "_model_module_version": "1.5.0",
            "_model_name": "SliderStyleModel",
            "_view_count": null,
            "_view_module": "@jupyter-widgets/base",
            "_view_module_version": "1.2.0",
            "_view_name": "StyleView",
            "description_width": "",
            "handle_color": null
          }
        },
        "e396c2a3095f4cae8f7d98f771e4d938": {
          "model_module": "@jupyter-widgets/base",
          "model_name": "LayoutModel",
          "model_module_version": "1.2.0",
          "state": {
            "_model_module": "@jupyter-widgets/base",
            "_model_module_version": "1.2.0",
            "_model_name": "LayoutModel",
            "_view_count": null,
            "_view_module": "@jupyter-widgets/base",
            "_view_module_version": "1.2.0",
            "_view_name": "LayoutView",
            "align_content": null,
            "align_items": null,
            "align_self": null,
            "border": null,
            "bottom": null,
            "display": null,
            "flex": null,
            "flex_flow": null,
            "grid_area": null,
            "grid_auto_columns": null,
            "grid_auto_flow": null,
            "grid_auto_rows": null,
            "grid_column": null,
            "grid_gap": null,
            "grid_row": null,
            "grid_template_areas": null,
            "grid_template_columns": null,
            "grid_template_rows": null,
            "height": null,
            "justify_content": null,
            "justify_items": null,
            "left": null,
            "margin": null,
            "max_height": null,
            "max_width": null,
            "min_height": null,
            "min_width": null,
            "object_fit": null,
            "object_position": null,
            "order": null,
            "overflow": null,
            "overflow_x": null,
            "overflow_y": null,
            "padding": null,
            "right": null,
            "top": null,
            "visibility": null,
            "width": null
          }
        },
        "a3e1d5a015164a7cb4affd93f1165245": {
          "model_module": "@jupyter-widgets/controls",
          "model_name": "VBoxModel",
          "model_module_version": "1.5.0",
          "state": {
            "_dom_classes": [
              "widget-interact"
            ],
            "_model_module": "@jupyter-widgets/controls",
            "_model_module_version": "1.5.0",
            "_model_name": "VBoxModel",
            "_view_count": null,
            "_view_module": "@jupyter-widgets/controls",
            "_view_module_version": "1.5.0",
            "_view_name": "VBoxView",
            "box_style": "",
            "children": [
              "IPY_MODEL_326a84e879444fa58fa764df318ea9b0",
              "IPY_MODEL_5a5d70b40d714c26bf105c6969fd643c"
            ],
            "layout": "IPY_MODEL_400e6137350a4700a8c503cad9297bcc"
          }
        },
        "326a84e879444fa58fa764df318ea9b0": {
          "model_module": "@jupyter-widgets/controls",
          "model_name": "FloatSliderModel",
          "model_module_version": "1.5.0",
          "state": {
            "_dom_classes": [],
            "_model_module": "@jupyter-widgets/controls",
            "_model_module_version": "1.5.0",
            "_model_name": "FloatSliderModel",
            "_view_count": null,
            "_view_module": "@jupyter-widgets/controls",
            "_view_module_version": "1.5.0",
            "_view_name": "FloatSliderView",
            "continuous_update": true,
            "description": "x",
            "description_tooltip": null,
            "disabled": false,
            "layout": "IPY_MODEL_efdc8d5be26648498fc68e754ab44813",
            "max": 10,
            "min": 1,
            "orientation": "horizontal",
            "readout": true,
            "readout_format": ".2f",
            "step": 0.1,
            "style": "IPY_MODEL_c7eb68ec46c54721b863de2c139953f5",
            "value": 5.5
          }
        },
        "5a5d70b40d714c26bf105c6969fd643c": {
          "model_module": "@jupyter-widgets/output",
          "model_name": "OutputModel",
          "model_module_version": "1.0.0",
          "state": {
            "_dom_classes": [],
            "_model_module": "@jupyter-widgets/output",
            "_model_module_version": "1.0.0",
            "_model_name": "OutputModel",
            "_view_count": null,
            "_view_module": "@jupyter-widgets/output",
            "_view_module_version": "1.0.0",
            "_view_name": "OutputView",
            "layout": "IPY_MODEL_31e49a0786ad4c5c89ccbe7e72c9c48a",
            "msg_id": "",
            "outputs": [
              {
                "output_type": "stream",
                "name": "stdout",
                "text": [
                  "5.5\n"
                ]
              }
            ]
          }
        },
        "400e6137350a4700a8c503cad9297bcc": {
          "model_module": "@jupyter-widgets/base",
          "model_name": "LayoutModel",
          "model_module_version": "1.2.0",
          "state": {
            "_model_module": "@jupyter-widgets/base",
            "_model_module_version": "1.2.0",
            "_model_name": "LayoutModel",
            "_view_count": null,
            "_view_module": "@jupyter-widgets/base",
            "_view_module_version": "1.2.0",
            "_view_name": "LayoutView",
            "align_content": null,
            "align_items": null,
            "align_self": null,
            "border": null,
            "bottom": null,
            "display": null,
            "flex": null,
            "flex_flow": null,
            "grid_area": null,
            "grid_auto_columns": null,
            "grid_auto_flow": null,
            "grid_auto_rows": null,
            "grid_column": null,
            "grid_gap": null,
            "grid_row": null,
            "grid_template_areas": null,
            "grid_template_columns": null,
            "grid_template_rows": null,
            "height": null,
            "justify_content": null,
            "justify_items": null,
            "left": null,
            "margin": null,
            "max_height": null,
            "max_width": null,
            "min_height": null,
            "min_width": null,
            "object_fit": null,
            "object_position": null,
            "order": null,
            "overflow": null,
            "overflow_x": null,
            "overflow_y": null,
            "padding": null,
            "right": null,
            "top": null,
            "visibility": null,
            "width": null
          }
        },
        "efdc8d5be26648498fc68e754ab44813": {
          "model_module": "@jupyter-widgets/base",
          "model_name": "LayoutModel",
          "model_module_version": "1.2.0",
          "state": {
            "_model_module": "@jupyter-widgets/base",
            "_model_module_version": "1.2.0",
            "_model_name": "LayoutModel",
            "_view_count": null,
            "_view_module": "@jupyter-widgets/base",
            "_view_module_version": "1.2.0",
            "_view_name": "LayoutView",
            "align_content": null,
            "align_items": null,
            "align_self": null,
            "border": null,
            "bottom": null,
            "display": null,
            "flex": null,
            "flex_flow": null,
            "grid_area": null,
            "grid_auto_columns": null,
            "grid_auto_flow": null,
            "grid_auto_rows": null,
            "grid_column": null,
            "grid_gap": null,
            "grid_row": null,
            "grid_template_areas": null,
            "grid_template_columns": null,
            "grid_template_rows": null,
            "height": null,
            "justify_content": null,
            "justify_items": null,
            "left": null,
            "margin": null,
            "max_height": null,
            "max_width": null,
            "min_height": null,
            "min_width": null,
            "object_fit": null,
            "object_position": null,
            "order": null,
            "overflow": null,
            "overflow_x": null,
            "overflow_y": null,
            "padding": null,
            "right": null,
            "top": null,
            "visibility": null,
            "width": null
          }
        },
        "c7eb68ec46c54721b863de2c139953f5": {
          "model_module": "@jupyter-widgets/controls",
          "model_name": "SliderStyleModel",
          "model_module_version": "1.5.0",
          "state": {
            "_model_module": "@jupyter-widgets/controls",
            "_model_module_version": "1.5.0",
            "_model_name": "SliderStyleModel",
            "_view_count": null,
            "_view_module": "@jupyter-widgets/base",
            "_view_module_version": "1.2.0",
            "_view_name": "StyleView",
            "description_width": "",
            "handle_color": null
          }
        },
        "31e49a0786ad4c5c89ccbe7e72c9c48a": {
          "model_module": "@jupyter-widgets/base",
          "model_name": "LayoutModel",
          "model_module_version": "1.2.0",
          "state": {
            "_model_module": "@jupyter-widgets/base",
            "_model_module_version": "1.2.0",
            "_model_name": "LayoutModel",
            "_view_count": null,
            "_view_module": "@jupyter-widgets/base",
            "_view_module_version": "1.2.0",
            "_view_name": "LayoutView",
            "align_content": null,
            "align_items": null,
            "align_self": null,
            "border": null,
            "bottom": null,
            "display": null,
            "flex": null,
            "flex_flow": null,
            "grid_area": null,
            "grid_auto_columns": null,
            "grid_auto_flow": null,
            "grid_auto_rows": null,
            "grid_column": null,
            "grid_gap": null,
            "grid_row": null,
            "grid_template_areas": null,
            "grid_template_columns": null,
            "grid_template_rows": null,
            "height": null,
            "justify_content": null,
            "justify_items": null,
            "left": null,
            "margin": null,
            "max_height": null,
            "max_width": null,
            "min_height": null,
            "min_width": null,
            "object_fit": null,
            "object_position": null,
            "order": null,
            "overflow": null,
            "overflow_x": null,
            "overflow_y": null,
            "padding": null,
            "right": null,
            "top": null,
            "visibility": null,
            "width": null
          }
        },
        "ee69912568d440fc9f76fe7a4d586edc": {
          "model_module": "@jupyter-widgets/controls",
          "model_name": "VBoxModel",
          "model_module_version": "1.5.0",
          "state": {
            "_dom_classes": [
              "widget-interact"
            ],
            "_model_module": "@jupyter-widgets/controls",
            "_model_module_version": "1.5.0",
            "_model_name": "VBoxModel",
            "_view_count": null,
            "_view_module": "@jupyter-widgets/controls",
            "_view_module_version": "1.5.0",
            "_view_name": "VBoxView",
            "box_style": "",
            "children": [
              "IPY_MODEL_4c38e2128afe46f0b56540f44646b4a1",
              "IPY_MODEL_872fcfa000ab4849b1943b7b5b0e95d1"
            ],
            "layout": "IPY_MODEL_7d5d2a750bf14ae48d29b2ec70c6972c"
          }
        },
        "4c38e2128afe46f0b56540f44646b4a1": {
          "model_module": "@jupyter-widgets/controls",
          "model_name": "TextModel",
          "model_module_version": "1.5.0",
          "state": {
            "_dom_classes": [],
            "_model_module": "@jupyter-widgets/controls",
            "_model_module_version": "1.5.0",
            "_model_name": "TextModel",
            "_view_count": null,
            "_view_module": "@jupyter-widgets/controls",
            "_view_module_version": "1.5.0",
            "_view_name": "TextView",
            "continuous_update": true,
            "description": "x",
            "description_tooltip": null,
            "disabled": false,
            "layout": "IPY_MODEL_7ae04168f14146dda18eeb729ca08b7d",
            "placeholder": "​",
            "style": "IPY_MODEL_235dee42e21a4fc597c9b4586f023235",
            "value": "hi"
          }
        },
        "872fcfa000ab4849b1943b7b5b0e95d1": {
          "model_module": "@jupyter-widgets/output",
          "model_name": "OutputModel",
          "model_module_version": "1.0.0",
          "state": {
            "_dom_classes": [],
            "_model_module": "@jupyter-widgets/output",
            "_model_module_version": "1.0.0",
            "_model_name": "OutputModel",
            "_view_count": null,
            "_view_module": "@jupyter-widgets/output",
            "_view_module_version": "1.0.0",
            "_view_name": "OutputView",
            "layout": "IPY_MODEL_758c879b31b8466ab0260a5694777d17",
            "msg_id": "",
            "outputs": [
              {
                "output_type": "stream",
                "name": "stdout",
                "text": [
                  "hi\n"
                ]
              }
            ]
          }
        },
        "7d5d2a750bf14ae48d29b2ec70c6972c": {
          "model_module": "@jupyter-widgets/base",
          "model_name": "LayoutModel",
          "model_module_version": "1.2.0",
          "state": {
            "_model_module": "@jupyter-widgets/base",
            "_model_module_version": "1.2.0",
            "_model_name": "LayoutModel",
            "_view_count": null,
            "_view_module": "@jupyter-widgets/base",
            "_view_module_version": "1.2.0",
            "_view_name": "LayoutView",
            "align_content": null,
            "align_items": null,
            "align_self": null,
            "border": null,
            "bottom": null,
            "display": null,
            "flex": null,
            "flex_flow": null,
            "grid_area": null,
            "grid_auto_columns": null,
            "grid_auto_flow": null,
            "grid_auto_rows": null,
            "grid_column": null,
            "grid_gap": null,
            "grid_row": null,
            "grid_template_areas": null,
            "grid_template_columns": null,
            "grid_template_rows": null,
            "height": null,
            "justify_content": null,
            "justify_items": null,
            "left": null,
            "margin": null,
            "max_height": null,
            "max_width": null,
            "min_height": null,
            "min_width": null,
            "object_fit": null,
            "object_position": null,
            "order": null,
            "overflow": null,
            "overflow_x": null,
            "overflow_y": null,
            "padding": null,
            "right": null,
            "top": null,
            "visibility": null,
            "width": null
          }
        },
        "7ae04168f14146dda18eeb729ca08b7d": {
          "model_module": "@jupyter-widgets/base",
          "model_name": "LayoutModel",
          "model_module_version": "1.2.0",
          "state": {
            "_model_module": "@jupyter-widgets/base",
            "_model_module_version": "1.2.0",
            "_model_name": "LayoutModel",
            "_view_count": null,
            "_view_module": "@jupyter-widgets/base",
            "_view_module_version": "1.2.0",
            "_view_name": "LayoutView",
            "align_content": null,
            "align_items": null,
            "align_self": null,
            "border": null,
            "bottom": null,
            "display": null,
            "flex": null,
            "flex_flow": null,
            "grid_area": null,
            "grid_auto_columns": null,
            "grid_auto_flow": null,
            "grid_auto_rows": null,
            "grid_column": null,
            "grid_gap": null,
            "grid_row": null,
            "grid_template_areas": null,
            "grid_template_columns": null,
            "grid_template_rows": null,
            "height": null,
            "justify_content": null,
            "justify_items": null,
            "left": null,
            "margin": null,
            "max_height": null,
            "max_width": null,
            "min_height": null,
            "min_width": null,
            "object_fit": null,
            "object_position": null,
            "order": null,
            "overflow": null,
            "overflow_x": null,
            "overflow_y": null,
            "padding": null,
            "right": null,
            "top": null,
            "visibility": null,
            "width": null
          }
        },
        "235dee42e21a4fc597c9b4586f023235": {
          "model_module": "@jupyter-widgets/controls",
          "model_name": "DescriptionStyleModel",
          "model_module_version": "1.5.0",
          "state": {
            "_model_module": "@jupyter-widgets/controls",
            "_model_module_version": "1.5.0",
            "_model_name": "DescriptionStyleModel",
            "_view_count": null,
            "_view_module": "@jupyter-widgets/base",
            "_view_module_version": "1.2.0",
            "_view_name": "StyleView",
            "description_width": ""
          }
        },
        "758c879b31b8466ab0260a5694777d17": {
          "model_module": "@jupyter-widgets/base",
          "model_name": "LayoutModel",
          "model_module_version": "1.2.0",
          "state": {
            "_model_module": "@jupyter-widgets/base",
            "_model_module_version": "1.2.0",
            "_model_name": "LayoutModel",
            "_view_count": null,
            "_view_module": "@jupyter-widgets/base",
            "_view_module_version": "1.2.0",
            "_view_name": "LayoutView",
            "align_content": null,
            "align_items": null,
            "align_self": null,
            "border": null,
            "bottom": null,
            "display": null,
            "flex": null,
            "flex_flow": null,
            "grid_area": null,
            "grid_auto_columns": null,
            "grid_auto_flow": null,
            "grid_auto_rows": null,
            "grid_column": null,
            "grid_gap": null,
            "grid_row": null,
            "grid_template_areas": null,
            "grid_template_columns": null,
            "grid_template_rows": null,
            "height": null,
            "justify_content": null,
            "justify_items": null,
            "left": null,
            "margin": null,
            "max_height": null,
            "max_width": null,
            "min_height": null,
            "min_width": null,
            "object_fit": null,
            "object_position": null,
            "order": null,
            "overflow": null,
            "overflow_x": null,
            "overflow_y": null,
            "padding": null,
            "right": null,
            "top": null,
            "visibility": null,
            "width": null
          }
        },
        "bd0adbea72ad40a584e0eb0a0a02ea91": {
          "model_module": "@jupyter-widgets/controls",
          "model_name": "VBoxModel",
          "model_module_version": "1.5.0",
          "state": {
            "_dom_classes": [
              "widget-interact"
            ],
            "_model_module": "@jupyter-widgets/controls",
            "_model_module_version": "1.5.0",
            "_model_name": "VBoxModel",
            "_view_count": null,
            "_view_module": "@jupyter-widgets/controls",
            "_view_module_version": "1.5.0",
            "_view_name": "VBoxView",
            "box_style": "",
            "children": [
              "IPY_MODEL_8f0a2a2292c04f82957c3b055ea43d8c",
              "IPY_MODEL_4595dbb6f8f34af593f113299498fd9c"
            ],
            "layout": "IPY_MODEL_16283478dcd04128b5f56d3660433e8b"
          }
        },
        "8f0a2a2292c04f82957c3b055ea43d8c": {
          "model_module": "@jupyter-widgets/controls",
          "model_name": "DropdownModel",
          "model_module_version": "1.5.0",
          "state": {
            "_dom_classes": [],
            "_model_module": "@jupyter-widgets/controls",
            "_model_module_version": "1.5.0",
            "_model_name": "DropdownModel",
            "_options_labels": [
              "台北",
              "台中",
              "台南",
              "高雄"
            ],
            "_view_count": null,
            "_view_module": "@jupyter-widgets/controls",
            "_view_module_version": "1.5.0",
            "_view_name": "DropdownView",
            "description": "x",
            "description_tooltip": null,
            "disabled": false,
            "index": 0,
            "layout": "IPY_MODEL_58d3021468ba44f2b7dbb0001615d96e",
            "style": "IPY_MODEL_b3145acb0626466baffc7f3061923124"
          }
        },
        "4595dbb6f8f34af593f113299498fd9c": {
          "model_module": "@jupyter-widgets/output",
          "model_name": "OutputModel",
          "model_module_version": "1.0.0",
          "state": {
            "_dom_classes": [],
            "_model_module": "@jupyter-widgets/output",
            "_model_module_version": "1.0.0",
            "_model_name": "OutputModel",
            "_view_count": null,
            "_view_module": "@jupyter-widgets/output",
            "_view_module_version": "1.0.0",
            "_view_name": "OutputView",
            "layout": "IPY_MODEL_57e64c5a38e0403f915150bb34a82002",
            "msg_id": "",
            "outputs": [
              {
                "output_type": "stream",
                "name": "stdout",
                "text": [
                  "台北\n"
                ]
              }
            ]
          }
        },
        "16283478dcd04128b5f56d3660433e8b": {
          "model_module": "@jupyter-widgets/base",
          "model_name": "LayoutModel",
          "model_module_version": "1.2.0",
          "state": {
            "_model_module": "@jupyter-widgets/base",
            "_model_module_version": "1.2.0",
            "_model_name": "LayoutModel",
            "_view_count": null,
            "_view_module": "@jupyter-widgets/base",
            "_view_module_version": "1.2.0",
            "_view_name": "LayoutView",
            "align_content": null,
            "align_items": null,
            "align_self": null,
            "border": null,
            "bottom": null,
            "display": null,
            "flex": null,
            "flex_flow": null,
            "grid_area": null,
            "grid_auto_columns": null,
            "grid_auto_flow": null,
            "grid_auto_rows": null,
            "grid_column": null,
            "grid_gap": null,
            "grid_row": null,
            "grid_template_areas": null,
            "grid_template_columns": null,
            "grid_template_rows": null,
            "height": null,
            "justify_content": null,
            "justify_items": null,
            "left": null,
            "margin": null,
            "max_height": null,
            "max_width": null,
            "min_height": null,
            "min_width": null,
            "object_fit": null,
            "object_position": null,
            "order": null,
            "overflow": null,
            "overflow_x": null,
            "overflow_y": null,
            "padding": null,
            "right": null,
            "top": null,
            "visibility": null,
            "width": null
          }
        },
        "58d3021468ba44f2b7dbb0001615d96e": {
          "model_module": "@jupyter-widgets/base",
          "model_name": "LayoutModel",
          "model_module_version": "1.2.0",
          "state": {
            "_model_module": "@jupyter-widgets/base",
            "_model_module_version": "1.2.0",
            "_model_name": "LayoutModel",
            "_view_count": null,
            "_view_module": "@jupyter-widgets/base",
            "_view_module_version": "1.2.0",
            "_view_name": "LayoutView",
            "align_content": null,
            "align_items": null,
            "align_self": null,
            "border": null,
            "bottom": null,
            "display": null,
            "flex": null,
            "flex_flow": null,
            "grid_area": null,
            "grid_auto_columns": null,
            "grid_auto_flow": null,
            "grid_auto_rows": null,
            "grid_column": null,
            "grid_gap": null,
            "grid_row": null,
            "grid_template_areas": null,
            "grid_template_columns": null,
            "grid_template_rows": null,
            "height": null,
            "justify_content": null,
            "justify_items": null,
            "left": null,
            "margin": null,
            "max_height": null,
            "max_width": null,
            "min_height": null,
            "min_width": null,
            "object_fit": null,
            "object_position": null,
            "order": null,
            "overflow": null,
            "overflow_x": null,
            "overflow_y": null,
            "padding": null,
            "right": null,
            "top": null,
            "visibility": null,
            "width": null
          }
        },
        "b3145acb0626466baffc7f3061923124": {
          "model_module": "@jupyter-widgets/controls",
          "model_name": "DescriptionStyleModel",
          "model_module_version": "1.5.0",
          "state": {
            "_model_module": "@jupyter-widgets/controls",
            "_model_module_version": "1.5.0",
            "_model_name": "DescriptionStyleModel",
            "_view_count": null,
            "_view_module": "@jupyter-widgets/base",
            "_view_module_version": "1.2.0",
            "_view_name": "StyleView",
            "description_width": ""
          }
        },
        "57e64c5a38e0403f915150bb34a82002": {
          "model_module": "@jupyter-widgets/base",
          "model_name": "LayoutModel",
          "model_module_version": "1.2.0",
          "state": {
            "_model_module": "@jupyter-widgets/base",
            "_model_module_version": "1.2.0",
            "_model_name": "LayoutModel",
            "_view_count": null,
            "_view_module": "@jupyter-widgets/base",
            "_view_module_version": "1.2.0",
            "_view_name": "LayoutView",
            "align_content": null,
            "align_items": null,
            "align_self": null,
            "border": null,
            "bottom": null,
            "display": null,
            "flex": null,
            "flex_flow": null,
            "grid_area": null,
            "grid_auto_columns": null,
            "grid_auto_flow": null,
            "grid_auto_rows": null,
            "grid_column": null,
            "grid_gap": null,
            "grid_row": null,
            "grid_template_areas": null,
            "grid_template_columns": null,
            "grid_template_rows": null,
            "height": null,
            "justify_content": null,
            "justify_items": null,
            "left": null,
            "margin": null,
            "max_height": null,
            "max_width": null,
            "min_height": null,
            "min_width": null,
            "object_fit": null,
            "object_position": null,
            "order": null,
            "overflow": null,
            "overflow_x": null,
            "overflow_y": null,
            "padding": null,
            "right": null,
            "top": null,
            "visibility": null,
            "width": null
          }
        },
        "9a42c57c26b646c29e5bd7f15658f758": {
          "model_module": "@jupyter-widgets/controls",
          "model_name": "VBoxModel",
          "model_module_version": "1.5.0",
          "state": {
            "_dom_classes": [
              "widget-interact"
            ],
            "_model_module": "@jupyter-widgets/controls",
            "_model_module_version": "1.5.0",
            "_model_name": "VBoxModel",
            "_view_count": null,
            "_view_module": "@jupyter-widgets/controls",
            "_view_module_version": "1.5.0",
            "_view_name": "VBoxView",
            "box_style": "",
            "children": [
              "IPY_MODEL_39c1adc040944259b3048bfcfa521832",
              "IPY_MODEL_614f28ef6ec14528a29815404719df38"
            ],
            "layout": "IPY_MODEL_aee0198e860b42b689f4e73d9dfceeed"
          }
        },
        "39c1adc040944259b3048bfcfa521832": {
          "model_module": "@jupyter-widgets/controls",
          "model_name": "DropdownModel",
          "model_module_version": "1.5.0",
          "state": {
            "_dom_classes": [],
            "_model_module": "@jupyter-widgets/controls",
            "_model_module_version": "1.5.0",
            "_model_name": "DropdownModel",
            "_options_labels": [
              "台北",
              "台中",
              "台南",
              "高雄"
            ],
            "_view_count": null,
            "_view_module": "@jupyter-widgets/controls",
            "_view_module_version": "1.5.0",
            "_view_name": "DropdownView",
            "description": "x",
            "description_tooltip": null,
            "disabled": false,
            "index": 0,
            "layout": "IPY_MODEL_c50fecae5e8746069f2899e0910f24b8",
            "style": "IPY_MODEL_dcb5508b59f64ba0b474b8ef2929abc3"
          }
        },
        "614f28ef6ec14528a29815404719df38": {
          "model_module": "@jupyter-widgets/output",
          "model_name": "OutputModel",
          "model_module_version": "1.0.0",
          "state": {
            "_dom_classes": [],
            "_model_module": "@jupyter-widgets/output",
            "_model_module_version": "1.0.0",
            "_model_name": "OutputModel",
            "_view_count": null,
            "_view_module": "@jupyter-widgets/output",
            "_view_module_version": "1.0.0",
            "_view_name": "OutputView",
            "layout": "IPY_MODEL_cfaebf275a144fe6b43e70c712606e03",
            "msg_id": "",
            "outputs": [
              {
                "output_type": "stream",
                "name": "stdout",
                "text": [
                  "1\n"
                ]
              }
            ]
          }
        },
        "aee0198e860b42b689f4e73d9dfceeed": {
          "model_module": "@jupyter-widgets/base",
          "model_name": "LayoutModel",
          "model_module_version": "1.2.0",
          "state": {
            "_model_module": "@jupyter-widgets/base",
            "_model_module_version": "1.2.0",
            "_model_name": "LayoutModel",
            "_view_count": null,
            "_view_module": "@jupyter-widgets/base",
            "_view_module_version": "1.2.0",
            "_view_name": "LayoutView",
            "align_content": null,
            "align_items": null,
            "align_self": null,
            "border": null,
            "bottom": null,
            "display": null,
            "flex": null,
            "flex_flow": null,
            "grid_area": null,
            "grid_auto_columns": null,
            "grid_auto_flow": null,
            "grid_auto_rows": null,
            "grid_column": null,
            "grid_gap": null,
            "grid_row": null,
            "grid_template_areas": null,
            "grid_template_columns": null,
            "grid_template_rows": null,
            "height": null,
            "justify_content": null,
            "justify_items": null,
            "left": null,
            "margin": null,
            "max_height": null,
            "max_width": null,
            "min_height": null,
            "min_width": null,
            "object_fit": null,
            "object_position": null,
            "order": null,
            "overflow": null,
            "overflow_x": null,
            "overflow_y": null,
            "padding": null,
            "right": null,
            "top": null,
            "visibility": null,
            "width": null
          }
        },
        "c50fecae5e8746069f2899e0910f24b8": {
          "model_module": "@jupyter-widgets/base",
          "model_name": "LayoutModel",
          "model_module_version": "1.2.0",
          "state": {
            "_model_module": "@jupyter-widgets/base",
            "_model_module_version": "1.2.0",
            "_model_name": "LayoutModel",
            "_view_count": null,
            "_view_module": "@jupyter-widgets/base",
            "_view_module_version": "1.2.0",
            "_view_name": "LayoutView",
            "align_content": null,
            "align_items": null,
            "align_self": null,
            "border": null,
            "bottom": null,
            "display": null,
            "flex": null,
            "flex_flow": null,
            "grid_area": null,
            "grid_auto_columns": null,
            "grid_auto_flow": null,
            "grid_auto_rows": null,
            "grid_column": null,
            "grid_gap": null,
            "grid_row": null,
            "grid_template_areas": null,
            "grid_template_columns": null,
            "grid_template_rows": null,
            "height": null,
            "justify_content": null,
            "justify_items": null,
            "left": null,
            "margin": null,
            "max_height": null,
            "max_width": null,
            "min_height": null,
            "min_width": null,
            "object_fit": null,
            "object_position": null,
            "order": null,
            "overflow": null,
            "overflow_x": null,
            "overflow_y": null,
            "padding": null,
            "right": null,
            "top": null,
            "visibility": null,
            "width": null
          }
        },
        "dcb5508b59f64ba0b474b8ef2929abc3": {
          "model_module": "@jupyter-widgets/controls",
          "model_name": "DescriptionStyleModel",
          "model_module_version": "1.5.0",
          "state": {
            "_model_module": "@jupyter-widgets/controls",
            "_model_module_version": "1.5.0",
            "_model_name": "DescriptionStyleModel",
            "_view_count": null,
            "_view_module": "@jupyter-widgets/base",
            "_view_module_version": "1.2.0",
            "_view_name": "StyleView",
            "description_width": ""
          }
        },
        "cfaebf275a144fe6b43e70c712606e03": {
          "model_module": "@jupyter-widgets/base",
          "model_name": "LayoutModel",
          "model_module_version": "1.2.0",
          "state": {
            "_model_module": "@jupyter-widgets/base",
            "_model_module_version": "1.2.0",
            "_model_name": "LayoutModel",
            "_view_count": null,
            "_view_module": "@jupyter-widgets/base",
            "_view_module_version": "1.2.0",
            "_view_name": "LayoutView",
            "align_content": null,
            "align_items": null,
            "align_self": null,
            "border": null,
            "bottom": null,
            "display": null,
            "flex": null,
            "flex_flow": null,
            "grid_area": null,
            "grid_auto_columns": null,
            "grid_auto_flow": null,
            "grid_auto_rows": null,
            "grid_column": null,
            "grid_gap": null,
            "grid_row": null,
            "grid_template_areas": null,
            "grid_template_columns": null,
            "grid_template_rows": null,
            "height": null,
            "justify_content": null,
            "justify_items": null,
            "left": null,
            "margin": null,
            "max_height": null,
            "max_width": null,
            "min_height": null,
            "min_width": null,
            "object_fit": null,
            "object_position": null,
            "order": null,
            "overflow": null,
            "overflow_x": null,
            "overflow_y": null,
            "padding": null,
            "right": null,
            "top": null,
            "visibility": null,
            "width": null
          }
        },
        "6cf044f45e084b7d9de10f2a493d62a9": {
          "model_module": "@jupyter-widgets/controls",
          "model_name": "VBoxModel",
          "model_module_version": "1.5.0",
          "state": {
            "_dom_classes": [
              "widget-interact"
            ],
            "_model_module": "@jupyter-widgets/controls",
            "_model_module_version": "1.5.0",
            "_model_name": "VBoxModel",
            "_view_count": null,
            "_view_module": "@jupyter-widgets/controls",
            "_view_module_version": "1.5.0",
            "_view_name": "VBoxView",
            "box_style": "",
            "children": [
              "IPY_MODEL_74fbc18ae6144c4d8266f54bfd9e5ad6",
              "IPY_MODEL_e18e1898248a4160a44089499384895a"
            ],
            "layout": "IPY_MODEL_f32fe362b2964d429cdb94e23ec7989f"
          }
        },
        "74fbc18ae6144c4d8266f54bfd9e5ad6": {
          "model_module": "@jupyter-widgets/controls",
          "model_name": "IntSliderModel",
          "model_module_version": "1.5.0",
          "state": {
            "_dom_classes": [],
            "_model_module": "@jupyter-widgets/controls",
            "_model_module_version": "1.5.0",
            "_model_name": "IntSliderModel",
            "_view_count": null,
            "_view_module": "@jupyter-widgets/controls",
            "_view_module_version": "1.5.0",
            "_view_name": "IntSliderView",
            "continuous_update": true,
            "description": "n",
            "description_tooltip": null,
            "disabled": false,
            "layout": "IPY_MODEL_0e664fecc1834e5091bc9492ffe1fe50",
            "max": 50,
            "min": 1,
            "orientation": "horizontal",
            "readout": true,
            "readout_format": "d",
            "step": 1,
            "style": "IPY_MODEL_73bfae58a0a746c0894acd5f905df665",
            "value": 25
          }
        },
        "e18e1898248a4160a44089499384895a": {
          "model_module": "@jupyter-widgets/output",
          "model_name": "OutputModel",
          "model_module_version": "1.0.0",
          "state": {
            "_dom_classes": [],
            "_model_module": "@jupyter-widgets/output",
            "_model_module_version": "1.0.0",
            "_model_name": "OutputModel",
            "_view_count": null,
            "_view_module": "@jupyter-widgets/output",
            "_view_module_version": "1.0.0",
            "_view_name": "OutputView",
            "layout": "IPY_MODEL_96008cb2efba4837b985fa53bf476b02",
            "msg_id": "",
            "outputs": [
              {
                "output_type": "stream",
                "name": "stdout",
                "text": [
                  "                         oooo\n"
                ]
              }
            ]
          }
        },
        "f32fe362b2964d429cdb94e23ec7989f": {
          "model_module": "@jupyter-widgets/base",
          "model_name": "LayoutModel",
          "model_module_version": "1.2.0",
          "state": {
            "_model_module": "@jupyter-widgets/base",
            "_model_module_version": "1.2.0",
            "_model_name": "LayoutModel",
            "_view_count": null,
            "_view_module": "@jupyter-widgets/base",
            "_view_module_version": "1.2.0",
            "_view_name": "LayoutView",
            "align_content": null,
            "align_items": null,
            "align_self": null,
            "border": null,
            "bottom": null,
            "display": null,
            "flex": null,
            "flex_flow": null,
            "grid_area": null,
            "grid_auto_columns": null,
            "grid_auto_flow": null,
            "grid_auto_rows": null,
            "grid_column": null,
            "grid_gap": null,
            "grid_row": null,
            "grid_template_areas": null,
            "grid_template_columns": null,
            "grid_template_rows": null,
            "height": null,
            "justify_content": null,
            "justify_items": null,
            "left": null,
            "margin": null,
            "max_height": null,
            "max_width": null,
            "min_height": null,
            "min_width": null,
            "object_fit": null,
            "object_position": null,
            "order": null,
            "overflow": null,
            "overflow_x": null,
            "overflow_y": null,
            "padding": null,
            "right": null,
            "top": null,
            "visibility": null,
            "width": null
          }
        },
        "0e664fecc1834e5091bc9492ffe1fe50": {
          "model_module": "@jupyter-widgets/base",
          "model_name": "LayoutModel",
          "model_module_version": "1.2.0",
          "state": {
            "_model_module": "@jupyter-widgets/base",
            "_model_module_version": "1.2.0",
            "_model_name": "LayoutModel",
            "_view_count": null,
            "_view_module": "@jupyter-widgets/base",
            "_view_module_version": "1.2.0",
            "_view_name": "LayoutView",
            "align_content": null,
            "align_items": null,
            "align_self": null,
            "border": null,
            "bottom": null,
            "display": null,
            "flex": null,
            "flex_flow": null,
            "grid_area": null,
            "grid_auto_columns": null,
            "grid_auto_flow": null,
            "grid_auto_rows": null,
            "grid_column": null,
            "grid_gap": null,
            "grid_row": null,
            "grid_template_areas": null,
            "grid_template_columns": null,
            "grid_template_rows": null,
            "height": null,
            "justify_content": null,
            "justify_items": null,
            "left": null,
            "margin": null,
            "max_height": null,
            "max_width": null,
            "min_height": null,
            "min_width": null,
            "object_fit": null,
            "object_position": null,
            "order": null,
            "overflow": null,
            "overflow_x": null,
            "overflow_y": null,
            "padding": null,
            "right": null,
            "top": null,
            "visibility": null,
            "width": null
          }
        },
        "73bfae58a0a746c0894acd5f905df665": {
          "model_module": "@jupyter-widgets/controls",
          "model_name": "SliderStyleModel",
          "model_module_version": "1.5.0",
          "state": {
            "_model_module": "@jupyter-widgets/controls",
            "_model_module_version": "1.5.0",
            "_model_name": "SliderStyleModel",
            "_view_count": null,
            "_view_module": "@jupyter-widgets/base",
            "_view_module_version": "1.2.0",
            "_view_name": "StyleView",
            "description_width": "",
            "handle_color": null
          }
        },
        "96008cb2efba4837b985fa53bf476b02": {
          "model_module": "@jupyter-widgets/base",
          "model_name": "LayoutModel",
          "model_module_version": "1.2.0",
          "state": {
            "_model_module": "@jupyter-widgets/base",
            "_model_module_version": "1.2.0",
            "_model_name": "LayoutModel",
            "_view_count": null,
            "_view_module": "@jupyter-widgets/base",
            "_view_module_version": "1.2.0",
            "_view_name": "LayoutView",
            "align_content": null,
            "align_items": null,
            "align_self": null,
            "border": null,
            "bottom": null,
            "display": null,
            "flex": null,
            "flex_flow": null,
            "grid_area": null,
            "grid_auto_columns": null,
            "grid_auto_flow": null,
            "grid_auto_rows": null,
            "grid_column": null,
            "grid_gap": null,
            "grid_row": null,
            "grid_template_areas": null,
            "grid_template_columns": null,
            "grid_template_rows": null,
            "height": null,
            "justify_content": null,
            "justify_items": null,
            "left": null,
            "margin": null,
            "max_height": null,
            "max_width": null,
            "min_height": null,
            "min_width": null,
            "object_fit": null,
            "object_position": null,
            "order": null,
            "overflow": null,
            "overflow_x": null,
            "overflow_y": null,
            "padding": null,
            "right": null,
            "top": null,
            "visibility": null,
            "width": null
          }
        },
        "7747c29ce8e042be95249afd6df52b81": {
          "model_module": "@jupyter-widgets/controls",
          "model_name": "VBoxModel",
          "model_module_version": "1.5.0",
          "state": {
            "_dom_classes": [
              "widget-interact"
            ],
            "_model_module": "@jupyter-widgets/controls",
            "_model_module_version": "1.5.0",
            "_model_name": "VBoxModel",
            "_view_count": null,
            "_view_module": "@jupyter-widgets/controls",
            "_view_module_version": "1.5.0",
            "_view_name": "VBoxView",
            "box_style": "",
            "children": [
              "IPY_MODEL_1b36a4d32718466b9dfba9a47377b634",
              "IPY_MODEL_cf7ccb278311498285a689e4efbb7726"
            ],
            "layout": "IPY_MODEL_5a4bd0a1c0d94534b327be025b4e4272"
          }
        },
        "1b36a4d32718466b9dfba9a47377b634": {
          "model_module": "@jupyter-widgets/controls",
          "model_name": "FloatSliderModel",
          "model_module_version": "1.5.0",
          "state": {
            "_dom_classes": [],
            "_model_module": "@jupyter-widgets/controls",
            "_model_module_version": "1.5.0",
            "_model_name": "FloatSliderModel",
            "_view_count": null,
            "_view_module": "@jupyter-widgets/controls",
            "_view_module_version": "1.5.0",
            "_view_name": "FloatSliderView",
            "continuous_update": true,
            "description": "n",
            "description_tooltip": null,
            "disabled": false,
            "layout": "IPY_MODEL_5f3c07467c294371944124cb1925ccc4",
            "max": 50,
            "min": 1,
            "orientation": "horizontal",
            "readout": true,
            "readout_format": ".2f",
            "step": 0.1,
            "style": "IPY_MODEL_3cd51cb4de914cfaa3ec73d10bdf328e",
            "value": 25.5
          }
        },
        "cf7ccb278311498285a689e4efbb7726": {
          "model_module": "@jupyter-widgets/output",
          "model_name": "OutputModel",
          "model_module_version": "1.0.0",
          "state": {
            "_dom_classes": [],
            "_model_module": "@jupyter-widgets/output",
            "_model_module_version": "1.0.0",
            "_model_name": "OutputModel",
            "_view_count": null,
            "_view_module": "@jupyter-widgets/output",
            "_view_module_version": "1.0.0",
            "_view_name": "OutputView",
            "layout": "IPY_MODEL_649fa330478243ada0cd9c301170892c",
            "msg_id": "",
            "outputs": [
              {
                "output_type": "display_data",
                "data": {
                  "text/plain": "<Figure size 640x480 with 1 Axes>",
                  "image/png": "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\n"
                },
                "metadata": {}
              }
            ]
          }
        },
        "5a4bd0a1c0d94534b327be025b4e4272": {
          "model_module": "@jupyter-widgets/base",
          "model_name": "LayoutModel",
          "model_module_version": "1.2.0",
          "state": {
            "_model_module": "@jupyter-widgets/base",
            "_model_module_version": "1.2.0",
            "_model_name": "LayoutModel",
            "_view_count": null,
            "_view_module": "@jupyter-widgets/base",
            "_view_module_version": "1.2.0",
            "_view_name": "LayoutView",
            "align_content": null,
            "align_items": null,
            "align_self": null,
            "border": null,
            "bottom": null,
            "display": null,
            "flex": null,
            "flex_flow": null,
            "grid_area": null,
            "grid_auto_columns": null,
            "grid_auto_flow": null,
            "grid_auto_rows": null,
            "grid_column": null,
            "grid_gap": null,
            "grid_row": null,
            "grid_template_areas": null,
            "grid_template_columns": null,
            "grid_template_rows": null,
            "height": null,
            "justify_content": null,
            "justify_items": null,
            "left": null,
            "margin": null,
            "max_height": null,
            "max_width": null,
            "min_height": null,
            "min_width": null,
            "object_fit": null,
            "object_position": null,
            "order": null,
            "overflow": null,
            "overflow_x": null,
            "overflow_y": null,
            "padding": null,
            "right": null,
            "top": null,
            "visibility": null,
            "width": null
          }
        },
        "5f3c07467c294371944124cb1925ccc4": {
          "model_module": "@jupyter-widgets/base",
          "model_name": "LayoutModel",
          "model_module_version": "1.2.0",
          "state": {
            "_model_module": "@jupyter-widgets/base",
            "_model_module_version": "1.2.0",
            "_model_name": "LayoutModel",
            "_view_count": null,
            "_view_module": "@jupyter-widgets/base",
            "_view_module_version": "1.2.0",
            "_view_name": "LayoutView",
            "align_content": null,
            "align_items": null,
            "align_self": null,
            "border": null,
            "bottom": null,
            "display": null,
            "flex": null,
            "flex_flow": null,
            "grid_area": null,
            "grid_auto_columns": null,
            "grid_auto_flow": null,
            "grid_auto_rows": null,
            "grid_column": null,
            "grid_gap": null,
            "grid_row": null,
            "grid_template_areas": null,
            "grid_template_columns": null,
            "grid_template_rows": null,
            "height": null,
            "justify_content": null,
            "justify_items": null,
            "left": null,
            "margin": null,
            "max_height": null,
            "max_width": null,
            "min_height": null,
            "min_width": null,
            "object_fit": null,
            "object_position": null,
            "order": null,
            "overflow": null,
            "overflow_x": null,
            "overflow_y": null,
            "padding": null,
            "right": null,
            "top": null,
            "visibility": null,
            "width": null
          }
        },
        "3cd51cb4de914cfaa3ec73d10bdf328e": {
          "model_module": "@jupyter-widgets/controls",
          "model_name": "SliderStyleModel",
          "model_module_version": "1.5.0",
          "state": {
            "_model_module": "@jupyter-widgets/controls",
            "_model_module_version": "1.5.0",
            "_model_name": "SliderStyleModel",
            "_view_count": null,
            "_view_module": "@jupyter-widgets/base",
            "_view_module_version": "1.2.0",
            "_view_name": "StyleView",
            "description_width": "",
            "handle_color": null
          }
        },
        "649fa330478243ada0cd9c301170892c": {
          "model_module": "@jupyter-widgets/base",
          "model_name": "LayoutModel",
          "model_module_version": "1.2.0",
          "state": {
            "_model_module": "@jupyter-widgets/base",
            "_model_module_version": "1.2.0",
            "_model_name": "LayoutModel",
            "_view_count": null,
            "_view_module": "@jupyter-widgets/base",
            "_view_module_version": "1.2.0",
            "_view_name": "LayoutView",
            "align_content": null,
            "align_items": null,
            "align_self": null,
            "border": null,
            "bottom": null,
            "display": null,
            "flex": null,
            "flex_flow": null,
            "grid_area": null,
            "grid_auto_columns": null,
            "grid_auto_flow": null,
            "grid_auto_rows": null,
            "grid_column": null,
            "grid_gap": null,
            "grid_row": null,
            "grid_template_areas": null,
            "grid_template_columns": null,
            "grid_template_rows": null,
            "height": null,
            "justify_content": null,
            "justify_items": null,
            "left": null,
            "margin": null,
            "max_height": null,
            "max_width": null,
            "min_height": null,
            "min_width": null,
            "object_fit": null,
            "object_position": null,
            "order": null,
            "overflow": null,
            "overflow_x": null,
            "overflow_y": null,
            "padding": null,
            "right": null,
            "top": null,
            "visibility": null,
            "width": null
          }
        },
        "cfd5371a2eb64174ba8aa557c03d133b": {
          "model_module": "@jupyter-widgets/controls",
          "model_name": "VBoxModel",
          "model_module_version": "1.5.0",
          "state": {
            "_dom_classes": [
              "widget-interact"
            ],
            "_model_module": "@jupyter-widgets/controls",
            "_model_module_version": "1.5.0",
            "_model_name": "VBoxModel",
            "_view_count": null,
            "_view_module": "@jupyter-widgets/controls",
            "_view_module_version": "1.5.0",
            "_view_name": "VBoxView",
            "box_style": "",
            "children": [
              "IPY_MODEL_9c8d0d1c7ce8435eacbacf24439ea4ef",
              "IPY_MODEL_6316f316baaa4f7484bacc9eebda8834",
              "IPY_MODEL_79bfbf8ffb3145f98d8c31c314100810"
            ],
            "layout": "IPY_MODEL_c7e19c4328464e6891aaa98342ccbf4b"
          }
        },
        "9c8d0d1c7ce8435eacbacf24439ea4ef": {
          "model_module": "@jupyter-widgets/controls",
          "model_name": "FloatSliderModel",
          "model_module_version": "1.5.0",
          "state": {
            "_dom_classes": [],
            "_model_module": "@jupyter-widgets/controls",
            "_model_module_version": "1.5.0",
            "_model_name": "FloatSliderModel",
            "_view_count": null,
            "_view_module": "@jupyter-widgets/controls",
            "_view_module_version": "1.5.0",
            "_view_name": "FloatSliderView",
            "continuous_update": true,
            "description": "n",
            "description_tooltip": null,
            "disabled": false,
            "layout": "IPY_MODEL_b6fee124f2b64c37979785f331589431",
            "max": 200,
            "min": 1,
            "orientation": "horizontal",
            "readout": true,
            "readout_format": ".2f",
            "step": 0.1,
            "style": "IPY_MODEL_f5734ce6931449f1bc1f0b59ef6358f6",
            "value": 100.5
          }
        },
        "6316f316baaa4f7484bacc9eebda8834": {
          "model_module": "@jupyter-widgets/controls",
          "model_name": "ButtonModel",
          "model_module_version": "1.5.0",
          "state": {
            "_dom_classes": [],
            "_model_module": "@jupyter-widgets/controls",
            "_model_module_version": "1.5.0",
            "_model_name": "ButtonModel",
            "_view_count": null,
            "_view_module": "@jupyter-widgets/controls",
            "_view_module_version": "1.5.0",
            "_view_name": "ButtonView",
            "button_style": "",
            "description": "Run Interact",
            "disabled": false,
            "icon": "",
            "layout": "IPY_MODEL_d627b3dd7ab949189cc79b82fc193d8c",
            "style": "IPY_MODEL_0421349178a14087a8150d3c0b127b29",
            "tooltip": ""
          }
        },
        "79bfbf8ffb3145f98d8c31c314100810": {
          "model_module": "@jupyter-widgets/output",
          "model_name": "OutputModel",
          "model_module_version": "1.0.0",
          "state": {
            "_dom_classes": [],
            "_model_module": "@jupyter-widgets/output",
            "_model_module_version": "1.0.0",
            "_model_name": "OutputModel",
            "_view_count": null,
            "_view_module": "@jupyter-widgets/output",
            "_view_module_version": "1.0.0",
            "_view_name": "OutputView",
            "layout": "IPY_MODEL_a99ea5b0b68f462fb11044cf21a8f361",
            "msg_id": "",
            "outputs": []
          }
        },
        "c7e19c4328464e6891aaa98342ccbf4b": {
          "model_module": "@jupyter-widgets/base",
          "model_name": "LayoutModel",
          "model_module_version": "1.2.0",
          "state": {
            "_model_module": "@jupyter-widgets/base",
            "_model_module_version": "1.2.0",
            "_model_name": "LayoutModel",
            "_view_count": null,
            "_view_module": "@jupyter-widgets/base",
            "_view_module_version": "1.2.0",
            "_view_name": "LayoutView",
            "align_content": null,
            "align_items": null,
            "align_self": null,
            "border": null,
            "bottom": null,
            "display": null,
            "flex": null,
            "flex_flow": null,
            "grid_area": null,
            "grid_auto_columns": null,
            "grid_auto_flow": null,
            "grid_auto_rows": null,
            "grid_column": null,
            "grid_gap": null,
            "grid_row": null,
            "grid_template_areas": null,
            "grid_template_columns": null,
            "grid_template_rows": null,
            "height": null,
            "justify_content": null,
            "justify_items": null,
            "left": null,
            "margin": null,
            "max_height": null,
            "max_width": null,
            "min_height": null,
            "min_width": null,
            "object_fit": null,
            "object_position": null,
            "order": null,
            "overflow": null,
            "overflow_x": null,
            "overflow_y": null,
            "padding": null,
            "right": null,
            "top": null,
            "visibility": null,
            "width": null
          }
        },
        "b6fee124f2b64c37979785f331589431": {
          "model_module": "@jupyter-widgets/base",
          "model_name": "LayoutModel",
          "model_module_version": "1.2.0",
          "state": {
            "_model_module": "@jupyter-widgets/base",
            "_model_module_version": "1.2.0",
            "_model_name": "LayoutModel",
            "_view_count": null,
            "_view_module": "@jupyter-widgets/base",
            "_view_module_version": "1.2.0",
            "_view_name": "LayoutView",
            "align_content": null,
            "align_items": null,
            "align_self": null,
            "border": null,
            "bottom": null,
            "display": null,
            "flex": null,
            "flex_flow": null,
            "grid_area": null,
            "grid_auto_columns": null,
            "grid_auto_flow": null,
            "grid_auto_rows": null,
            "grid_column": null,
            "grid_gap": null,
            "grid_row": null,
            "grid_template_areas": null,
            "grid_template_columns": null,
            "grid_template_rows": null,
            "height": null,
            "justify_content": null,
            "justify_items": null,
            "left": null,
            "margin": null,
            "max_height": null,
            "max_width": null,
            "min_height": null,
            "min_width": null,
            "object_fit": null,
            "object_position": null,
            "order": null,
            "overflow": null,
            "overflow_x": null,
            "overflow_y": null,
            "padding": null,
            "right": null,
            "top": null,
            "visibility": null,
            "width": null
          }
        },
        "f5734ce6931449f1bc1f0b59ef6358f6": {
          "model_module": "@jupyter-widgets/controls",
          "model_name": "SliderStyleModel",
          "model_module_version": "1.5.0",
          "state": {
            "_model_module": "@jupyter-widgets/controls",
            "_model_module_version": "1.5.0",
            "_model_name": "SliderStyleModel",
            "_view_count": null,
            "_view_module": "@jupyter-widgets/base",
            "_view_module_version": "1.2.0",
            "_view_name": "StyleView",
            "description_width": "",
            "handle_color": null
          }
        },
        "d627b3dd7ab949189cc79b82fc193d8c": {
          "model_module": "@jupyter-widgets/base",
          "model_name": "LayoutModel",
          "model_module_version": "1.2.0",
          "state": {
            "_model_module": "@jupyter-widgets/base",
            "_model_module_version": "1.2.0",
            "_model_name": "LayoutModel",
            "_view_count": null,
            "_view_module": "@jupyter-widgets/base",
            "_view_module_version": "1.2.0",
            "_view_name": "LayoutView",
            "align_content": null,
            "align_items": null,
            "align_self": null,
            "border": null,
            "bottom": null,
            "display": null,
            "flex": null,
            "flex_flow": null,
            "grid_area": null,
            "grid_auto_columns": null,
            "grid_auto_flow": null,
            "grid_auto_rows": null,
            "grid_column": null,
            "grid_gap": null,
            "grid_row": null,
            "grid_template_areas": null,
            "grid_template_columns": null,
            "grid_template_rows": null,
            "height": null,
            "justify_content": null,
            "justify_items": null,
            "left": null,
            "margin": null,
            "max_height": null,
            "max_width": null,
            "min_height": null,
            "min_width": null,
            "object_fit": null,
            "object_position": null,
            "order": null,
            "overflow": null,
            "overflow_x": null,
            "overflow_y": null,
            "padding": null,
            "right": null,
            "top": null,
            "visibility": null,
            "width": null
          }
        },
        "0421349178a14087a8150d3c0b127b29": {
          "model_module": "@jupyter-widgets/controls",
          "model_name": "ButtonStyleModel",
          "model_module_version": "1.5.0",
          "state": {
            "_model_module": "@jupyter-widgets/controls",
            "_model_module_version": "1.5.0",
            "_model_name": "ButtonStyleModel",
            "_view_count": null,
            "_view_module": "@jupyter-widgets/base",
            "_view_module_version": "1.2.0",
            "_view_name": "StyleView",
            "button_color": null,
            "font_weight": ""
          }
        },
        "a99ea5b0b68f462fb11044cf21a8f361": {
          "model_module": "@jupyter-widgets/base",
          "model_name": "LayoutModel",
          "model_module_version": "1.2.0",
          "state": {
            "_model_module": "@jupyter-widgets/base",
            "_model_module_version": "1.2.0",
            "_model_name": "LayoutModel",
            "_view_count": null,
            "_view_module": "@jupyter-widgets/base",
            "_view_module_version": "1.2.0",
            "_view_name": "LayoutView",
            "align_content": null,
            "align_items": null,
            "align_self": null,
            "border": null,
            "bottom": null,
            "display": null,
            "flex": null,
            "flex_flow": null,
            "grid_area": null,
            "grid_auto_columns": null,
            "grid_auto_flow": null,
            "grid_auto_rows": null,
            "grid_column": null,
            "grid_gap": null,
            "grid_row": null,
            "grid_template_areas": null,
            "grid_template_columns": null,
            "grid_template_rows": null,
            "height": null,
            "justify_content": null,
            "justify_items": null,
            "left": null,
            "margin": null,
            "max_height": null,
            "max_width": null,
            "min_height": null,
            "min_width": null,
            "object_fit": null,
            "object_position": null,
            "order": null,
            "overflow": null,
            "overflow_x": null,
            "overflow_y": null,
            "padding": null,
            "right": null,
            "top": null,
            "visibility": null,
            "width": null
          }
        },
        "03b2b6a3e1ad431f8af5489b634644ac": {
          "model_module": "@jupyter-widgets/controls",
          "model_name": "VBoxModel",
          "model_module_version": "1.5.0",
          "state": {
            "_dom_classes": [
              "widget-interact"
            ],
            "_model_module": "@jupyter-widgets/controls",
            "_model_module_version": "1.5.0",
            "_model_name": "VBoxModel",
            "_view_count": null,
            "_view_module": "@jupyter-widgets/controls",
            "_view_module_version": "1.5.0",
            "_view_name": "VBoxView",
            "box_style": "",
            "children": [
              "IPY_MODEL_c319b739cb084917ab24ee9cc7220eb3",
              "IPY_MODEL_cfff8eaa55b84a019fedd5b157c945c6",
              "IPY_MODEL_df897a8e2fb940acb2998b5e0ec165ab",
              "IPY_MODEL_5fb2e32e07f64bdaa772cdbf54c1f4fc"
            ],
            "layout": "IPY_MODEL_015a9d1a7d20410b893b66a4494a8c0b"
          }
        },
        "c319b739cb084917ab24ee9cc7220eb3": {
          "model_module": "@jupyter-widgets/controls",
          "model_name": "TextModel",
          "model_module_version": "1.5.0",
          "state": {
            "_dom_classes": [],
            "_model_module": "@jupyter-widgets/controls",
            "_model_module_version": "1.5.0",
            "_model_name": "TextModel",
            "_view_count": null,
            "_view_module": "@jupyter-widgets/controls",
            "_view_module_version": "1.5.0",
            "_view_name": "TextView",
            "continuous_update": true,
            "description": "身高",
            "description_tooltip": null,
            "disabled": false,
            "layout": "IPY_MODEL_b8acf513415f4bf28ce27157b5a5679a",
            "placeholder": "​",
            "style": "IPY_MODEL_260029d010f94b10bcd4279dbf2d463e",
            "value": "請輸入你的身高"
          }
        },
        "cfff8eaa55b84a019fedd5b157c945c6": {
          "model_module": "@jupyter-widgets/controls",
          "model_name": "TextModel",
          "model_module_version": "1.5.0",
          "state": {
            "_dom_classes": [],
            "_model_module": "@jupyter-widgets/controls",
            "_model_module_version": "1.5.0",
            "_model_name": "TextModel",
            "_view_count": null,
            "_view_module": "@jupyter-widgets/controls",
            "_view_module_version": "1.5.0",
            "_view_name": "TextView",
            "continuous_update": true,
            "description": "體重",
            "description_tooltip": null,
            "disabled": false,
            "layout": "IPY_MODEL_6662ae9e2a3144fa98d5b053cc6eedc2",
            "placeholder": "​",
            "style": "IPY_MODEL_9551f499d3364e7082e05fbaa92d1360",
            "value": "請輸入你的體重"
          }
        },
        "df897a8e2fb940acb2998b5e0ec165ab": {
          "model_module": "@jupyter-widgets/controls",
          "model_name": "ButtonModel",
          "model_module_version": "1.5.0",
          "state": {
            "_dom_classes": [],
            "_model_module": "@jupyter-widgets/controls",
            "_model_module_version": "1.5.0",
            "_model_name": "ButtonModel",
            "_view_count": null,
            "_view_module": "@jupyter-widgets/controls",
            "_view_module_version": "1.5.0",
            "_view_name": "ButtonView",
            "button_style": "",
            "description": "Run Interact",
            "disabled": false,
            "icon": "",
            "layout": "IPY_MODEL_2fdd67e85782492699edf213a63ef889",
            "style": "IPY_MODEL_e61702836a8c4e59a18f3bc2ab30e6d4",
            "tooltip": ""
          }
        },
        "5fb2e32e07f64bdaa772cdbf54c1f4fc": {
          "model_module": "@jupyter-widgets/output",
          "model_name": "OutputModel",
          "model_module_version": "1.0.0",
          "state": {
            "_dom_classes": [],
            "_model_module": "@jupyter-widgets/output",
            "_model_module_version": "1.0.0",
            "_model_name": "OutputModel",
            "_view_count": null,
            "_view_module": "@jupyter-widgets/output",
            "_view_module_version": "1.0.0",
            "_view_name": "OutputView",
            "layout": "IPY_MODEL_1a17af427a1543429344c354078ff09f",
            "msg_id": "",
            "outputs": []
          }
        },
        "015a9d1a7d20410b893b66a4494a8c0b": {
          "model_module": "@jupyter-widgets/base",
          "model_name": "LayoutModel",
          "model_module_version": "1.2.0",
          "state": {
            "_model_module": "@jupyter-widgets/base",
            "_model_module_version": "1.2.0",
            "_model_name": "LayoutModel",
            "_view_count": null,
            "_view_module": "@jupyter-widgets/base",
            "_view_module_version": "1.2.0",
            "_view_name": "LayoutView",
            "align_content": null,
            "align_items": null,
            "align_self": null,
            "border": null,
            "bottom": null,
            "display": null,
            "flex": null,
            "flex_flow": null,
            "grid_area": null,
            "grid_auto_columns": null,
            "grid_auto_flow": null,
            "grid_auto_rows": null,
            "grid_column": null,
            "grid_gap": null,
            "grid_row": null,
            "grid_template_areas": null,
            "grid_template_columns": null,
            "grid_template_rows": null,
            "height": null,
            "justify_content": null,
            "justify_items": null,
            "left": null,
            "margin": null,
            "max_height": null,
            "max_width": null,
            "min_height": null,
            "min_width": null,
            "object_fit": null,
            "object_position": null,
            "order": null,
            "overflow": null,
            "overflow_x": null,
            "overflow_y": null,
            "padding": null,
            "right": null,
            "top": null,
            "visibility": null,
            "width": null
          }
        },
        "b8acf513415f4bf28ce27157b5a5679a": {
          "model_module": "@jupyter-widgets/base",
          "model_name": "LayoutModel",
          "model_module_version": "1.2.0",
          "state": {
            "_model_module": "@jupyter-widgets/base",
            "_model_module_version": "1.2.0",
            "_model_name": "LayoutModel",
            "_view_count": null,
            "_view_module": "@jupyter-widgets/base",
            "_view_module_version": "1.2.0",
            "_view_name": "LayoutView",
            "align_content": null,
            "align_items": null,
            "align_self": null,
            "border": null,
            "bottom": null,
            "display": null,
            "flex": null,
            "flex_flow": null,
            "grid_area": null,
            "grid_auto_columns": null,
            "grid_auto_flow": null,
            "grid_auto_rows": null,
            "grid_column": null,
            "grid_gap": null,
            "grid_row": null,
            "grid_template_areas": null,
            "grid_template_columns": null,
            "grid_template_rows": null,
            "height": null,
            "justify_content": null,
            "justify_items": null,
            "left": null,
            "margin": null,
            "max_height": null,
            "max_width": null,
            "min_height": null,
            "min_width": null,
            "object_fit": null,
            "object_position": null,
            "order": null,
            "overflow": null,
            "overflow_x": null,
            "overflow_y": null,
            "padding": null,
            "right": null,
            "top": null,
            "visibility": null,
            "width": null
          }
        },
        "260029d010f94b10bcd4279dbf2d463e": {
          "model_module": "@jupyter-widgets/controls",
          "model_name": "DescriptionStyleModel",
          "model_module_version": "1.5.0",
          "state": {
            "_model_module": "@jupyter-widgets/controls",
            "_model_module_version": "1.5.0",
            "_model_name": "DescriptionStyleModel",
            "_view_count": null,
            "_view_module": "@jupyter-widgets/base",
            "_view_module_version": "1.2.0",
            "_view_name": "StyleView",
            "description_width": ""
          }
        },
        "6662ae9e2a3144fa98d5b053cc6eedc2": {
          "model_module": "@jupyter-widgets/base",
          "model_name": "LayoutModel",
          "model_module_version": "1.2.0",
          "state": {
            "_model_module": "@jupyter-widgets/base",
            "_model_module_version": "1.2.0",
            "_model_name": "LayoutModel",
            "_view_count": null,
            "_view_module": "@jupyter-widgets/base",
            "_view_module_version": "1.2.0",
            "_view_name": "LayoutView",
            "align_content": null,
            "align_items": null,
            "align_self": null,
            "border": null,
            "bottom": null,
            "display": null,
            "flex": null,
            "flex_flow": null,
            "grid_area": null,
            "grid_auto_columns": null,
            "grid_auto_flow": null,
            "grid_auto_rows": null,
            "grid_column": null,
            "grid_gap": null,
            "grid_row": null,
            "grid_template_areas": null,
            "grid_template_columns": null,
            "grid_template_rows": null,
            "height": null,
            "justify_content": null,
            "justify_items": null,
            "left": null,
            "margin": null,
            "max_height": null,
            "max_width": null,
            "min_height": null,
            "min_width": null,
            "object_fit": null,
            "object_position": null,
            "order": null,
            "overflow": null,
            "overflow_x": null,
            "overflow_y": null,
            "padding": null,
            "right": null,
            "top": null,
            "visibility": null,
            "width": null
          }
        },
        "9551f499d3364e7082e05fbaa92d1360": {
          "model_module": "@jupyter-widgets/controls",
          "model_name": "DescriptionStyleModel",
          "model_module_version": "1.5.0",
          "state": {
            "_model_module": "@jupyter-widgets/controls",
            "_model_module_version": "1.5.0",
            "_model_name": "DescriptionStyleModel",
            "_view_count": null,
            "_view_module": "@jupyter-widgets/base",
            "_view_module_version": "1.2.0",
            "_view_name": "StyleView",
            "description_width": ""
          }
        },
        "2fdd67e85782492699edf213a63ef889": {
          "model_module": "@jupyter-widgets/base",
          "model_name": "LayoutModel",
          "model_module_version": "1.2.0",
          "state": {
            "_model_module": "@jupyter-widgets/base",
            "_model_module_version": "1.2.0",
            "_model_name": "LayoutModel",
            "_view_count": null,
            "_view_module": "@jupyter-widgets/base",
            "_view_module_version": "1.2.0",
            "_view_name": "LayoutView",
            "align_content": null,
            "align_items": null,
            "align_self": null,
            "border": null,
            "bottom": null,
            "display": null,
            "flex": null,
            "flex_flow": null,
            "grid_area": null,
            "grid_auto_columns": null,
            "grid_auto_flow": null,
            "grid_auto_rows": null,
            "grid_column": null,
            "grid_gap": null,
            "grid_row": null,
            "grid_template_areas": null,
            "grid_template_columns": null,
            "grid_template_rows": null,
            "height": null,
            "justify_content": null,
            "justify_items": null,
            "left": null,
            "margin": null,
            "max_height": null,
            "max_width": null,
            "min_height": null,
            "min_width": null,
            "object_fit": null,
            "object_position": null,
            "order": null,
            "overflow": null,
            "overflow_x": null,
            "overflow_y": null,
            "padding": null,
            "right": null,
            "top": null,
            "visibility": null,
            "width": null
          }
        },
        "e61702836a8c4e59a18f3bc2ab30e6d4": {
          "model_module": "@jupyter-widgets/controls",
          "model_name": "ButtonStyleModel",
          "model_module_version": "1.5.0",
          "state": {
            "_model_module": "@jupyter-widgets/controls",
            "_model_module_version": "1.5.0",
            "_model_name": "ButtonStyleModel",
            "_view_count": null,
            "_view_module": "@jupyter-widgets/base",
            "_view_module_version": "1.2.0",
            "_view_name": "StyleView",
            "button_color": null,
            "font_weight": ""
          }
        },
        "1a17af427a1543429344c354078ff09f": {
          "model_module": "@jupyter-widgets/base",
          "model_name": "LayoutModel",
          "model_module_version": "1.2.0",
          "state": {
            "_model_module": "@jupyter-widgets/base",
            "_model_module_version": "1.2.0",
            "_model_name": "LayoutModel",
            "_view_count": null,
            "_view_module": "@jupyter-widgets/base",
            "_view_module_version": "1.2.0",
            "_view_name": "LayoutView",
            "align_content": null,
            "align_items": null,
            "align_self": null,
            "border": null,
            "bottom": null,
            "display": null,
            "flex": null,
            "flex_flow": null,
            "grid_area": null,
            "grid_auto_columns": null,
            "grid_auto_flow": null,
            "grid_auto_rows": null,
            "grid_column": null,
            "grid_gap": null,
            "grid_row": null,
            "grid_template_areas": null,
            "grid_template_columns": null,
            "grid_template_rows": null,
            "height": null,
            "justify_content": null,
            "justify_items": null,
            "left": null,
            "margin": null,
            "max_height": null,
            "max_width": null,
            "min_height": null,
            "min_width": null,
            "object_fit": null,
            "object_position": null,
            "order": null,
            "overflow": null,
            "overflow_x": null,
            "overflow_y": null,
            "padding": null,
            "right": null,
            "top": null,
            "visibility": null,
            "width": null
          }
        },
        "b5c83e15d50d4a1f81a38734af01b443": {
          "model_module": "@jupyter-widgets/controls",
          "model_name": "VBoxModel",
          "model_module_version": "1.5.0",
          "state": {
            "_dom_classes": [
              "widget-interact"
            ],
            "_model_module": "@jupyter-widgets/controls",
            "_model_module_version": "1.5.0",
            "_model_name": "VBoxModel",
            "_view_count": null,
            "_view_module": "@jupyter-widgets/controls",
            "_view_module_version": "1.5.0",
            "_view_name": "VBoxView",
            "box_style": "",
            "children": [
              "IPY_MODEL_aa7ad6a152fe4802ab33388fd644ab0a",
              "IPY_MODEL_d5895dc2ccc943a6b5104e91e799e5fd",
              "IPY_MODEL_d3bf0817229f4fcf8b13e3449ca832dd"
            ],
            "layout": "IPY_MODEL_8f556b30faac43f69453dd61b52623c8"
          }
        },
        "aa7ad6a152fe4802ab33388fd644ab0a": {
          "model_module": "@jupyter-widgets/controls",
          "model_name": "IntSliderModel",
          "model_module_version": "1.5.0",
          "state": {
            "_dom_classes": [],
            "_model_module": "@jupyter-widgets/controls",
            "_model_module_version": "1.5.0",
            "_model_name": "IntSliderModel",
            "_view_count": null,
            "_view_module": "@jupyter-widgets/controls",
            "_view_module_version": "1.5.0",
            "_view_name": "IntSliderView",
            "continuous_update": true,
            "description": "initial_deposit",
            "description_tooltip": null,
            "disabled": false,
            "layout": "IPY_MODEL_4741307030f14bf8954dfeab6b43173b",
            "max": 300000,
            "min": -100000,
            "orientation": "horizontal",
            "readout": true,
            "readout_format": "d",
            "step": 1,
            "style": "IPY_MODEL_d1258200579b4a1c92cac9030c9bd1ec",
            "value": 100000
          }
        },
        "d5895dc2ccc943a6b5104e91e799e5fd": {
          "model_module": "@jupyter-widgets/controls",
          "model_name": "FloatSliderModel",
          "model_module_version": "1.5.0",
          "state": {
            "_dom_classes": [],
            "_model_module": "@jupyter-widgets/controls",
            "_model_module_version": "1.5.0",
            "_model_name": "FloatSliderModel",
            "_view_count": null,
            "_view_module": "@jupyter-widgets/controls",
            "_view_module_version": "1.5.0",
            "_view_name": "FloatSliderView",
            "continuous_update": true,
            "description": "monthly_deposit",
            "description_tooltip": null,
            "disabled": false,
            "layout": "IPY_MODEL_8b3aba6505e54817b07d21c71bd59361",
            "max": 10000,
            "min": 0,
            "orientation": "horizontal",
            "readout": true,
            "readout_format": ".2f",
            "step": 0.1,
            "style": "IPY_MODEL_629aaff214c74c66a89a9510aadc7e23",
            "value": 5000
          }
        },
        "d3bf0817229f4fcf8b13e3449ca832dd": {
          "model_module": "@jupyter-widgets/output",
          "model_name": "OutputModel",
          "model_module_version": "1.0.0",
          "state": {
            "_dom_classes": [],
            "_model_module": "@jupyter-widgets/output",
            "_model_module_version": "1.0.0",
            "_model_name": "OutputModel",
            "_view_count": null,
            "_view_module": "@jupyter-widgets/output",
            "_view_module_version": "1.0.0",
            "_view_name": "OutputView",
            "layout": "IPY_MODEL_3fcfc770e144430ca4e0ea8f7d5ac1d4",
            "msg_id": "",
            "outputs": [
              {
                "output_type": "display_data",
                "data": {
                  "text/plain": "160000.0"
                },
                "metadata": {}
              }
            ]
          }
        },
        "8f556b30faac43f69453dd61b52623c8": {
          "model_module": "@jupyter-widgets/base",
          "model_name": "LayoutModel",
          "model_module_version": "1.2.0",
          "state": {
            "_model_module": "@jupyter-widgets/base",
            "_model_module_version": "1.2.0",
            "_model_name": "LayoutModel",
            "_view_count": null,
            "_view_module": "@jupyter-widgets/base",
            "_view_module_version": "1.2.0",
            "_view_name": "LayoutView",
            "align_content": null,
            "align_items": null,
            "align_self": null,
            "border": null,
            "bottom": null,
            "display": null,
            "flex": null,
            "flex_flow": null,
            "grid_area": null,
            "grid_auto_columns": null,
            "grid_auto_flow": null,
            "grid_auto_rows": null,
            "grid_column": null,
            "grid_gap": null,
            "grid_row": null,
            "grid_template_areas": null,
            "grid_template_columns": null,
            "grid_template_rows": null,
            "height": null,
            "justify_content": null,
            "justify_items": null,
            "left": null,
            "margin": null,
            "max_height": null,
            "max_width": null,
            "min_height": null,
            "min_width": null,
            "object_fit": null,
            "object_position": null,
            "order": null,
            "overflow": null,
            "overflow_x": null,
            "overflow_y": null,
            "padding": null,
            "right": null,
            "top": null,
            "visibility": null,
            "width": null
          }
        },
        "4741307030f14bf8954dfeab6b43173b": {
          "model_module": "@jupyter-widgets/base",
          "model_name": "LayoutModel",
          "model_module_version": "1.2.0",
          "state": {
            "_model_module": "@jupyter-widgets/base",
            "_model_module_version": "1.2.0",
            "_model_name": "LayoutModel",
            "_view_count": null,
            "_view_module": "@jupyter-widgets/base",
            "_view_module_version": "1.2.0",
            "_view_name": "LayoutView",
            "align_content": null,
            "align_items": null,
            "align_self": null,
            "border": null,
            "bottom": null,
            "display": null,
            "flex": null,
            "flex_flow": null,
            "grid_area": null,
            "grid_auto_columns": null,
            "grid_auto_flow": null,
            "grid_auto_rows": null,
            "grid_column": null,
            "grid_gap": null,
            "grid_row": null,
            "grid_template_areas": null,
            "grid_template_columns": null,
            "grid_template_rows": null,
            "height": null,
            "justify_content": null,
            "justify_items": null,
            "left": null,
            "margin": null,
            "max_height": null,
            "max_width": null,
            "min_height": null,
            "min_width": null,
            "object_fit": null,
            "object_position": null,
            "order": null,
            "overflow": null,
            "overflow_x": null,
            "overflow_y": null,
            "padding": null,
            "right": null,
            "top": null,
            "visibility": null,
            "width": null
          }
        },
        "d1258200579b4a1c92cac9030c9bd1ec": {
          "model_module": "@jupyter-widgets/controls",
          "model_name": "SliderStyleModel",
          "model_module_version": "1.5.0",
          "state": {
            "_model_module": "@jupyter-widgets/controls",
            "_model_module_version": "1.5.0",
            "_model_name": "SliderStyleModel",
            "_view_count": null,
            "_view_module": "@jupyter-widgets/base",
            "_view_module_version": "1.2.0",
            "_view_name": "StyleView",
            "description_width": "",
            "handle_color": null
          }
        },
        "8b3aba6505e54817b07d21c71bd59361": {
          "model_module": "@jupyter-widgets/base",
          "model_name": "LayoutModel",
          "model_module_version": "1.2.0",
          "state": {
            "_model_module": "@jupyter-widgets/base",
            "_model_module_version": "1.2.0",
            "_model_name": "LayoutModel",
            "_view_count": null,
            "_view_module": "@jupyter-widgets/base",
            "_view_module_version": "1.2.0",
            "_view_name": "LayoutView",
            "align_content": null,
            "align_items": null,
            "align_self": null,
            "border": null,
            "bottom": null,
            "display": null,
            "flex": null,
            "flex_flow": null,
            "grid_area": null,
            "grid_auto_columns": null,
            "grid_auto_flow": null,
            "grid_auto_rows": null,
            "grid_column": null,
            "grid_gap": null,
            "grid_row": null,
            "grid_template_areas": null,
            "grid_template_columns": null,
            "grid_template_rows": null,
            "height": null,
            "justify_content": null,
            "justify_items": null,
            "left": null,
            "margin": null,
            "max_height": null,
            "max_width": null,
            "min_height": null,
            "min_width": null,
            "object_fit": null,
            "object_position": null,
            "order": null,
            "overflow": null,
            "overflow_x": null,
            "overflow_y": null,
            "padding": null,
            "right": null,
            "top": null,
            "visibility": null,
            "width": null
          }
        },
        "629aaff214c74c66a89a9510aadc7e23": {
          "model_module": "@jupyter-widgets/controls",
          "model_name": "SliderStyleModel",
          "model_module_version": "1.5.0",
          "state": {
            "_model_module": "@jupyter-widgets/controls",
            "_model_module_version": "1.5.0",
            "_model_name": "SliderStyleModel",
            "_view_count": null,
            "_view_module": "@jupyter-widgets/base",
            "_view_module_version": "1.2.0",
            "_view_name": "StyleView",
            "description_width": "",
            "handle_color": null
          }
        },
        "3fcfc770e144430ca4e0ea8f7d5ac1d4": {
          "model_module": "@jupyter-widgets/base",
          "model_name": "LayoutModel",
          "model_module_version": "1.2.0",
          "state": {
            "_model_module": "@jupyter-widgets/base",
            "_model_module_version": "1.2.0",
            "_model_name": "LayoutModel",
            "_view_count": null,
            "_view_module": "@jupyter-widgets/base",
            "_view_module_version": "1.2.0",
            "_view_name": "LayoutView",
            "align_content": null,
            "align_items": null,
            "align_self": null,
            "border": null,
            "bottom": null,
            "display": null,
            "flex": null,
            "flex_flow": null,
            "grid_area": null,
            "grid_auto_columns": null,
            "grid_auto_flow": null,
            "grid_auto_rows": null,
            "grid_column": null,
            "grid_gap": null,
            "grid_row": null,
            "grid_template_areas": null,
            "grid_template_columns": null,
            "grid_template_rows": null,
            "height": null,
            "justify_content": null,
            "justify_items": null,
            "left": null,
            "margin": null,
            "max_height": null,
            "max_width": null,
            "min_height": null,
            "min_width": null,
            "object_fit": null,
            "object_position": null,
            "order": null,
            "overflow": null,
            "overflow_x": null,
            "overflow_y": null,
            "padding": null,
            "right": null,
            "top": null,
            "visibility": null,
            "width": null
          }
        },
        "ec8643888a8b4095b0a80867dc31bbf3": {
          "model_module": "@jupyter-widgets/controls",
          "model_name": "VBoxModel",
          "model_module_version": "1.5.0",
          "state": {
            "_dom_classes": [],
            "_model_module": "@jupyter-widgets/controls",
            "_model_module_version": "1.5.0",
            "_model_name": "VBoxModel",
            "_view_count": null,
            "_view_module": "@jupyter-widgets/controls",
            "_view_module_version": "1.5.0",
            "_view_name": "VBoxView",
            "box_style": "",
            "children": [
              "IPY_MODEL_097ec3d5a958468caf2ae72be274126a",
              "IPY_MODEL_5e8c85c31592446dba02368f13b1f2e4",
              "IPY_MODEL_104a058aabec46629cfd3796f6d495a2",
              "IPY_MODEL_e5fb2f83205743dcb5c103a2455628c0"
            ],
            "layout": "IPY_MODEL_cd05665885c14ce399c1f4444ef2d97a"
          }
        },
        "097ec3d5a958468caf2ae72be274126a": {
          "model_module": "@jupyter-widgets/controls",
          "model_name": "FloatTextModel",
          "model_module_version": "1.5.0",
          "state": {
            "_dom_classes": [],
            "_model_module": "@jupyter-widgets/controls",
            "_model_module_version": "1.5.0",
            "_model_name": "FloatTextModel",
            "_view_count": null,
            "_view_module": "@jupyter-widgets/controls",
            "_view_module_version": "1.5.0",
            "_view_name": "FloatTextView",
            "continuous_update": false,
            "description": "Initial Deposit:",
            "description_tooltip": null,
            "disabled": false,
            "layout": "IPY_MODEL_5eacb21d4b584320b4033cdf8c52af46",
            "step": null,
            "style": "IPY_MODEL_b5783e017c524b5a90b6b2cdc398478b",
            "value": 1000
          }
        },
        "5e8c85c31592446dba02368f13b1f2e4": {
          "model_module": "@jupyter-widgets/controls",
          "model_name": "FloatTextModel",
          "model_module_version": "1.5.0",
          "state": {
            "_dom_classes": [],
            "_model_module": "@jupyter-widgets/controls",
            "_model_module_version": "1.5.0",
            "_model_name": "FloatTextModel",
            "_view_count": null,
            "_view_module": "@jupyter-widgets/controls",
            "_view_module_version": "1.5.0",
            "_view_name": "FloatTextView",
            "continuous_update": false,
            "description": "Monthly Deposit:",
            "description_tooltip": null,
            "disabled": false,
            "layout": "IPY_MODEL_1e618310af30447d9341881043c03b9f",
            "step": null,
            "style": "IPY_MODEL_2a383105662544fabfb6f1e921c41e88",
            "value": 100
          }
        },
        "104a058aabec46629cfd3796f6d495a2": {
          "model_module": "@jupyter-widgets/controls",
          "model_name": "ButtonModel",
          "model_module_version": "1.5.0",
          "state": {
            "_dom_classes": [],
            "_model_module": "@jupyter-widgets/controls",
            "_model_module_version": "1.5.0",
            "_model_name": "ButtonModel",
            "_view_count": null,
            "_view_module": "@jupyter-widgets/controls",
            "_view_module_version": "1.5.0",
            "_view_name": "ButtonView",
            "button_style": "",
            "description": "Calculate",
            "disabled": false,
            "icon": "",
            "layout": "IPY_MODEL_62604b4553664c29ad6666d414fab0ee",
            "style": "IPY_MODEL_d0cecb980ddc48cdb0b3017464b85624",
            "tooltip": ""
          }
        },
        "e5fb2f83205743dcb5c103a2455628c0": {
          "model_module": "@jupyter-widgets/output",
          "model_name": "OutputModel",
          "model_module_version": "1.0.0",
          "state": {
            "_dom_classes": [],
            "_model_module": "@jupyter-widgets/output",
            "_model_module_version": "1.0.0",
            "_model_name": "OutputModel",
            "_view_count": null,
            "_view_module": "@jupyter-widgets/output",
            "_view_module_version": "1.0.0",
            "_view_name": "OutputView",
            "layout": "IPY_MODEL_f862ddc6e89a449ba50645b3c00c72df",
            "msg_id": "",
            "outputs": [
              {
                "output_type": "stream",
                "name": "stdout",
                "text": [
                  "Final deposit after one year: 2200.0\n"
                ]
              }
            ]
          }
        },
        "cd05665885c14ce399c1f4444ef2d97a": {
          "model_module": "@jupyter-widgets/base",
          "model_name": "LayoutModel",
          "model_module_version": "1.2.0",
          "state": {
            "_model_module": "@jupyter-widgets/base",
            "_model_module_version": "1.2.0",
            "_model_name": "LayoutModel",
            "_view_count": null,
            "_view_module": "@jupyter-widgets/base",
            "_view_module_version": "1.2.0",
            "_view_name": "LayoutView",
            "align_content": null,
            "align_items": null,
            "align_self": null,
            "border": null,
            "bottom": null,
            "display": null,
            "flex": null,
            "flex_flow": null,
            "grid_area": null,
            "grid_auto_columns": null,
            "grid_auto_flow": null,
            "grid_auto_rows": null,
            "grid_column": null,
            "grid_gap": null,
            "grid_row": null,
            "grid_template_areas": null,
            "grid_template_columns": null,
            "grid_template_rows": null,
            "height": null,
            "justify_content": null,
            "justify_items": null,
            "left": null,
            "margin": null,
            "max_height": null,
            "max_width": null,
            "min_height": null,
            "min_width": null,
            "object_fit": null,
            "object_position": null,
            "order": null,
            "overflow": null,
            "overflow_x": null,
            "overflow_y": null,
            "padding": null,
            "right": null,
            "top": null,
            "visibility": null,
            "width": null
          }
        },
        "5eacb21d4b584320b4033cdf8c52af46": {
          "model_module": "@jupyter-widgets/base",
          "model_name": "LayoutModel",
          "model_module_version": "1.2.0",
          "state": {
            "_model_module": "@jupyter-widgets/base",
            "_model_module_version": "1.2.0",
            "_model_name": "LayoutModel",
            "_view_count": null,
            "_view_module": "@jupyter-widgets/base",
            "_view_module_version": "1.2.0",
            "_view_name": "LayoutView",
            "align_content": null,
            "align_items": null,
            "align_self": null,
            "border": null,
            "bottom": null,
            "display": null,
            "flex": null,
            "flex_flow": null,
            "grid_area": null,
            "grid_auto_columns": null,
            "grid_auto_flow": null,
            "grid_auto_rows": null,
            "grid_column": null,
            "grid_gap": null,
            "grid_row": null,
            "grid_template_areas": null,
            "grid_template_columns": null,
            "grid_template_rows": null,
            "height": null,
            "justify_content": null,
            "justify_items": null,
            "left": null,
            "margin": null,
            "max_height": null,
            "max_width": null,
            "min_height": null,
            "min_width": null,
            "object_fit": null,
            "object_position": null,
            "order": null,
            "overflow": null,
            "overflow_x": null,
            "overflow_y": null,
            "padding": null,
            "right": null,
            "top": null,
            "visibility": null,
            "width": null
          }
        },
        "b5783e017c524b5a90b6b2cdc398478b": {
          "model_module": "@jupyter-widgets/controls",
          "model_name": "DescriptionStyleModel",
          "model_module_version": "1.5.0",
          "state": {
            "_model_module": "@jupyter-widgets/controls",
            "_model_module_version": "1.5.0",
            "_model_name": "DescriptionStyleModel",
            "_view_count": null,
            "_view_module": "@jupyter-widgets/base",
            "_view_module_version": "1.2.0",
            "_view_name": "StyleView",
            "description_width": ""
          }
        },
        "1e618310af30447d9341881043c03b9f": {
          "model_module": "@jupyter-widgets/base",
          "model_name": "LayoutModel",
          "model_module_version": "1.2.0",
          "state": {
            "_model_module": "@jupyter-widgets/base",
            "_model_module_version": "1.2.0",
            "_model_name": "LayoutModel",
            "_view_count": null,
            "_view_module": "@jupyter-widgets/base",
            "_view_module_version": "1.2.0",
            "_view_name": "LayoutView",
            "align_content": null,
            "align_items": null,
            "align_self": null,
            "border": null,
            "bottom": null,
            "display": null,
            "flex": null,
            "flex_flow": null,
            "grid_area": null,
            "grid_auto_columns": null,
            "grid_auto_flow": null,
            "grid_auto_rows": null,
            "grid_column": null,
            "grid_gap": null,
            "grid_row": null,
            "grid_template_areas": null,
            "grid_template_columns": null,
            "grid_template_rows": null,
            "height": null,
            "justify_content": null,
            "justify_items": null,
            "left": null,
            "margin": null,
            "max_height": null,
            "max_width": null,
            "min_height": null,
            "min_width": null,
            "object_fit": null,
            "object_position": null,
            "order": null,
            "overflow": null,
            "overflow_x": null,
            "overflow_y": null,
            "padding": null,
            "right": null,
            "top": null,
            "visibility": null,
            "width": null
          }
        },
        "2a383105662544fabfb6f1e921c41e88": {
          "model_module": "@jupyter-widgets/controls",
          "model_name": "DescriptionStyleModel",
          "model_module_version": "1.5.0",
          "state": {
            "_model_module": "@jupyter-widgets/controls",
            "_model_module_version": "1.5.0",
            "_model_name": "DescriptionStyleModel",
            "_view_count": null,
            "_view_module": "@jupyter-widgets/base",
            "_view_module_version": "1.2.0",
            "_view_name": "StyleView",
            "description_width": ""
          }
        },
        "62604b4553664c29ad6666d414fab0ee": {
          "model_module": "@jupyter-widgets/base",
          "model_name": "LayoutModel",
          "model_module_version": "1.2.0",
          "state": {
            "_model_module": "@jupyter-widgets/base",
            "_model_module_version": "1.2.0",
            "_model_name": "LayoutModel",
            "_view_count": null,
            "_view_module": "@jupyter-widgets/base",
            "_view_module_version": "1.2.0",
            "_view_name": "LayoutView",
            "align_content": null,
            "align_items": null,
            "align_self": null,
            "border": null,
            "bottom": null,
            "display": null,
            "flex": null,
            "flex_flow": null,
            "grid_area": null,
            "grid_auto_columns": null,
            "grid_auto_flow": null,
            "grid_auto_rows": null,
            "grid_column": null,
            "grid_gap": null,
            "grid_row": null,
            "grid_template_areas": null,
            "grid_template_columns": null,
            "grid_template_rows": null,
            "height": null,
            "justify_content": null,
            "justify_items": null,
            "left": null,
            "margin": null,
            "max_height": null,
            "max_width": null,
            "min_height": null,
            "min_width": null,
            "object_fit": null,
            "object_position": null,
            "order": null,
            "overflow": null,
            "overflow_x": null,
            "overflow_y": null,
            "padding": null,
            "right": null,
            "top": null,
            "visibility": null,
            "width": null
          }
        },
        "d0cecb980ddc48cdb0b3017464b85624": {
          "model_module": "@jupyter-widgets/controls",
          "model_name": "ButtonStyleModel",
          "model_module_version": "1.5.0",
          "state": {
            "_model_module": "@jupyter-widgets/controls",
            "_model_module_version": "1.5.0",
            "_model_name": "ButtonStyleModel",
            "_view_count": null,
            "_view_module": "@jupyter-widgets/base",
            "_view_module_version": "1.2.0",
            "_view_name": "StyleView",
            "button_color": null,
            "font_weight": ""
          }
        },
        "f862ddc6e89a449ba50645b3c00c72df": {
          "model_module": "@jupyter-widgets/base",
          "model_name": "LayoutModel",
          "model_module_version": "1.2.0",
          "state": {
            "_model_module": "@jupyter-widgets/base",
            "_model_module_version": "1.2.0",
            "_model_name": "LayoutModel",
            "_view_count": null,
            "_view_module": "@jupyter-widgets/base",
            "_view_module_version": "1.2.0",
            "_view_name": "LayoutView",
            "align_content": null,
            "align_items": null,
            "align_self": null,
            "border": null,
            "bottom": null,
            "display": null,
            "flex": null,
            "flex_flow": null,
            "grid_area": null,
            "grid_auto_columns": null,
            "grid_auto_flow": null,
            "grid_auto_rows": null,
            "grid_column": null,
            "grid_gap": null,
            "grid_row": null,
            "grid_template_areas": null,
            "grid_template_columns": null,
            "grid_template_rows": null,
            "height": null,
            "justify_content": null,
            "justify_items": null,
            "left": null,
            "margin": null,
            "max_height": null,
            "max_width": null,
            "min_height": null,
            "min_width": null,
            "object_fit": null,
            "object_position": null,
            "order": null,
            "overflow": null,
            "overflow_x": null,
            "overflow_y": null,
            "padding": null,
            "right": null,
            "top": null,
            "visibility": null,
            "width": null
          }
        },
        "f62ca348c1054cc09efa3f590ccb9d63": {
          "model_module": "@jupyter-widgets/controls",
          "model_name": "VBoxModel",
          "model_module_version": "1.5.0",
          "state": {
            "_dom_classes": [
              "widget-interact"
            ],
            "_model_module": "@jupyter-widgets/controls",
            "_model_module_version": "1.5.0",
            "_model_name": "VBoxModel",
            "_view_count": null,
            "_view_module": "@jupyter-widgets/controls",
            "_view_module_version": "1.5.0",
            "_view_name": "VBoxView",
            "box_style": "",
            "children": [
              "IPY_MODEL_61aa366b4bef45b98f19c3c2c42297d8",
              "IPY_MODEL_2c88cd473c8b4d839368db71b695b6b8",
              "IPY_MODEL_19cb20a9cac240448e4d03d13b10a6f8",
              "IPY_MODEL_9510d18443994b6bb14c799fc4f99192"
            ],
            "layout": "IPY_MODEL_37163da5044b48cca067d96c6573975e"
          }
        },
        "61aa366b4bef45b98f19c3c2c42297d8": {
          "model_module": "@jupyter-widgets/controls",
          "model_name": "FloatSliderModel",
          "model_module_version": "1.5.0",
          "state": {
            "_dom_classes": [],
            "_model_module": "@jupyter-widgets/controls",
            "_model_module_version": "1.5.0",
            "_model_name": "FloatSliderModel",
            "_view_count": null,
            "_view_module": "@jupyter-widgets/controls",
            "_view_module_version": "1.5.0",
            "_view_name": "FloatSliderView",
            "continuous_update": true,
            "description": "Initial Deposit:",
            "description_tooltip": null,
            "disabled": false,
            "layout": "IPY_MODEL_88153645ff3a401c9eff021e5dfa1d7f",
            "max": 1000000,
            "min": 0,
            "orientation": "horizontal",
            "readout": true,
            "readout_format": ".2f",
            "step": 1000,
            "style": "IPY_MODEL_06274818941240a1be9fa341b0112348",
            "value": 100000
          }
        },
        "2c88cd473c8b4d839368db71b695b6b8": {
          "model_module": "@jupyter-widgets/controls",
          "model_name": "FloatSliderModel",
          "model_module_version": "1.5.0",
          "state": {
            "_dom_classes": [],
            "_model_module": "@jupyter-widgets/controls",
            "_model_module_version": "1.5.0",
            "_model_name": "FloatSliderModel",
            "_view_count": null,
            "_view_module": "@jupyter-widgets/controls",
            "_view_module_version": "1.5.0",
            "_view_name": "FloatSliderView",
            "continuous_update": true,
            "description": "Monthly Deposit:",
            "description_tooltip": null,
            "disabled": false,
            "layout": "IPY_MODEL_fbea4a4d0c354b6ba02ce9a83b9d8d11",
            "max": 10000,
            "min": 0,
            "orientation": "horizontal",
            "readout": true,
            "readout_format": ".2f",
            "step": 100,
            "style": "IPY_MODEL_4c1dd23d55344c498e71c06a8d4064a3",
            "value": 1000
          }
        },
        "19cb20a9cac240448e4d03d13b10a6f8": {
          "model_module": "@jupyter-widgets/controls",
          "model_name": "IntSliderModel",
          "model_module_version": "1.5.0",
          "state": {
            "_dom_classes": [],
            "_model_module": "@jupyter-widgets/controls",
            "_model_module_version": "1.5.0",
            "_model_name": "IntSliderModel",
            "_view_count": null,
            "_view_module": "@jupyter-widgets/controls",
            "_view_module_version": "1.5.0",
            "_view_name": "IntSliderView",
            "continuous_update": true,
            "description": "Number of years:",
            "description_tooltip": null,
            "disabled": false,
            "layout": "IPY_MODEL_6a0b544b23554b18adc681c8acec66cb",
            "max": 30,
            "min": 1,
            "orientation": "horizontal",
            "readout": true,
            "readout_format": "d",
            "step": 1,
            "style": "IPY_MODEL_cc466d2263904bed85873a99ed198223",
            "value": 1
          }
        },
        "9510d18443994b6bb14c799fc4f99192": {
          "model_module": "@jupyter-widgets/output",
          "model_name": "OutputModel",
          "model_module_version": "1.0.0",
          "state": {
            "_dom_classes": [],
            "_model_module": "@jupyter-widgets/output",
            "_model_module_version": "1.0.0",
            "_model_name": "OutputModel",
            "_view_count": null,
            "_view_module": "@jupyter-widgets/output",
            "_view_module_version": "1.0.0",
            "_view_name": "OutputView",
            "layout": "IPY_MODEL_9c45a3375ccb43c299feb0affefbc650",
            "msg_id": "",
            "outputs": [
              {
                "output_type": "display_data",
                "data": {
                  "text/plain": "112000.0"
                },
                "metadata": {}
              }
            ]
          }
        },
        "37163da5044b48cca067d96c6573975e": {
          "model_module": "@jupyter-widgets/base",
          "model_name": "LayoutModel",
          "model_module_version": "1.2.0",
          "state": {
            "_model_module": "@jupyter-widgets/base",
            "_model_module_version": "1.2.0",
            "_model_name": "LayoutModel",
            "_view_count": null,
            "_view_module": "@jupyter-widgets/base",
            "_view_module_version": "1.2.0",
            "_view_name": "LayoutView",
            "align_content": null,
            "align_items": null,
            "align_self": null,
            "border": null,
            "bottom": null,
            "display": null,
            "flex": null,
            "flex_flow": null,
            "grid_area": null,
            "grid_auto_columns": null,
            "grid_auto_flow": null,
            "grid_auto_rows": null,
            "grid_column": null,
            "grid_gap": null,
            "grid_row": null,
            "grid_template_areas": null,
            "grid_template_columns": null,
            "grid_template_rows": null,
            "height": null,
            "justify_content": null,
            "justify_items": null,
            "left": null,
            "margin": null,
            "max_height": null,
            "max_width": null,
            "min_height": null,
            "min_width": null,
            "object_fit": null,
            "object_position": null,
            "order": null,
            "overflow": null,
            "overflow_x": null,
            "overflow_y": null,
            "padding": null,
            "right": null,
            "top": null,
            "visibility": null,
            "width": null
          }
        },
        "88153645ff3a401c9eff021e5dfa1d7f": {
          "model_module": "@jupyter-widgets/base",
          "model_name": "LayoutModel",
          "model_module_version": "1.2.0",
          "state": {
            "_model_module": "@jupyter-widgets/base",
            "_model_module_version": "1.2.0",
            "_model_name": "LayoutModel",
            "_view_count": null,
            "_view_module": "@jupyter-widgets/base",
            "_view_module_version": "1.2.0",
            "_view_name": "LayoutView",
            "align_content": null,
            "align_items": null,
            "align_self": null,
            "border": null,
            "bottom": null,
            "display": null,
            "flex": null,
            "flex_flow": null,
            "grid_area": null,
            "grid_auto_columns": null,
            "grid_auto_flow": null,
            "grid_auto_rows": null,
            "grid_column": null,
            "grid_gap": null,
            "grid_row": null,
            "grid_template_areas": null,
            "grid_template_columns": null,
            "grid_template_rows": null,
            "height": null,
            "justify_content": null,
            "justify_items": null,
            "left": null,
            "margin": null,
            "max_height": null,
            "max_width": null,
            "min_height": null,
            "min_width": null,
            "object_fit": null,
            "object_position": null,
            "order": null,
            "overflow": null,
            "overflow_x": null,
            "overflow_y": null,
            "padding": null,
            "right": null,
            "top": null,
            "visibility": null,
            "width": null
          }
        },
        "06274818941240a1be9fa341b0112348": {
          "model_module": "@jupyter-widgets/controls",
          "model_name": "SliderStyleModel",
          "model_module_version": "1.5.0",
          "state": {
            "_model_module": "@jupyter-widgets/controls",
            "_model_module_version": "1.5.0",
            "_model_name": "SliderStyleModel",
            "_view_count": null,
            "_view_module": "@jupyter-widgets/base",
            "_view_module_version": "1.2.0",
            "_view_name": "StyleView",
            "description_width": "",
            "handle_color": null
          }
        },
        "fbea4a4d0c354b6ba02ce9a83b9d8d11": {
          "model_module": "@jupyter-widgets/base",
          "model_name": "LayoutModel",
          "model_module_version": "1.2.0",
          "state": {
            "_model_module": "@jupyter-widgets/base",
            "_model_module_version": "1.2.0",
            "_model_name": "LayoutModel",
            "_view_count": null,
            "_view_module": "@jupyter-widgets/base",
            "_view_module_version": "1.2.0",
            "_view_name": "LayoutView",
            "align_content": null,
            "align_items": null,
            "align_self": null,
            "border": null,
            "bottom": null,
            "display": null,
            "flex": null,
            "flex_flow": null,
            "grid_area": null,
            "grid_auto_columns": null,
            "grid_auto_flow": null,
            "grid_auto_rows": null,
            "grid_column": null,
            "grid_gap": null,
            "grid_row": null,
            "grid_template_areas": null,
            "grid_template_columns": null,
            "grid_template_rows": null,
            "height": null,
            "justify_content": null,
            "justify_items": null,
            "left": null,
            "margin": null,
            "max_height": null,
            "max_width": null,
            "min_height": null,
            "min_width": null,
            "object_fit": null,
            "object_position": null,
            "order": null,
            "overflow": null,
            "overflow_x": null,
            "overflow_y": null,
            "padding": null,
            "right": null,
            "top": null,
            "visibility": null,
            "width": null
          }
        },
        "4c1dd23d55344c498e71c06a8d4064a3": {
          "model_module": "@jupyter-widgets/controls",
          "model_name": "SliderStyleModel",
          "model_module_version": "1.5.0",
          "state": {
            "_model_module": "@jupyter-widgets/controls",
            "_model_module_version": "1.5.0",
            "_model_name": "SliderStyleModel",
            "_view_count": null,
            "_view_module": "@jupyter-widgets/base",
            "_view_module_version": "1.2.0",
            "_view_name": "StyleView",
            "description_width": "",
            "handle_color": null
          }
        },
        "6a0b544b23554b18adc681c8acec66cb": {
          "model_module": "@jupyter-widgets/base",
          "model_name": "LayoutModel",
          "model_module_version": "1.2.0",
          "state": {
            "_model_module": "@jupyter-widgets/base",
            "_model_module_version": "1.2.0",
            "_model_name": "LayoutModel",
            "_view_count": null,
            "_view_module": "@jupyter-widgets/base",
            "_view_module_version": "1.2.0",
            "_view_name": "LayoutView",
            "align_content": null,
            "align_items": null,
            "align_self": null,
            "border": null,
            "bottom": null,
            "display": null,
            "flex": null,
            "flex_flow": null,
            "grid_area": null,
            "grid_auto_columns": null,
            "grid_auto_flow": null,
            "grid_auto_rows": null,
            "grid_column": null,
            "grid_gap": null,
            "grid_row": null,
            "grid_template_areas": null,
            "grid_template_columns": null,
            "grid_template_rows": null,
            "height": null,
            "justify_content": null,
            "justify_items": null,
            "left": null,
            "margin": null,
            "max_height": null,
            "max_width": null,
            "min_height": null,
            "min_width": null,
            "object_fit": null,
            "object_position": null,
            "order": null,
            "overflow": null,
            "overflow_x": null,
            "overflow_y": null,
            "padding": null,
            "right": null,
            "top": null,
            "visibility": null,
            "width": null
          }
        },
        "cc466d2263904bed85873a99ed198223": {
          "model_module": "@jupyter-widgets/controls",
          "model_name": "SliderStyleModel",
          "model_module_version": "1.5.0",
          "state": {
            "_model_module": "@jupyter-widgets/controls",
            "_model_module_version": "1.5.0",
            "_model_name": "SliderStyleModel",
            "_view_count": null,
            "_view_module": "@jupyter-widgets/base",
            "_view_module_version": "1.2.0",
            "_view_name": "StyleView",
            "description_width": "",
            "handle_color": null
          }
        },
        "9c45a3375ccb43c299feb0affefbc650": {
          "model_module": "@jupyter-widgets/base",
          "model_name": "LayoutModel",
          "model_module_version": "1.2.0",
          "state": {
            "_model_module": "@jupyter-widgets/base",
            "_model_module_version": "1.2.0",
            "_model_name": "LayoutModel",
            "_view_count": null,
            "_view_module": "@jupyter-widgets/base",
            "_view_module_version": "1.2.0",
            "_view_name": "LayoutView",
            "align_content": null,
            "align_items": null,
            "align_self": null,
            "border": null,
            "bottom": null,
            "display": null,
            "flex": null,
            "flex_flow": null,
            "grid_area": null,
            "grid_auto_columns": null,
            "grid_auto_flow": null,
            "grid_auto_rows": null,
            "grid_column": null,
            "grid_gap": null,
            "grid_row": null,
            "grid_template_areas": null,
            "grid_template_columns": null,
            "grid_template_rows": null,
            "height": null,
            "justify_content": null,
            "justify_items": null,
            "left": null,
            "margin": null,
            "max_height": null,
            "max_width": null,
            "min_height": null,
            "min_width": null,
            "object_fit": null,
            "object_position": null,
            "order": null,
            "overflow": null,
            "overflow_x": null,
            "overflow_y": null,
            "padding": null,
            "right": null,
            "top": null,
            "visibility": null,
            "width": null
          }
        },
        "226b1790e4644777917621118026fea0": {
          "model_module": "@jupyter-widgets/controls",
          "model_name": "VBoxModel",
          "model_module_version": "1.5.0",
          "state": {
            "_dom_classes": [],
            "_model_module": "@jupyter-widgets/controls",
            "_model_module_version": "1.5.0",
            "_model_name": "VBoxModel",
            "_view_count": null,
            "_view_module": "@jupyter-widgets/controls",
            "_view_module_version": "1.5.0",
            "_view_name": "VBoxView",
            "box_style": "",
            "children": [
              "IPY_MODEL_715b463bde464f11904b2bf04817d4fe",
              "IPY_MODEL_4503ffc84c4e403f986068f8d9dfaebb",
              "IPY_MODEL_a2a1a89ab09049f7a60be750ba6fd8b9",
              "IPY_MODEL_b2654f6350b340a8aef8ada68033fdb0"
            ],
            "layout": "IPY_MODEL_13a38820fe25481faaaf9e38d5b8dadd"
          }
        },
        "715b463bde464f11904b2bf04817d4fe": {
          "model_module": "@jupyter-widgets/controls",
          "model_name": "FloatTextModel",
          "model_module_version": "1.5.0",
          "state": {
            "_dom_classes": [],
            "_model_module": "@jupyter-widgets/controls",
            "_model_module_version": "1.5.0",
            "_model_name": "FloatTextModel",
            "_view_count": null,
            "_view_module": "@jupyter-widgets/controls",
            "_view_module_version": "1.5.0",
            "_view_name": "FloatTextView",
            "continuous_update": false,
            "description": "Amount:",
            "description_tooltip": null,
            "disabled": false,
            "layout": "IPY_MODEL_e0d674c8586b471c9f39bac46cf5bd63",
            "step": null,
            "style": "IPY_MODEL_58d8ed048ee447aa9ac284c40f9883aa",
            "value": 100
          }
        },
        "4503ffc84c4e403f986068f8d9dfaebb": {
          "model_module": "@jupyter-widgets/controls",
          "model_name": "DropdownModel",
          "model_module_version": "1.5.0",
          "state": {
            "_dom_classes": [],
            "_model_module": "@jupyter-widgets/controls",
            "_model_module_version": "1.5.0",
            "_model_name": "DropdownModel",
            "_options_labels": [
              "USD to TWD",
              "TWD to USD"
            ],
            "_view_count": null,
            "_view_module": "@jupyter-widgets/controls",
            "_view_module_version": "1.5.0",
            "_view_name": "DropdownView",
            "description": "Currency:",
            "description_tooltip": null,
            "disabled": false,
            "index": 0,
            "layout": "IPY_MODEL_a295e717d75c40218dd47d6ce196974d",
            "style": "IPY_MODEL_4aa512d44e89436694d7328682ccfd15"
          }
        },
        "a2a1a89ab09049f7a60be750ba6fd8b9": {
          "model_module": "@jupyter-widgets/controls",
          "model_name": "ButtonModel",
          "model_module_version": "1.5.0",
          "state": {
            "_dom_classes": [],
            "_model_module": "@jupyter-widgets/controls",
            "_model_module_version": "1.5.0",
            "_model_name": "ButtonModel",
            "_view_count": null,
            "_view_module": "@jupyter-widgets/controls",
            "_view_module_version": "1.5.0",
            "_view_name": "ButtonView",
            "button_style": "",
            "description": "Convert",
            "disabled": false,
            "icon": "",
            "layout": "IPY_MODEL_6a2a7992e9b244158d33e1d38a50aa15",
            "style": "IPY_MODEL_ff20d5cd23cc451da6ab2772ed30e37b",
            "tooltip": ""
          }
        },
        "b2654f6350b340a8aef8ada68033fdb0": {
          "model_module": "@jupyter-widgets/output",
          "model_name": "OutputModel",
          "model_module_version": "1.0.0",
          "state": {
            "_dom_classes": [],
            "_model_module": "@jupyter-widgets/output",
            "_model_module_version": "1.0.0",
            "_model_name": "OutputModel",
            "_view_count": null,
            "_view_module": "@jupyter-widgets/output",
            "_view_module_version": "1.0.0",
            "_view_name": "OutputView",
            "layout": "IPY_MODEL_d0e733acdfcf418c8833df05a2b860c7",
            "msg_id": "",
            "outputs": [
              {
                "output_type": "stream",
                "name": "stdout",
                "text": [
                  "Final investment amount: 1050.0\n"
                ]
              }
            ]
          }
        },
        "13a38820fe25481faaaf9e38d5b8dadd": {
          "model_module": "@jupyter-widgets/base",
          "model_name": "LayoutModel",
          "model_module_version": "1.2.0",
          "state": {
            "_model_module": "@jupyter-widgets/base",
            "_model_module_version": "1.2.0",
            "_model_name": "LayoutModel",
            "_view_count": null,
            "_view_module": "@jupyter-widgets/base",
            "_view_module_version": "1.2.0",
            "_view_name": "LayoutView",
            "align_content": null,
            "align_items": null,
            "align_self": null,
            "border": null,
            "bottom": null,
            "display": null,
            "flex": null,
            "flex_flow": null,
            "grid_area": null,
            "grid_auto_columns": null,
            "grid_auto_flow": null,
            "grid_auto_rows": null,
            "grid_column": null,
            "grid_gap": null,
            "grid_row": null,
            "grid_template_areas": null,
            "grid_template_columns": null,
            "grid_template_rows": null,
            "height": null,
            "justify_content": null,
            "justify_items": null,
            "left": null,
            "margin": null,
            "max_height": null,
            "max_width": null,
            "min_height": null,
            "min_width": null,
            "object_fit": null,
            "object_position": null,
            "order": null,
            "overflow": null,
            "overflow_x": null,
            "overflow_y": null,
            "padding": null,
            "right": null,
            "top": null,
            "visibility": null,
            "width": null
          }
        },
        "e0d674c8586b471c9f39bac46cf5bd63": {
          "model_module": "@jupyter-widgets/base",
          "model_name": "LayoutModel",
          "model_module_version": "1.2.0",
          "state": {
            "_model_module": "@jupyter-widgets/base",
            "_model_module_version": "1.2.0",
            "_model_name": "LayoutModel",
            "_view_count": null,
            "_view_module": "@jupyter-widgets/base",
            "_view_module_version": "1.2.0",
            "_view_name": "LayoutView",
            "align_content": null,
            "align_items": null,
            "align_self": null,
            "border": null,
            "bottom": null,
            "display": null,
            "flex": null,
            "flex_flow": null,
            "grid_area": null,
            "grid_auto_columns": null,
            "grid_auto_flow": null,
            "grid_auto_rows": null,
            "grid_column": null,
            "grid_gap": null,
            "grid_row": null,
            "grid_template_areas": null,
            "grid_template_columns": null,
            "grid_template_rows": null,
            "height": null,
            "justify_content": null,
            "justify_items": null,
            "left": null,
            "margin": null,
            "max_height": null,
            "max_width": null,
            "min_height": null,
            "min_width": null,
            "object_fit": null,
            "object_position": null,
            "order": null,
            "overflow": null,
            "overflow_x": null,
            "overflow_y": null,
            "padding": null,
            "right": null,
            "top": null,
            "visibility": null,
            "width": null
          }
        },
        "58d8ed048ee447aa9ac284c40f9883aa": {
          "model_module": "@jupyter-widgets/controls",
          "model_name": "DescriptionStyleModel",
          "model_module_version": "1.5.0",
          "state": {
            "_model_module": "@jupyter-widgets/controls",
            "_model_module_version": "1.5.0",
            "_model_name": "DescriptionStyleModel",
            "_view_count": null,
            "_view_module": "@jupyter-widgets/base",
            "_view_module_version": "1.2.0",
            "_view_name": "StyleView",
            "description_width": ""
          }
        },
        "a295e717d75c40218dd47d6ce196974d": {
          "model_module": "@jupyter-widgets/base",
          "model_name": "LayoutModel",
          "model_module_version": "1.2.0",
          "state": {
            "_model_module": "@jupyter-widgets/base",
            "_model_module_version": "1.2.0",
            "_model_name": "LayoutModel",
            "_view_count": null,
            "_view_module": "@jupyter-widgets/base",
            "_view_module_version": "1.2.0",
            "_view_name": "LayoutView",
            "align_content": null,
            "align_items": null,
            "align_self": null,
            "border": null,
            "bottom": null,
            "display": null,
            "flex": null,
            "flex_flow": null,
            "grid_area": null,
            "grid_auto_columns": null,
            "grid_auto_flow": null,
            "grid_auto_rows": null,
            "grid_column": null,
            "grid_gap": null,
            "grid_row": null,
            "grid_template_areas": null,
            "grid_template_columns": null,
            "grid_template_rows": null,
            "height": null,
            "justify_content": null,
            "justify_items": null,
            "left": null,
            "margin": null,
            "max_height": null,
            "max_width": null,
            "min_height": null,
            "min_width": null,
            "object_fit": null,
            "object_position": null,
            "order": null,
            "overflow": null,
            "overflow_x": null,
            "overflow_y": null,
            "padding": null,
            "right": null,
            "top": null,
            "visibility": null,
            "width": null
          }
        },
        "4aa512d44e89436694d7328682ccfd15": {
          "model_module": "@jupyter-widgets/controls",
          "model_name": "DescriptionStyleModel",
          "model_module_version": "1.5.0",
          "state": {
            "_model_module": "@jupyter-widgets/controls",
            "_model_module_version": "1.5.0",
            "_model_name": "DescriptionStyleModel",
            "_view_count": null,
            "_view_module": "@jupyter-widgets/base",
            "_view_module_version": "1.2.0",
            "_view_name": "StyleView",
            "description_width": ""
          }
        },
        "6a2a7992e9b244158d33e1d38a50aa15": {
          "model_module": "@jupyter-widgets/base",
          "model_name": "LayoutModel",
          "model_module_version": "1.2.0",
          "state": {
            "_model_module": "@jupyter-widgets/base",
            "_model_module_version": "1.2.0",
            "_model_name": "LayoutModel",
            "_view_count": null,
            "_view_module": "@jupyter-widgets/base",
            "_view_module_version": "1.2.0",
            "_view_name": "LayoutView",
            "align_content": null,
            "align_items": null,
            "align_self": null,
            "border": null,
            "bottom": null,
            "display": null,
            "flex": null,
            "flex_flow": null,
            "grid_area": null,
            "grid_auto_columns": null,
            "grid_auto_flow": null,
            "grid_auto_rows": null,
            "grid_column": null,
            "grid_gap": null,
            "grid_row": null,
            "grid_template_areas": null,
            "grid_template_columns": null,
            "grid_template_rows": null,
            "height": null,
            "justify_content": null,
            "justify_items": null,
            "left": null,
            "margin": null,
            "max_height": null,
            "max_width": null,
            "min_height": null,
            "min_width": null,
            "object_fit": null,
            "object_position": null,
            "order": null,
            "overflow": null,
            "overflow_x": null,
            "overflow_y": null,
            "padding": null,
            "right": null,
            "top": null,
            "visibility": null,
            "width": null
          }
        },
        "ff20d5cd23cc451da6ab2772ed30e37b": {
          "model_module": "@jupyter-widgets/controls",
          "model_name": "ButtonStyleModel",
          "model_module_version": "1.5.0",
          "state": {
            "_model_module": "@jupyter-widgets/controls",
            "_model_module_version": "1.5.0",
            "_model_name": "ButtonStyleModel",
            "_view_count": null,
            "_view_module": "@jupyter-widgets/base",
            "_view_module_version": "1.2.0",
            "_view_name": "StyleView",
            "button_color": null,
            "font_weight": ""
          }
        },
        "d0e733acdfcf418c8833df05a2b860c7": {
          "model_module": "@jupyter-widgets/base",
          "model_name": "LayoutModel",
          "model_module_version": "1.2.0",
          "state": {
            "_model_module": "@jupyter-widgets/base",
            "_model_module_version": "1.2.0",
            "_model_name": "LayoutModel",
            "_view_count": null,
            "_view_module": "@jupyter-widgets/base",
            "_view_module_version": "1.2.0",
            "_view_name": "LayoutView",
            "align_content": null,
            "align_items": null,
            "align_self": null,
            "border": null,
            "bottom": null,
            "display": null,
            "flex": null,
            "flex_flow": null,
            "grid_area": null,
            "grid_auto_columns": null,
            "grid_auto_flow": null,
            "grid_auto_rows": null,
            "grid_column": null,
            "grid_gap": null,
            "grid_row": null,
            "grid_template_areas": null,
            "grid_template_columns": null,
            "grid_template_rows": null,
            "height": null,
            "justify_content": null,
            "justify_items": null,
            "left": null,
            "margin": null,
            "max_height": null,
            "max_width": null,
            "min_height": null,
            "min_width": null,
            "object_fit": null,
            "object_position": null,
            "order": null,
            "overflow": null,
            "overflow_x": null,
            "overflow_y": null,
            "padding": null,
            "right": null,
            "top": null,
            "visibility": null,
            "width": null
          }
        },
        "576aec1e66ac42df887eead5a8e4cf82": {
          "model_module": "@jupyter-widgets/controls",
          "model_name": "VBoxModel",
          "model_module_version": "1.5.0",
          "state": {
            "_dom_classes": [],
            "_model_module": "@jupyter-widgets/controls",
            "_model_module_version": "1.5.0",
            "_model_name": "VBoxModel",
            "_view_count": null,
            "_view_module": "@jupyter-widgets/controls",
            "_view_module_version": "1.5.0",
            "_view_name": "VBoxView",
            "box_style": "",
            "children": [
              "IPY_MODEL_4f869d6b2b8745f780c9670ba3e0207e",
              "IPY_MODEL_3e177bede26c42939f415b610deb7a87",
              "IPY_MODEL_3388d7d20757440d9497f40f83481a1b",
              "IPY_MODEL_e7183af965ea4ca4bd1a1c32a39a5773",
              "IPY_MODEL_7025c2a7761d48bfb7aa4001688e3b6e"
            ],
            "layout": "IPY_MODEL_dfc444cf05534e909f58409d0dbd76f6"
          }
        },
        "4f869d6b2b8745f780c9670ba3e0207e": {
          "model_module": "@jupyter-widgets/controls",
          "model_name": "FloatTextModel",
          "model_module_version": "1.5.0",
          "state": {
            "_dom_classes": [],
            "_model_module": "@jupyter-widgets/controls",
            "_model_module_version": "1.5.0",
            "_model_name": "FloatTextModel",
            "_view_count": null,
            "_view_module": "@jupyter-widgets/controls",
            "_view_module_version": "1.5.0",
            "_view_name": "FloatTextView",
            "continuous_update": false,
            "description": "Investment Amount:",
            "description_tooltip": null,
            "disabled": false,
            "layout": "IPY_MODEL_545f0fafd19046fd9e390a13d8094fa0",
            "step": null,
            "style": "IPY_MODEL_a5ee7aadfc204f2a9cce74326455f076",
            "value": 1000
          }
        },
        "3e177bede26c42939f415b610deb7a87": {
          "model_module": "@jupyter-widgets/controls",
          "model_name": "IntTextModel",
          "model_module_version": "1.5.0",
          "state": {
            "_dom_classes": [],
            "_model_module": "@jupyter-widgets/controls",
            "_model_module_version": "1.5.0",
            "_model_name": "IntTextModel",
            "_view_count": null,
            "_view_module": "@jupyter-widgets/controls",
            "_view_module_version": "1.5.0",
            "_view_name": "IntTextView",
            "continuous_update": false,
            "description": "Investment Period (years):",
            "description_tooltip": null,
            "disabled": false,
            "layout": "IPY_MODEL_c932f291f56b42a8b4911f993c36a3be",
            "step": 1,
            "style": "IPY_MODEL_d0559c3e2aee45989de718420f087560",
            "value": 1
          }
        },
        "3388d7d20757440d9497f40f83481a1b": {
          "model_module": "@jupyter-widgets/controls",
          "model_name": "FloatTextModel",
          "model_module_version": "1.5.0",
          "state": {
            "_dom_classes": [],
            "_model_module": "@jupyter-widgets/controls",
            "_model_module_version": "1.5.0",
            "_model_name": "FloatTextModel",
            "_view_count": null,
            "_view_module": "@jupyter-widgets/controls",
            "_view_module_version": "1.5.0",
            "_view_name": "FloatTextView",
            "continuous_update": false,
            "description": "Expected Return Rate (%):",
            "description_tooltip": null,
            "disabled": false,
            "layout": "IPY_MODEL_0ea17e41a7fd49acb45d56b415353ff6",
            "step": null,
            "style": "IPY_MODEL_4766b329a9df497190b3e303f7338ae8",
            "value": 5
          }
        },
        "e7183af965ea4ca4bd1a1c32a39a5773": {
          "model_module": "@jupyter-widgets/controls",
          "model_name": "ButtonModel",
          "model_module_version": "1.5.0",
          "state": {
            "_dom_classes": [],
            "_model_module": "@jupyter-widgets/controls",
            "_model_module_version": "1.5.0",
            "_model_name": "ButtonModel",
            "_view_count": null,
            "_view_module": "@jupyter-widgets/controls",
            "_view_module_version": "1.5.0",
            "_view_name": "ButtonView",
            "button_style": "",
            "description": "Calculate",
            "disabled": false,
            "icon": "",
            "layout": "IPY_MODEL_0d66bbd5632c4814be1016d7f19c7eda",
            "style": "IPY_MODEL_401714f1cd1540179fb1fb6282f26c72",
            "tooltip": ""
          }
        },
        "7025c2a7761d48bfb7aa4001688e3b6e": {
          "model_module": "@jupyter-widgets/output",
          "model_name": "OutputModel",
          "model_module_version": "1.0.0",
          "state": {
            "_dom_classes": [],
            "_model_module": "@jupyter-widgets/output",
            "_model_module_version": "1.0.0",
            "_model_name": "OutputModel",
            "_view_count": null,
            "_view_module": "@jupyter-widgets/output",
            "_view_module_version": "1.0.0",
            "_view_name": "OutputView",
            "layout": "IPY_MODEL_743b78bc852c49d486e44091cd1a3ff3",
            "msg_id": "",
            "outputs": [
              {
                "output_type": "stream",
                "name": "stdout",
                "text": [
                  "Final deposit after one year: 2200.0\n"
                ]
              }
            ]
          }
        },
        "dfc444cf05534e909f58409d0dbd76f6": {
          "model_module": "@jupyter-widgets/base",
          "model_name": "LayoutModel",
          "model_module_version": "1.2.0",
          "state": {
            "_model_module": "@jupyter-widgets/base",
            "_model_module_version": "1.2.0",
            "_model_name": "LayoutModel",
            "_view_count": null,
            "_view_module": "@jupyter-widgets/base",
            "_view_module_version": "1.2.0",
            "_view_name": "LayoutView",
            "align_content": null,
            "align_items": null,
            "align_self": null,
            "border": null,
            "bottom": null,
            "display": null,
            "flex": null,
            "flex_flow": null,
            "grid_area": null,
            "grid_auto_columns": null,
            "grid_auto_flow": null,
            "grid_auto_rows": null,
            "grid_column": null,
            "grid_gap": null,
            "grid_row": null,
            "grid_template_areas": null,
            "grid_template_columns": null,
            "grid_template_rows": null,
            "height": null,
            "justify_content": null,
            "justify_items": null,
            "left": null,
            "margin": null,
            "max_height": null,
            "max_width": null,
            "min_height": null,
            "min_width": null,
            "object_fit": null,
            "object_position": null,
            "order": null,
            "overflow": null,
            "overflow_x": null,
            "overflow_y": null,
            "padding": null,
            "right": null,
            "top": null,
            "visibility": null,
            "width": null
          }
        },
        "545f0fafd19046fd9e390a13d8094fa0": {
          "model_module": "@jupyter-widgets/base",
          "model_name": "LayoutModel",
          "model_module_version": "1.2.0",
          "state": {
            "_model_module": "@jupyter-widgets/base",
            "_model_module_version": "1.2.0",
            "_model_name": "LayoutModel",
            "_view_count": null,
            "_view_module": "@jupyter-widgets/base",
            "_view_module_version": "1.2.0",
            "_view_name": "LayoutView",
            "align_content": null,
            "align_items": null,
            "align_self": null,
            "border": null,
            "bottom": null,
            "display": null,
            "flex": null,
            "flex_flow": null,
            "grid_area": null,
            "grid_auto_columns": null,
            "grid_auto_flow": null,
            "grid_auto_rows": null,
            "grid_column": null,
            "grid_gap": null,
            "grid_row": null,
            "grid_template_areas": null,
            "grid_template_columns": null,
            "grid_template_rows": null,
            "height": null,
            "justify_content": null,
            "justify_items": null,
            "left": null,
            "margin": null,
            "max_height": null,
            "max_width": null,
            "min_height": null,
            "min_width": null,
            "object_fit": null,
            "object_position": null,
            "order": null,
            "overflow": null,
            "overflow_x": null,
            "overflow_y": null,
            "padding": null,
            "right": null,
            "top": null,
            "visibility": null,
            "width": null
          }
        },
        "a5ee7aadfc204f2a9cce74326455f076": {
          "model_module": "@jupyter-widgets/controls",
          "model_name": "DescriptionStyleModel",
          "model_module_version": "1.5.0",
          "state": {
            "_model_module": "@jupyter-widgets/controls",
            "_model_module_version": "1.5.0",
            "_model_name": "DescriptionStyleModel",
            "_view_count": null,
            "_view_module": "@jupyter-widgets/base",
            "_view_module_version": "1.2.0",
            "_view_name": "StyleView",
            "description_width": ""
          }
        },
        "c932f291f56b42a8b4911f993c36a3be": {
          "model_module": "@jupyter-widgets/base",
          "model_name": "LayoutModel",
          "model_module_version": "1.2.0",
          "state": {
            "_model_module": "@jupyter-widgets/base",
            "_model_module_version": "1.2.0",
            "_model_name": "LayoutModel",
            "_view_count": null,
            "_view_module": "@jupyter-widgets/base",
            "_view_module_version": "1.2.0",
            "_view_name": "LayoutView",
            "align_content": null,
            "align_items": null,
            "align_self": null,
            "border": null,
            "bottom": null,
            "display": null,
            "flex": null,
            "flex_flow": null,
            "grid_area": null,
            "grid_auto_columns": null,
            "grid_auto_flow": null,
            "grid_auto_rows": null,
            "grid_column": null,
            "grid_gap": null,
            "grid_row": null,
            "grid_template_areas": null,
            "grid_template_columns": null,
            "grid_template_rows": null,
            "height": null,
            "justify_content": null,
            "justify_items": null,
            "left": null,
            "margin": null,
            "max_height": null,
            "max_width": null,
            "min_height": null,
            "min_width": null,
            "object_fit": null,
            "object_position": null,
            "order": null,
            "overflow": null,
            "overflow_x": null,
            "overflow_y": null,
            "padding": null,
            "right": null,
            "top": null,
            "visibility": null,
            "width": null
          }
        },
        "d0559c3e2aee45989de718420f087560": {
          "model_module": "@jupyter-widgets/controls",
          "model_name": "DescriptionStyleModel",
          "model_module_version": "1.5.0",
          "state": {
            "_model_module": "@jupyter-widgets/controls",
            "_model_module_version": "1.5.0",
            "_model_name": "DescriptionStyleModel",
            "_view_count": null,
            "_view_module": "@jupyter-widgets/base",
            "_view_module_version": "1.2.0",
            "_view_name": "StyleView",
            "description_width": ""
          }
        },
        "0ea17e41a7fd49acb45d56b415353ff6": {
          "model_module": "@jupyter-widgets/base",
          "model_name": "LayoutModel",
          "model_module_version": "1.2.0",
          "state": {
            "_model_module": "@jupyter-widgets/base",
            "_model_module_version": "1.2.0",
            "_model_name": "LayoutModel",
            "_view_count": null,
            "_view_module": "@jupyter-widgets/base",
            "_view_module_version": "1.2.0",
            "_view_name": "LayoutView",
            "align_content": null,
            "align_items": null,
            "align_self": null,
            "border": null,
            "bottom": null,
            "display": null,
            "flex": null,
            "flex_flow": null,
            "grid_area": null,
            "grid_auto_columns": null,
            "grid_auto_flow": null,
            "grid_auto_rows": null,
            "grid_column": null,
            "grid_gap": null,
            "grid_row": null,
            "grid_template_areas": null,
            "grid_template_columns": null,
            "grid_template_rows": null,
            "height": null,
            "justify_content": null,
            "justify_items": null,
            "left": null,
            "margin": null,
            "max_height": null,
            "max_width": null,
            "min_height": null,
            "min_width": null,
            "object_fit": null,
            "object_position": null,
            "order": null,
            "overflow": null,
            "overflow_x": null,
            "overflow_y": null,
            "padding": null,
            "right": null,
            "top": null,
            "visibility": null,
            "width": null
          }
        },
        "4766b329a9df497190b3e303f7338ae8": {
          "model_module": "@jupyter-widgets/controls",
          "model_name": "DescriptionStyleModel",
          "model_module_version": "1.5.0",
          "state": {
            "_model_module": "@jupyter-widgets/controls",
            "_model_module_version": "1.5.0",
            "_model_name": "DescriptionStyleModel",
            "_view_count": null,
            "_view_module": "@jupyter-widgets/base",
            "_view_module_version": "1.2.0",
            "_view_name": "StyleView",
            "description_width": ""
          }
        },
        "0d66bbd5632c4814be1016d7f19c7eda": {
          "model_module": "@jupyter-widgets/base",
          "model_name": "LayoutModel",
          "model_module_version": "1.2.0",
          "state": {
            "_model_module": "@jupyter-widgets/base",
            "_model_module_version": "1.2.0",
            "_model_name": "LayoutModel",
            "_view_count": null,
            "_view_module": "@jupyter-widgets/base",
            "_view_module_version": "1.2.0",
            "_view_name": "LayoutView",
            "align_content": null,
            "align_items": null,
            "align_self": null,
            "border": null,
            "bottom": null,
            "display": null,
            "flex": null,
            "flex_flow": null,
            "grid_area": null,
            "grid_auto_columns": null,
            "grid_auto_flow": null,
            "grid_auto_rows": null,
            "grid_column": null,
            "grid_gap": null,
            "grid_row": null,
            "grid_template_areas": null,
            "grid_template_columns": null,
            "grid_template_rows": null,
            "height": null,
            "justify_content": null,
            "justify_items": null,
            "left": null,
            "margin": null,
            "max_height": null,
            "max_width": null,
            "min_height": null,
            "min_width": null,
            "object_fit": null,
            "object_position": null,
            "order": null,
            "overflow": null,
            "overflow_x": null,
            "overflow_y": null,
            "padding": null,
            "right": null,
            "top": null,
            "visibility": null,
            "width": null
          }
        },
        "401714f1cd1540179fb1fb6282f26c72": {
          "model_module": "@jupyter-widgets/controls",
          "model_name": "ButtonStyleModel",
          "model_module_version": "1.5.0",
          "state": {
            "_model_module": "@jupyter-widgets/controls",
            "_model_module_version": "1.5.0",
            "_model_name": "ButtonStyleModel",
            "_view_count": null,
            "_view_module": "@jupyter-widgets/base",
            "_view_module_version": "1.2.0",
            "_view_name": "StyleView",
            "button_color": null,
            "font_weight": ""
          }
        },
        "743b78bc852c49d486e44091cd1a3ff3": {
          "model_module": "@jupyter-widgets/base",
          "model_name": "LayoutModel",
          "model_module_version": "1.2.0",
          "state": {
            "_model_module": "@jupyter-widgets/base",
            "_model_module_version": "1.2.0",
            "_model_name": "LayoutModel",
            "_view_count": null,
            "_view_module": "@jupyter-widgets/base",
            "_view_module_version": "1.2.0",
            "_view_name": "LayoutView",
            "align_content": null,
            "align_items": null,
            "align_self": null,
            "border": null,
            "bottom": null,
            "display": null,
            "flex": null,
            "flex_flow": null,
            "grid_area": null,
            "grid_auto_columns": null,
            "grid_auto_flow": null,
            "grid_auto_rows": null,
            "grid_column": null,
            "grid_gap": null,
            "grid_row": null,
            "grid_template_areas": null,
            "grid_template_columns": null,
            "grid_template_rows": null,
            "height": null,
            "justify_content": null,
            "justify_items": null,
            "left": null,
            "margin": null,
            "max_height": null,
            "max_width": null,
            "min_height": null,
            "min_width": null,
            "object_fit": null,
            "object_position": null,
            "order": null,
            "overflow": null,
            "overflow_x": null,
            "overflow_y": null,
            "padding": null,
            "right": null,
            "top": null,
            "visibility": null,
            "width": null
          }
        },
        "b8db361723ed493b964817535755fa0e": {
          "model_module": "@jupyter-widgets/controls",
          "model_name": "VBoxModel",
          "model_module_version": "1.5.0",
          "state": {
            "_dom_classes": [],
            "_model_module": "@jupyter-widgets/controls",
            "_model_module_version": "1.5.0",
            "_model_name": "VBoxModel",
            "_view_count": null,
            "_view_module": "@jupyter-widgets/controls",
            "_view_module_version": "1.5.0",
            "_view_name": "VBoxView",
            "box_style": "",
            "children": [
              "IPY_MODEL_b85743c5aee14798b55d8d7358bc80ab",
              "IPY_MODEL_69c29f68c3204dd4bbf90f25ad9d1b60",
              "IPY_MODEL_58738db14e3e49baa87086f26c812fea"
            ],
            "layout": "IPY_MODEL_441f18d56f1c48e98baa479b23a8b046"
          }
        },
        "b85743c5aee14798b55d8d7358bc80ab": {
          "model_module": "@jupyter-widgets/controls",
          "model_name": "FloatTextModel",
          "model_module_version": "1.5.0",
          "state": {
            "_dom_classes": [],
            "_model_module": "@jupyter-widgets/controls",
            "_model_module_version": "1.5.0",
            "_model_name": "FloatTextModel",
            "_view_count": null,
            "_view_module": "@jupyter-widgets/controls",
            "_view_module_version": "1.5.0",
            "_view_name": "FloatTextView",
            "continuous_update": false,
            "description": "Radius:",
            "description_tooltip": null,
            "disabled": false,
            "layout": "IPY_MODEL_8baa70f2018e4bae81d2a525cf9f85a9",
            "step": null,
            "style": "IPY_MODEL_d046b3b85bb2460fbfdcc26515e6b4d3",
            "value": 1
          }
        },
        "69c29f68c3204dd4bbf90f25ad9d1b60": {
          "model_module": "@jupyter-widgets/controls",
          "model_name": "ButtonModel",
          "model_module_version": "1.5.0",
          "state": {
            "_dom_classes": [],
            "_model_module": "@jupyter-widgets/controls",
            "_model_module_version": "1.5.0",
            "_model_name": "ButtonModel",
            "_view_count": null,
            "_view_module": "@jupyter-widgets/controls",
            "_view_module_version": "1.5.0",
            "_view_name": "ButtonView",
            "button_style": "",
            "description": "Calculate",
            "disabled": false,
            "icon": "",
            "layout": "IPY_MODEL_68a145ee48b546cc93e829207f184a75",
            "style": "IPY_MODEL_338ec6ec590b4b2783d861c73b8a3c20",
            "tooltip": ""
          }
        },
        "58738db14e3e49baa87086f26c812fea": {
          "model_module": "@jupyter-widgets/output",
          "model_name": "OutputModel",
          "model_module_version": "1.0.0",
          "state": {
            "_dom_classes": [],
            "_model_module": "@jupyter-widgets/output",
            "_model_module_version": "1.0.0",
            "_model_name": "OutputModel",
            "_view_count": null,
            "_view_module": "@jupyter-widgets/output",
            "_view_module_version": "1.0.0",
            "_view_name": "OutputView",
            "layout": "IPY_MODEL_35a4ce0598644468832bc39c6bcce8ca",
            "msg_id": "",
            "outputs": []
          }
        },
        "441f18d56f1c48e98baa479b23a8b046": {
          "model_module": "@jupyter-widgets/base",
          "model_name": "LayoutModel",
          "model_module_version": "1.2.0",
          "state": {
            "_model_module": "@jupyter-widgets/base",
            "_model_module_version": "1.2.0",
            "_model_name": "LayoutModel",
            "_view_count": null,
            "_view_module": "@jupyter-widgets/base",
            "_view_module_version": "1.2.0",
            "_view_name": "LayoutView",
            "align_content": null,
            "align_items": null,
            "align_self": null,
            "border": null,
            "bottom": null,
            "display": null,
            "flex": null,
            "flex_flow": null,
            "grid_area": null,
            "grid_auto_columns": null,
            "grid_auto_flow": null,
            "grid_auto_rows": null,
            "grid_column": null,
            "grid_gap": null,
            "grid_row": null,
            "grid_template_areas": null,
            "grid_template_columns": null,
            "grid_template_rows": null,
            "height": null,
            "justify_content": null,
            "justify_items": null,
            "left": null,
            "margin": null,
            "max_height": null,
            "max_width": null,
            "min_height": null,
            "min_width": null,
            "object_fit": null,
            "object_position": null,
            "order": null,
            "overflow": null,
            "overflow_x": null,
            "overflow_y": null,
            "padding": null,
            "right": null,
            "top": null,
            "visibility": null,
            "width": null
          }
        },
        "8baa70f2018e4bae81d2a525cf9f85a9": {
          "model_module": "@jupyter-widgets/base",
          "model_name": "LayoutModel",
          "model_module_version": "1.2.0",
          "state": {
            "_model_module": "@jupyter-widgets/base",
            "_model_module_version": "1.2.0",
            "_model_name": "LayoutModel",
            "_view_count": null,
            "_view_module": "@jupyter-widgets/base",
            "_view_module_version": "1.2.0",
            "_view_name": "LayoutView",
            "align_content": null,
            "align_items": null,
            "align_self": null,
            "border": null,
            "bottom": null,
            "display": null,
            "flex": null,
            "flex_flow": null,
            "grid_area": null,
            "grid_auto_columns": null,
            "grid_auto_flow": null,
            "grid_auto_rows": null,
            "grid_column": null,
            "grid_gap": null,
            "grid_row": null,
            "grid_template_areas": null,
            "grid_template_columns": null,
            "grid_template_rows": null,
            "height": null,
            "justify_content": null,
            "justify_items": null,
            "left": null,
            "margin": null,
            "max_height": null,
            "max_width": null,
            "min_height": null,
            "min_width": null,
            "object_fit": null,
            "object_position": null,
            "order": null,
            "overflow": null,
            "overflow_x": null,
            "overflow_y": null,
            "padding": null,
            "right": null,
            "top": null,
            "visibility": null,
            "width": null
          }
        },
        "d046b3b85bb2460fbfdcc26515e6b4d3": {
          "model_module": "@jupyter-widgets/controls",
          "model_name": "DescriptionStyleModel",
          "model_module_version": "1.5.0",
          "state": {
            "_model_module": "@jupyter-widgets/controls",
            "_model_module_version": "1.5.0",
            "_model_name": "DescriptionStyleModel",
            "_view_count": null,
            "_view_module": "@jupyter-widgets/base",
            "_view_module_version": "1.2.0",
            "_view_name": "StyleView",
            "description_width": ""
          }
        },
        "68a145ee48b546cc93e829207f184a75": {
          "model_module": "@jupyter-widgets/base",
          "model_name": "LayoutModel",
          "model_module_version": "1.2.0",
          "state": {
            "_model_module": "@jupyter-widgets/base",
            "_model_module_version": "1.2.0",
            "_model_name": "LayoutModel",
            "_view_count": null,
            "_view_module": "@jupyter-widgets/base",
            "_view_module_version": "1.2.0",
            "_view_name": "LayoutView",
            "align_content": null,
            "align_items": null,
            "align_self": null,
            "border": null,
            "bottom": null,
            "display": null,
            "flex": null,
            "flex_flow": null,
            "grid_area": null,
            "grid_auto_columns": null,
            "grid_auto_flow": null,
            "grid_auto_rows": null,
            "grid_column": null,
            "grid_gap": null,
            "grid_row": null,
            "grid_template_areas": null,
            "grid_template_columns": null,
            "grid_template_rows": null,
            "height": null,
            "justify_content": null,
            "justify_items": null,
            "left": null,
            "margin": null,
            "max_height": null,
            "max_width": null,
            "min_height": null,
            "min_width": null,
            "object_fit": null,
            "object_position": null,
            "order": null,
            "overflow": null,
            "overflow_x": null,
            "overflow_y": null,
            "padding": null,
            "right": null,
            "top": null,
            "visibility": null,
            "width": null
          }
        },
        "338ec6ec590b4b2783d861c73b8a3c20": {
          "model_module": "@jupyter-widgets/controls",
          "model_name": "ButtonStyleModel",
          "model_module_version": "1.5.0",
          "state": {
            "_model_module": "@jupyter-widgets/controls",
            "_model_module_version": "1.5.0",
            "_model_name": "ButtonStyleModel",
            "_view_count": null,
            "_view_module": "@jupyter-widgets/base",
            "_view_module_version": "1.2.0",
            "_view_name": "StyleView",
            "button_color": null,
            "font_weight": ""
          }
        },
        "35a4ce0598644468832bc39c6bcce8ca": {
          "model_module": "@jupyter-widgets/base",
          "model_name": "LayoutModel",
          "model_module_version": "1.2.0",
          "state": {
            "_model_module": "@jupyter-widgets/base",
            "_model_module_version": "1.2.0",
            "_model_name": "LayoutModel",
            "_view_count": null,
            "_view_module": "@jupyter-widgets/base",
            "_view_module_version": "1.2.0",
            "_view_name": "LayoutView",
            "align_content": null,
            "align_items": null,
            "align_self": null,
            "border": null,
            "bottom": null,
            "display": null,
            "flex": null,
            "flex_flow": null,
            "grid_area": null,
            "grid_auto_columns": null,
            "grid_auto_flow": null,
            "grid_auto_rows": null,
            "grid_column": null,
            "grid_gap": null,
            "grid_row": null,
            "grid_template_areas": null,
            "grid_template_columns": null,
            "grid_template_rows": null,
            "height": null,
            "justify_content": null,
            "justify_items": null,
            "left": null,
            "margin": null,
            "max_height": null,
            "max_width": null,
            "min_height": null,
            "min_width": null,
            "object_fit": null,
            "object_position": null,
            "order": null,
            "overflow": null,
            "overflow_x": null,
            "overflow_y": null,
            "padding": null,
            "right": null,
            "top": null,
            "visibility": null,
            "width": null
          }
        }
      }
    }
  },
  "cells": [
    {
      "cell_type": "markdown",
      "metadata": {
        "id": "view-in-github",
        "colab_type": "text"
      },
      "source": [
        "<a href=\"https://colab.research.google.com/github/melody016861/melody_Portfolio.github.io/blob/main/Python%E6%95%B8%E6%93%9A%E5%88%86%E6%9E%90_HW_4.ipynb\" target=\"_parent\"><img src=\"https://colab.research.google.com/assets/colab-badge.svg\" alt=\"Open In Colab\"/></a>"
      ]
    },
    {
      "cell_type": "markdown",
      "source": [
        "# 上課內容 : 處理與展示資料的技巧： Python的字典檔與jupyter互動功能\n",
        "\n",
        "## 4-1 第四周課程簡介\n",
        "UML : https://moocs.nccu.edu.tw/mod/page/view.php?id=2487\n"
      ],
      "metadata": {
        "id": "iCsFP1Z58JTM"
      }
    },
    {
      "cell_type": "markdown",
      "source": [
        "## 4-2 字典資料型態\n",
        "UML : https://moocs.nccu.edu.tw/mod/page/view.php?id=2488&forceview=1"
      ],
      "metadata": {
        "id": "S-vggJnkOr9G"
      }
    },
    {
      "cell_type": "code",
      "execution_count": null,
      "metadata": {
        "id": "CB7WDONd5ekT"
      },
      "outputs": [],
      "source": [
        "%matplotlib inline\n",
        "import numpy as np\n",
        "import matplotlib.pyplot as plt"
      ]
    },
    {
      "cell_type": "code",
      "source": [
        "mydict = {'apple': '蘋果', 'banana':'香蕉'}"
      ],
      "metadata": {
        "id": "Fa65LXjaPC6X"
      },
      "execution_count": null,
      "outputs": []
    },
    {
      "cell_type": "code",
      "source": [
        "mydict"
      ],
      "metadata": {
        "colab": {
          "base_uri": "https://localhost:8080/"
        },
        "id": "M0MfEKHqPNEg",
        "outputId": "29f53785-3dd4-4c78-8c89-063e95ce6cd4"
      },
      "execution_count": null,
      "outputs": [
        {
          "output_type": "execute_result",
          "data": {
            "text/plain": [
              "{'apple': '蘋果', 'banana': '香蕉'}"
            ]
          },
          "metadata": {},
          "execution_count": 56
        }
      ]
    },
    {
      "cell_type": "code",
      "source": [
        "mydict['apple']"
      ],
      "metadata": {
        "colab": {
          "base_uri": "https://localhost:8080/"
        },
        "id": "ycQNRyySPOZp",
        "outputId": "774f9e26-cb79-4734-d979-4ae0e57a91e3"
      },
      "execution_count": null,
      "outputs": [
        {
          "output_type": "execute_result",
          "data": {
            "text/plain": [
              "'蘋果'"
            ],
            "application/vnd.google.colaboratory.intrinsic+json": {
              "type": "string"
            }
          },
          "metadata": {},
          "execution_count": 57
        }
      ]
    },
    {
      "cell_type": "code",
      "source": [
        "mydict['orange'] = '柳橙'"
      ],
      "metadata": {
        "id": "53UzH102PTCN"
      },
      "execution_count": null,
      "outputs": []
    },
    {
      "cell_type": "code",
      "source": [
        "mydict"
      ],
      "metadata": {
        "colab": {
          "base_uri": "https://localhost:8080/"
        },
        "id": "p2ipzbvdPXCT",
        "outputId": "9edcfe4b-977e-4e96-edef-4a89ce38c1fc"
      },
      "execution_count": null,
      "outputs": [
        {
          "output_type": "execute_result",
          "data": {
            "text/plain": [
              "{'apple': '蘋果', 'banana': '香蕉', 'orange': '柳橙'}"
            ]
          },
          "metadata": {},
          "execution_count": 59
        }
      ]
    },
    {
      "cell_type": "code",
      "source": [
        "for key in mydict:\n",
        "  print(\"{}:{}\".format(key, mydict[key]))"
      ],
      "metadata": {
        "colab": {
          "base_uri": "https://localhost:8080/"
        },
        "id": "P-PvDrctPYf0",
        "outputId": "50127353-8135-4c86-bd90-fa818f710f47"
      },
      "execution_count": null,
      "outputs": [
        {
          "output_type": "stream",
          "name": "stdout",
          "text": [
            "apple:蘋果\n",
            "banana:香蕉\n",
            "orange:柳橙\n"
          ]
        }
      ]
    },
    {
      "cell_type": "markdown",
      "source": [
        "## 4-3 超炫的互動功能之一\n",
        "UML : https://moocs.nccu.edu.tw/mod/page/view.php?id=2489&forceview=1"
      ],
      "metadata": {
        "id": "CJtaD1gFPr7B"
      }
    },
    {
      "cell_type": "code",
      "source": [
        "from ipywidgets import interact"
      ],
      "metadata": {
        "id": "8Y7-wra8PkJS"
      },
      "execution_count": null,
      "outputs": []
    },
    {
      "cell_type": "code",
      "source": [
        "def f(x):\n",
        "  print(x)"
      ],
      "metadata": {
        "id": "drXnZoaWP7QR"
      },
      "execution_count": null,
      "outputs": []
    },
    {
      "cell_type": "code",
      "source": [
        "f(3)"
      ],
      "metadata": {
        "colab": {
          "base_uri": "https://localhost:8080/"
        },
        "id": "B1f4iNiBQDq5",
        "outputId": "c6bf5419-fc44-431a-9fd2-13c0ba27df54"
      },
      "execution_count": null,
      "outputs": [
        {
          "output_type": "stream",
          "name": "stdout",
          "text": [
            "3\n"
          ]
        }
      ]
    },
    {
      "cell_type": "code",
      "source": [
        "f(\"hi\")"
      ],
      "metadata": {
        "colab": {
          "base_uri": "https://localhost:8080/"
        },
        "id": "cu0RZcEiQEay",
        "outputId": "d3bba6b2-1232-433b-e287-c94eb5742851"
      },
      "execution_count": null,
      "outputs": [
        {
          "output_type": "stream",
          "name": "stdout",
          "text": [
            "hi\n"
          ]
        }
      ]
    },
    {
      "cell_type": "code",
      "source": [
        "# interact(函數, 變數=起始值)\n",
        "interact(f, x=3) # 因為剛剛定義f(x)會印出x，所以此互動滑桿的輸出結果會根據f函數定義"
      ],
      "metadata": {
        "colab": {
          "base_uri": "https://localhost:8080/",
          "referenced_widgets": [
            "54fd4531ec90487aa1d5729ded7f6690",
            "1c5eb4fad2d944e0bee4134ef2ba880d",
            "c3476ebca619468cb8737747dfb98244",
            "f8c899f6d932433b9c11c6bca28781c7",
            "fe736e212cde4827b1380dc962d78588",
            "519b25274cde4f26866a14a284a3e3c6",
            "6afc75689bfb49bab3935c617769a4c2"
          ]
        },
        "id": "yCbtZldYQGr2",
        "outputId": "093ab88b-e141-4664-f3aa-97b0e115d625"
      },
      "execution_count": null,
      "outputs": [
        {
          "output_type": "display_data",
          "data": {
            "text/plain": [
              "interactive(children=(IntSlider(value=3, description='x', max=9, min=-3), Output()), _dom_classes=('widget-int…"
            ],
            "application/vnd.jupyter.widget-view+json": {
              "version_major": 2,
              "version_minor": 0,
              "model_id": "54fd4531ec90487aa1d5729ded7f6690"
            }
          },
          "metadata": {}
        },
        {
          "output_type": "execute_result",
          "data": {
            "text/plain": [
              "<function __main__.f(x)>"
            ],
            "text/html": [
              "<div style=\"max-width:800px; border: 1px solid var(--colab-border-color);\"><style>\n",
              "      pre.function-repr-contents {\n",
              "        overflow-x: auto;\n",
              "        padding: 8px 12px;\n",
              "        max-height: 500px;\n",
              "      }\n",
              "\n",
              "      pre.function-repr-contents.function-repr-contents-collapsed {\n",
              "        cursor: pointer;\n",
              "        max-height: 100px;\n",
              "      }\n",
              "    </style>\n",
              "    <pre style=\"white-space: initial; background:\n",
              "         var(--colab-secondary-surface-color); padding: 8px 12px;\n",
              "         border-bottom: 1px solid var(--colab-border-color);\"><b>f</b><br/>def f(x)</pre><pre class=\"function-repr-contents function-repr-contents-collapsed\" style=\"\"><a class=\"filepath\" style=\"display:none\" href=\"#\">/content/&lt;ipython-input-62-a50a80b1acc6&gt;</a>&lt;no docstring&gt;</pre></div>"
            ]
          },
          "metadata": {},
          "execution_count": 65
        }
      ]
    },
    {
      "cell_type": "code",
      "source": [
        "interact(f, x=3.) # 3. : 代表為浮點數"
      ],
      "metadata": {
        "colab": {
          "base_uri": "https://localhost:8080/",
          "referenced_widgets": [
            "8ecb757761024f93a801247f0bbdaeb1",
            "78aa2aef79bf43a8babd946f548bc945",
            "eafd842ae1814feda60fcfec4fb8d502",
            "12661da0b6384f18ac348d4ec4abc923",
            "78154a6e3ef04a9aa4e68b111ba41430",
            "b809dce374124dd1b90063092a00e2cf",
            "e396c2a3095f4cae8f7d98f771e4d938"
          ]
        },
        "id": "cYCuQJpgQSbx",
        "outputId": "0a4158d1-6003-417a-a436-bcf71ee71a76"
      },
      "execution_count": null,
      "outputs": [
        {
          "output_type": "display_data",
          "data": {
            "text/plain": [
              "interactive(children=(FloatSlider(value=3.0, description='x', max=9.0, min=-3.0), Output()), _dom_classes=('wi…"
            ],
            "application/vnd.jupyter.widget-view+json": {
              "version_major": 2,
              "version_minor": 0,
              "model_id": "8ecb757761024f93a801247f0bbdaeb1"
            }
          },
          "metadata": {}
        },
        {
          "output_type": "execute_result",
          "data": {
            "text/plain": [
              "<function __main__.f(x)>"
            ],
            "text/html": [
              "<div style=\"max-width:800px; border: 1px solid var(--colab-border-color);\"><style>\n",
              "      pre.function-repr-contents {\n",
              "        overflow-x: auto;\n",
              "        padding: 8px 12px;\n",
              "        max-height: 500px;\n",
              "      }\n",
              "\n",
              "      pre.function-repr-contents.function-repr-contents-collapsed {\n",
              "        cursor: pointer;\n",
              "        max-height: 100px;\n",
              "      }\n",
              "    </style>\n",
              "    <pre style=\"white-space: initial; background:\n",
              "         var(--colab-secondary-surface-color); padding: 8px 12px;\n",
              "         border-bottom: 1px solid var(--colab-border-color);\"><b>f</b><br/>def f(x)</pre><pre class=\"function-repr-contents function-repr-contents-collapsed\" style=\"\"><a class=\"filepath\" style=\"display:none\" href=\"#\">/content/&lt;ipython-input-62-a50a80b1acc6&gt;</a>&lt;no docstring&gt;</pre></div>"
            ]
          },
          "metadata": {},
          "execution_count": 66
        }
      ]
    },
    {
      "cell_type": "code",
      "source": [
        "interact(f, x=(1., 10.))"
      ],
      "metadata": {
        "colab": {
          "base_uri": "https://localhost:8080/",
          "referenced_widgets": [
            "a3e1d5a015164a7cb4affd93f1165245",
            "326a84e879444fa58fa764df318ea9b0",
            "5a5d70b40d714c26bf105c6969fd643c",
            "400e6137350a4700a8c503cad9297bcc",
            "efdc8d5be26648498fc68e754ab44813",
            "c7eb68ec46c54721b863de2c139953f5",
            "31e49a0786ad4c5c89ccbe7e72c9c48a"
          ]
        },
        "id": "ntR-wlnBQtLR",
        "outputId": "da9281e3-5b02-4881-cf4a-1317cc9369f3"
      },
      "execution_count": null,
      "outputs": [
        {
          "output_type": "display_data",
          "data": {
            "text/plain": [
              "interactive(children=(FloatSlider(value=5.5, description='x', max=10.0, min=1.0), Output()), _dom_classes=('wi…"
            ],
            "application/vnd.jupyter.widget-view+json": {
              "version_major": 2,
              "version_minor": 0,
              "model_id": "a3e1d5a015164a7cb4affd93f1165245"
            }
          },
          "metadata": {}
        },
        {
          "output_type": "execute_result",
          "data": {
            "text/plain": [
              "<function __main__.f(x)>"
            ],
            "text/html": [
              "<div style=\"max-width:800px; border: 1px solid var(--colab-border-color);\"><style>\n",
              "      pre.function-repr-contents {\n",
              "        overflow-x: auto;\n",
              "        padding: 8px 12px;\n",
              "        max-height: 500px;\n",
              "      }\n",
              "\n",
              "      pre.function-repr-contents.function-repr-contents-collapsed {\n",
              "        cursor: pointer;\n",
              "        max-height: 100px;\n",
              "      }\n",
              "    </style>\n",
              "    <pre style=\"white-space: initial; background:\n",
              "         var(--colab-secondary-surface-color); padding: 8px 12px;\n",
              "         border-bottom: 1px solid var(--colab-border-color);\"><b>f</b><br/>def f(x)</pre><pre class=\"function-repr-contents function-repr-contents-collapsed\" style=\"\"><a class=\"filepath\" style=\"display:none\" href=\"#\">/content/&lt;ipython-input-62-a50a80b1acc6&gt;</a>&lt;no docstring&gt;</pre></div>"
            ]
          },
          "metadata": {},
          "execution_count": 67
        }
      ]
    },
    {
      "cell_type": "code",
      "source": [
        "interact(f, x='hi')"
      ],
      "metadata": {
        "colab": {
          "base_uri": "https://localhost:8080/",
          "referenced_widgets": [
            "ee69912568d440fc9f76fe7a4d586edc",
            "4c38e2128afe46f0b56540f44646b4a1",
            "872fcfa000ab4849b1943b7b5b0e95d1",
            "7d5d2a750bf14ae48d29b2ec70c6972c",
            "7ae04168f14146dda18eeb729ca08b7d",
            "235dee42e21a4fc597c9b4586f023235",
            "758c879b31b8466ab0260a5694777d17"
          ]
        },
        "id": "JydH0yraQ5P1",
        "outputId": "bbbfc06e-ad67-445b-c61b-e302fbdbbf5b"
      },
      "execution_count": null,
      "outputs": [
        {
          "output_type": "display_data",
          "data": {
            "text/plain": [
              "interactive(children=(Text(value='hi', description='x'), Output()), _dom_classes=('widget-interact',))"
            ],
            "application/vnd.jupyter.widget-view+json": {
              "version_major": 2,
              "version_minor": 0,
              "model_id": "ee69912568d440fc9f76fe7a4d586edc"
            }
          },
          "metadata": {}
        },
        {
          "output_type": "execute_result",
          "data": {
            "text/plain": [
              "<function __main__.f(x)>"
            ],
            "text/html": [
              "<div style=\"max-width:800px; border: 1px solid var(--colab-border-color);\"><style>\n",
              "      pre.function-repr-contents {\n",
              "        overflow-x: auto;\n",
              "        padding: 8px 12px;\n",
              "        max-height: 500px;\n",
              "      }\n",
              "\n",
              "      pre.function-repr-contents.function-repr-contents-collapsed {\n",
              "        cursor: pointer;\n",
              "        max-height: 100px;\n",
              "      }\n",
              "    </style>\n",
              "    <pre style=\"white-space: initial; background:\n",
              "         var(--colab-secondary-surface-color); padding: 8px 12px;\n",
              "         border-bottom: 1px solid var(--colab-border-color);\"><b>f</b><br/>def f(x)</pre><pre class=\"function-repr-contents function-repr-contents-collapsed\" style=\"\"><a class=\"filepath\" style=\"display:none\" href=\"#\">/content/&lt;ipython-input-62-a50a80b1acc6&gt;</a>&lt;no docstring&gt;</pre></div>"
            ]
          },
          "metadata": {},
          "execution_count": 68
        }
      ]
    },
    {
      "cell_type": "markdown",
      "source": [
        "## 4-4 超炫的互動功能之二\n",
        "UML : https://moocs.nccu.edu.tw/mod/page/view.php?id=2490&forceview=1"
      ],
      "metadata": {
        "id": "SnPhZ5koRErG"
      }
    },
    {
      "cell_type": "code",
      "source": [
        "from ipywidgets import interact"
      ],
      "metadata": {
        "id": "f_agjw89RA0a"
      },
      "execution_count": null,
      "outputs": []
    },
    {
      "cell_type": "code",
      "source": [
        "def f(x):\n",
        "  print(x)"
      ],
      "metadata": {
        "id": "SWAHRc4KRTar"
      },
      "execution_count": null,
      "outputs": []
    },
    {
      "cell_type": "code",
      "source": [
        "# 在interact中做list，可以產生下拉式選單\n",
        "interact(f, x=[\"台北\", \"台中\", \"台南\", \"高雄\"])"
      ],
      "metadata": {
        "colab": {
          "base_uri": "https://localhost:8080/",
          "referenced_widgets": [
            "bd0adbea72ad40a584e0eb0a0a02ea91",
            "8f0a2a2292c04f82957c3b055ea43d8c",
            "4595dbb6f8f34af593f113299498fd9c",
            "16283478dcd04128b5f56d3660433e8b",
            "58d3021468ba44f2b7dbb0001615d96e",
            "b3145acb0626466baffc7f3061923124",
            "57e64c5a38e0403f915150bb34a82002"
          ]
        },
        "id": "s9nmFqJ3RWCT",
        "outputId": "32466fbc-c462-4f01-f5cf-88a02378527d"
      },
      "execution_count": null,
      "outputs": [
        {
          "output_type": "display_data",
          "data": {
            "text/plain": [
              "interactive(children=(Dropdown(description='x', options=('台北', '台中', '台南', '高雄'), value='台北'), Output()), _dom…"
            ],
            "application/vnd.jupyter.widget-view+json": {
              "version_major": 2,
              "version_minor": 0,
              "model_id": "bd0adbea72ad40a584e0eb0a0a02ea91"
            }
          },
          "metadata": {}
        },
        {
          "output_type": "execute_result",
          "data": {
            "text/plain": [
              "<function __main__.f(x)>"
            ],
            "text/html": [
              "<div style=\"max-width:800px; border: 1px solid var(--colab-border-color);\"><style>\n",
              "      pre.function-repr-contents {\n",
              "        overflow-x: auto;\n",
              "        padding: 8px 12px;\n",
              "        max-height: 500px;\n",
              "      }\n",
              "\n",
              "      pre.function-repr-contents.function-repr-contents-collapsed {\n",
              "        cursor: pointer;\n",
              "        max-height: 100px;\n",
              "      }\n",
              "    </style>\n",
              "    <pre style=\"white-space: initial; background:\n",
              "         var(--colab-secondary-surface-color); padding: 8px 12px;\n",
              "         border-bottom: 1px solid var(--colab-border-color);\"><b>f</b><br/>def f(x)</pre><pre class=\"function-repr-contents function-repr-contents-collapsed\" style=\"\"><a class=\"filepath\" style=\"display:none\" href=\"#\">/content/&lt;ipython-input-70-a50a80b1acc6&gt;</a>&lt;no docstring&gt;</pre></div>"
            ]
          },
          "metadata": {},
          "execution_count": 71
        }
      ]
    },
    {
      "cell_type": "code",
      "source": [
        "# 在interact中做dictionary，可以產生下拉式選單\n",
        "interact(f, x={\"台北\":1, \"台中\":2, \"台南\":3, \"高雄\":4})"
      ],
      "metadata": {
        "colab": {
          "base_uri": "https://localhost:8080/",
          "referenced_widgets": [
            "9a42c57c26b646c29e5bd7f15658f758",
            "39c1adc040944259b3048bfcfa521832",
            "614f28ef6ec14528a29815404719df38",
            "aee0198e860b42b689f4e73d9dfceeed",
            "c50fecae5e8746069f2899e0910f24b8",
            "dcb5508b59f64ba0b474b8ef2929abc3",
            "cfaebf275a144fe6b43e70c712606e03"
          ]
        },
        "id": "hFM2RGtwReU_",
        "outputId": "6a66e74c-c302-479f-82eb-38d471b4af78"
      },
      "execution_count": null,
      "outputs": [
        {
          "output_type": "display_data",
          "data": {
            "text/plain": [
              "interactive(children=(Dropdown(description='x', options={'台北': 1, '台中': 2, '台南': 3, '高雄': 4}, value=1), Output…"
            ],
            "application/vnd.jupyter.widget-view+json": {
              "version_major": 2,
              "version_minor": 0,
              "model_id": "9a42c57c26b646c29e5bd7f15658f758"
            }
          },
          "metadata": {}
        },
        {
          "output_type": "execute_result",
          "data": {
            "text/plain": [
              "<function __main__.f(x)>"
            ],
            "text/html": [
              "<div style=\"max-width:800px; border: 1px solid var(--colab-border-color);\"><style>\n",
              "      pre.function-repr-contents {\n",
              "        overflow-x: auto;\n",
              "        padding: 8px 12px;\n",
              "        max-height: 500px;\n",
              "      }\n",
              "\n",
              "      pre.function-repr-contents.function-repr-contents-collapsed {\n",
              "        cursor: pointer;\n",
              "        max-height: 100px;\n",
              "      }\n",
              "    </style>\n",
              "    <pre style=\"white-space: initial; background:\n",
              "         var(--colab-secondary-surface-color); padding: 8px 12px;\n",
              "         border-bottom: 1px solid var(--colab-border-color);\"><b>f</b><br/>def f(x)</pre><pre class=\"function-repr-contents function-repr-contents-collapsed\" style=\"\"><a class=\"filepath\" style=\"display:none\" href=\"#\">/content/&lt;ipython-input-70-a50a80b1acc6&gt;</a>&lt;no docstring&gt;</pre></div>"
            ]
          },
          "metadata": {},
          "execution_count": 72
        }
      ]
    },
    {
      "cell_type": "markdown",
      "source": [
        "## 4-5 互動應用範例\n",
        "UML : https://moocs.nccu.edu.tw/mod/page/view.php?id=2491&forceview=1"
      ],
      "metadata": {
        "id": "MkHM1PMER6s7"
      }
    },
    {
      "cell_type": "code",
      "source": [
        "from ipywidgets import interact"
      ],
      "metadata": {
        "id": "_t_nyZCJR0tH"
      },
      "execution_count": null,
      "outputs": []
    },
    {
      "cell_type": "code",
      "source": [
        "def move(n):\n",
        "  print(\" \"*n + \"oooo\")"
      ],
      "metadata": {
        "id": "R4Qv-wNLSMDs"
      },
      "execution_count": null,
      "outputs": []
    },
    {
      "cell_type": "code",
      "source": [
        "move(10)"
      ],
      "metadata": {
        "colab": {
          "base_uri": "https://localhost:8080/"
        },
        "id": "GwnKbCV6SRJg",
        "outputId": "b780902b-22f9-43ec-b91a-a316d78897f2"
      },
      "execution_count": null,
      "outputs": [
        {
          "output_type": "stream",
          "name": "stdout",
          "text": [
            "          oooo\n"
          ]
        }
      ]
    },
    {
      "cell_type": "code",
      "source": [
        "move(50)"
      ],
      "metadata": {
        "colab": {
          "base_uri": "https://localhost:8080/"
        },
        "id": "ggxx3XNOSSP3",
        "outputId": "927cdb3e-e18a-48da-9281-a86646bd1f08"
      },
      "execution_count": null,
      "outputs": [
        {
          "output_type": "stream",
          "name": "stdout",
          "text": [
            "                                                  oooo\n"
          ]
        }
      ]
    },
    {
      "cell_type": "code",
      "source": [
        "#讓蟲蟲爬行\n",
        "interact(move, n=(1, 50))"
      ],
      "metadata": {
        "colab": {
          "base_uri": "https://localhost:8080/",
          "referenced_widgets": [
            "6cf044f45e084b7d9de10f2a493d62a9",
            "74fbc18ae6144c4d8266f54bfd9e5ad6",
            "e18e1898248a4160a44089499384895a",
            "f32fe362b2964d429cdb94e23ec7989f",
            "0e664fecc1834e5091bc9492ffe1fe50",
            "73bfae58a0a746c0894acd5f905df665",
            "96008cb2efba4837b985fa53bf476b02"
          ]
        },
        "id": "_wt4jqU4SpQk",
        "outputId": "a49be662-82df-488f-b100-2eaeb53d5ce0"
      },
      "execution_count": null,
      "outputs": [
        {
          "output_type": "display_data",
          "data": {
            "text/plain": [
              "interactive(children=(IntSlider(value=25, description='n', max=50, min=1), Output()), _dom_classes=('widget-in…"
            ],
            "application/vnd.jupyter.widget-view+json": {
              "version_major": 2,
              "version_minor": 0,
              "model_id": "6cf044f45e084b7d9de10f2a493d62a9"
            }
          },
          "metadata": {}
        },
        {
          "output_type": "execute_result",
          "data": {
            "text/plain": [
              "<function __main__.move(n)>"
            ],
            "text/html": [
              "<div style=\"max-width:800px; border: 1px solid var(--colab-border-color);\"><style>\n",
              "      pre.function-repr-contents {\n",
              "        overflow-x: auto;\n",
              "        padding: 8px 12px;\n",
              "        max-height: 500px;\n",
              "      }\n",
              "\n",
              "      pre.function-repr-contents.function-repr-contents-collapsed {\n",
              "        cursor: pointer;\n",
              "        max-height: 100px;\n",
              "      }\n",
              "    </style>\n",
              "    <pre style=\"white-space: initial; background:\n",
              "         var(--colab-secondary-surface-color); padding: 8px 12px;\n",
              "         border-bottom: 1px solid var(--colab-border-color);\"><b>move</b><br/>def move(n)</pre><pre class=\"function-repr-contents function-repr-contents-collapsed\" style=\"\"><a class=\"filepath\" style=\"display:none\" href=\"#\">/content/&lt;ipython-input-74-0bf4041c4bea&gt;</a>&lt;no docstring&gt;</pre></div>"
            ]
          },
          "metadata": {},
          "execution_count": 77
        }
      ]
    },
    {
      "cell_type": "markdown",
      "source": [
        "## 4-6 圖形的互動之一\n",
        "UML : https://moocs.nccu.edu.tw/mod/page/view.php?id=2492&forceview=1"
      ],
      "metadata": {
        "id": "haS44_tPTDtx"
      }
    },
    {
      "cell_type": "code",
      "source": [
        "from ipywidgets import interact"
      ],
      "metadata": {
        "id": "ZVS2-xH_S3Ga"
      },
      "execution_count": null,
      "outputs": []
    },
    {
      "cell_type": "code",
      "source": [
        "# np.linspace(起始點, 終點, 點數)\n",
        "x = np.linspace(0, 2*np.pi, 1000)"
      ],
      "metadata": {
        "id": "JdKCPn_KTLCD"
      },
      "execution_count": null,
      "outputs": []
    },
    {
      "cell_type": "code",
      "source": [
        "def draw(n):\n",
        "  y = np.sin(n*x)\n",
        "  plt.plot(x, y, lw = 2)\n",
        "  plt.show()"
      ],
      "metadata": {
        "id": "9-3hWf_GTRBe"
      },
      "execution_count": null,
      "outputs": []
    },
    {
      "cell_type": "code",
      "source": [
        "draw(3)"
      ],
      "metadata": {
        "colab": {
          "base_uri": "https://localhost:8080/"
        },
        "id": "CU12rA43TcoL",
        "outputId": "6bcce1c7-efca-4a39-b972-9e1bdcf22f97"
      },
      "execution_count": null,
      "outputs": [
        {
          "output_type": "display_data",
          "data": {
            "text/plain": [
              "<Figure size 640x480 with 1 Axes>"
            ],
            "image/png": "[encoded data removed]"
          },
          "metadata": {}
        }
      ]
    },
    {
      "cell_type": "code",
      "source": [
        "# 可以'馬上'做圖表的互動式反應是因為定義函數的部分加上一行\"plt.show()\"\"\n",
        "interact(draw, n=(1., 50.))"
      ],
      "metadata": {
        "colab": {
          "base_uri": "https://localhost:8080/",
          "referenced_widgets": [
            "7747c29ce8e042be95249afd6df52b81",
            "1b36a4d32718466b9dfba9a47377b634",
            "cf7ccb278311498285a689e4efbb7726",
            "5a4bd0a1c0d94534b327be025b4e4272",
            "5f3c07467c294371944124cb1925ccc4",
            "3cd51cb4de914cfaa3ec73d10bdf328e",
            "649fa330478243ada0cd9c301170892c"
          ]
        },
        "id": "MVYkdzRfTfZ_",
        "outputId": "7070bff4-9658-4a62-c9a8-0fb3c91b8139"
      },
      "execution_count": null,
      "outputs": [
        {
          "output_type": "display_data",
          "data": {
            "text/plain": [
              "interactive(children=(FloatSlider(value=25.5, description='n', max=50.0, min=1.0), Output()), _dom_classes=('w…"
            ],
            "application/vnd.jupyter.widget-view+json": {
              "version_major": 2,
              "version_minor": 0,
              "model_id": "7747c29ce8e042be95249afd6df52b81"
            }
          },
          "metadata": {}
        },
        {
          "output_type": "execute_result",
          "data": {
            "text/plain": [
              "<function __main__.draw(n)>"
            ],
            "text/html": [
              "<div style=\"max-width:800px; border: 1px solid var(--colab-border-color);\"><style>\n",
              "      pre.function-repr-contents {\n",
              "        overflow-x: auto;\n",
              "        padding: 8px 12px;\n",
              "        max-height: 500px;\n",
              "      }\n",
              "\n",
              "      pre.function-repr-contents.function-repr-contents-collapsed {\n",
              "        cursor: pointer;\n",
              "        max-height: 100px;\n",
              "      }\n",
              "    </style>\n",
              "    <pre style=\"white-space: initial; background:\n",
              "         var(--colab-secondary-surface-color); padding: 8px 12px;\n",
              "         border-bottom: 1px solid var(--colab-border-color);\"><b>draw</b><br/>def draw(n)</pre><pre class=\"function-repr-contents function-repr-contents-collapsed\" style=\"\"><a class=\"filepath\" style=\"display:none\" href=\"#\">/content/&lt;ipython-input-80-a3af55b27be1&gt;</a>&lt;no docstring&gt;</pre></div>"
            ]
          },
          "metadata": {},
          "execution_count": 82
        }
      ]
    },
    {
      "cell_type": "markdown",
      "source": [
        "## 4-7 圖形的互動之over fitting\n",
        "UML : https://moocs.nccu.edu.tw/mod/page/view.php?id=2493&forceview=1"
      ],
      "metadata": {
        "id": "Xdp1R3fxUbN1"
      }
    },
    {
      "cell_type": "code",
      "source": [
        "from ipywidgets import interact_manual"
      ],
      "metadata": {
        "id": "ikgFbXN8T6Yj"
      },
      "execution_count": null,
      "outputs": []
    },
    {
      "cell_type": "code",
      "source": [
        "X = np.random.rand(6)\n",
        "Y = np.random.rand(6)"
      ],
      "metadata": {
        "id": "fDQVKJEhUhcd"
      },
      "execution_count": null,
      "outputs": []
    },
    {
      "cell_type": "code",
      "source": [
        "# scatter: 點點圖\n",
        "plt.scatter(X, Y)"
      ],
      "metadata": {
        "colab": {
          "base_uri": "https://localhost:8080/"
        },
        "id": "ZvMkcjkZUtzT",
        "outputId": "89b7e8c6-c138-4278-d325-a09a7fe585e3"
      },
      "execution_count": null,
      "outputs": [
        {
          "output_type": "execute_result",
          "data": {
            "text/plain": [
              "<matplotlib.collections.PathCollection at 0x7fd7717dfeb0>"
            ]
          },
          "metadata": {},
          "execution_count": 85
        },
        {
          "output_type": "display_data",
          "data": {
            "text/plain": [
              "<Figure size 640x480 with 1 Axes>"
            ],
            "image/png": "[encoded data removed]"
          },
          "metadata": {}
        }
      ]
    },
    {
      "cell_type": "code",
      "source": [
        "plt.scatter(X, Y, s = 100, c = 'r') # s : 放大縮小點點比例"
      ],
      "metadata": {
        "colab": {
          "base_uri": "https://localhost:8080/"
        },
        "id": "qac1SP1rU4JE",
        "outputId": "8a4a5f99-22cc-4fc3-b230-52dbd7af8f02"
      },
      "execution_count": null,
      "outputs": [
        {
          "output_type": "execute_result",
          "data": {
            "text/plain": [
              "<matplotlib.collections.PathCollection at 0x7fd7702c8310>"
            ]
          },
          "metadata": {},
          "execution_count": 86
        },
        {
          "output_type": "display_data",
          "data": {
            "text/plain": [
              "<Figure size 640x480 with 1 Axes>"
            ],
            "image/png": "[encoded data removed]"
          },
          "metadata": {}
        }
      ]
    },
    {
      "cell_type": "code",
      "source": [
        "x = np.linspace(0, 1, 1000)"
      ],
      "metadata": {
        "id": "Om4uzPioVBoR"
      },
      "execution_count": null,
      "outputs": []
    },
    {
      "cell_type": "code",
      "source": [
        "def draw(n):\n",
        "  plt.scatter(X, Y, s = 100, c = 'r')\n",
        "  y = np.sin(n * x * 2 * np.pi) + 0.5\n",
        "  plt.plot(x, y)\n",
        "  plt.show()"
      ],
      "metadata": {
        "id": "vs3oryEoVWkh"
      },
      "execution_count": null,
      "outputs": []
    },
    {
      "cell_type": "code",
      "source": [
        "# 等拉好滑桿後，再按run interact。此為interact_manual概念。\n",
        "interact_manual(draw, n=(1., 200.))"
      ],
      "metadata": {
        "colab": {
          "base_uri": "https://localhost:8080/",
          "referenced_widgets": [
            "cfd5371a2eb64174ba8aa557c03d133b",
            "9c8d0d1c7ce8435eacbacf24439ea4ef",
            "6316f316baaa4f7484bacc9eebda8834",
            "79bfbf8ffb3145f98d8c31c314100810",
            "c7e19c4328464e6891aaa98342ccbf4b",
            "b6fee124f2b64c37979785f331589431",
            "f5734ce6931449f1bc1f0b59ef6358f6",
            "d627b3dd7ab949189cc79b82fc193d8c",
            "0421349178a14087a8150d3c0b127b29",
            "a99ea5b0b68f462fb11044cf21a8f361"
          ]
        },
        "id": "RiBwUdRdVz5b",
        "outputId": "5030c671-3df0-4c20-ff83-5a4b9265bf78"
      },
      "execution_count": null,
      "outputs": [
        {
          "output_type": "display_data",
          "data": {
            "text/plain": [
              "interactive(children=(FloatSlider(value=100.5, description='n', max=200.0, min=1.0), Button(description='Run I…"
            ],
            "application/vnd.jupyter.widget-view+json": {
              "version_major": 2,
              "version_minor": 0,
              "model_id": "cfd5371a2eb64174ba8aa557c03d133b"
            }
          },
          "metadata": {}
        },
        {
          "output_type": "execute_result",
          "data": {
            "text/plain": [
              "<function __main__.draw(n)>"
            ],
            "text/html": [
              "<div style=\"max-width:800px; border: 1px solid var(--colab-border-color);\"><style>\n",
              "      pre.function-repr-contents {\n",
              "        overflow-x: auto;\n",
              "        padding: 8px 12px;\n",
              "        max-height: 500px;\n",
              "      }\n",
              "\n",
              "      pre.function-repr-contents.function-repr-contents-collapsed {\n",
              "        cursor: pointer;\n",
              "        max-height: 100px;\n",
              "      }\n",
              "    </style>\n",
              "    <pre style=\"white-space: initial; background:\n",
              "         var(--colab-secondary-surface-color); padding: 8px 12px;\n",
              "         border-bottom: 1px solid var(--colab-border-color);\"><b>draw</b><br/>def draw(n)</pre><pre class=\"function-repr-contents function-repr-contents-collapsed\" style=\"\"><a class=\"filepath\" style=\"display:none\" href=\"#\">/content/&lt;ipython-input-88-82521675f590&gt;</a>&lt;no docstring&gt;</pre></div>"
            ]
          },
          "metadata": {},
          "execution_count": 89
        }
      ]
    },
    {
      "cell_type": "markdown",
      "source": [
        "## 4-8 互動範例-BMI計算器\n",
        "UML : https://moocs.nccu.edu.tw/mod/page/view.php?id=2494&forceview=1"
      ],
      "metadata": {
        "id": "WEyWUaAHWNSD"
      }
    },
    {
      "cell_type": "code",
      "source": [
        "from ipywidgets import interact_manual"
      ],
      "metadata": {
        "id": "8i1pM9baV4Xv"
      },
      "execution_count": null,
      "outputs": []
    },
    {
      "cell_type": "code",
      "source": [
        "def BMIcal(身高, 體重):\n",
        "  身高 = float(身高)/100 # 將文字轉成浮點數\n",
        "  體重 = float(體重) # 將文字轉成浮點數\n",
        "  bmi = 體重 / (身高 ** 2)\n",
        "  print(\"你的 BMI = {:.2f}\".format(bmi))"
      ],
      "metadata": {
        "id": "f8oaZQY0WUqJ"
      },
      "execution_count": null,
      "outputs": []
    },
    {
      "cell_type": "code",
      "source": [
        "interact_manual(BMIcal, 身高=\"請輸入你的身高\", 體重=\"請輸入你的體重\")"
      ],
      "metadata": {
        "colab": {
          "base_uri": "https://localhost:8080/",
          "referenced_widgets": [
            "03b2b6a3e1ad431f8af5489b634644ac",
            "c319b739cb084917ab24ee9cc7220eb3",
            "cfff8eaa55b84a019fedd5b157c945c6",
            "df897a8e2fb940acb2998b5e0ec165ab",
            "5fb2e32e07f64bdaa772cdbf54c1f4fc",
            "015a9d1a7d20410b893b66a4494a8c0b",
            "b8acf513415f4bf28ce27157b5a5679a",
            "260029d010f94b10bcd4279dbf2d463e",
            "6662ae9e2a3144fa98d5b053cc6eedc2",
            "9551f499d3364e7082e05fbaa92d1360",
            "2fdd67e85782492699edf213a63ef889",
            "e61702836a8c4e59a18f3bc2ab30e6d4",
            "1a17af427a1543429344c354078ff09f"
          ]
        },
        "id": "E5cW541qXAh7",
        "outputId": "878e7c37-6b9f-4baf-e641-5f0e66723377"
      },
      "execution_count": null,
      "outputs": [
        {
          "output_type": "display_data",
          "data": {
            "text/plain": [
              "interactive(children=(Text(value='請輸入你的身高', description='身高'), Text(value='請輸入你的體重', description='體重'), Button…"
            ],
            "application/vnd.jupyter.widget-view+json": {
              "version_major": 2,
              "version_minor": 0,
              "model_id": "03b2b6a3e1ad431f8af5489b634644ac"
            }
          },
          "metadata": {}
        },
        {
          "output_type": "execute_result",
          "data": {
            "text/plain": [
              "<function __main__.BMIcal(身高, 體重)>"
            ],
            "text/html": [
              "<div style=\"max-width:800px; border: 1px solid var(--colab-border-color);\"><style>\n",
              "      pre.function-repr-contents {\n",
              "        overflow-x: auto;\n",
              "        padding: 8px 12px;\n",
              "        max-height: 500px;\n",
              "      }\n",
              "\n",
              "      pre.function-repr-contents.function-repr-contents-collapsed {\n",
              "        cursor: pointer;\n",
              "        max-height: 100px;\n",
              "      }\n",
              "    </style>\n",
              "    <pre style=\"white-space: initial; background:\n",
              "         var(--colab-secondary-surface-color); padding: 8px 12px;\n",
              "         border-bottom: 1px solid var(--colab-border-color);\"><b>BMIcal</b><br/>def BMIcal(身高, 體重)</pre><pre class=\"function-repr-contents function-repr-contents-collapsed\" style=\"\"><a class=\"filepath\" style=\"display:none\" href=\"#\">/content/&lt;ipython-input-91-4ea30227ad0b&gt;</a>&lt;no docstring&gt;</pre></div>"
            ]
          },
          "metadata": {},
          "execution_count": 92
        }
      ]
    },
    {
      "cell_type": "markdown",
      "source": [
        "# 作業_第四週"
      ],
      "metadata": {
        "id": "gaVSgMNLYIi2"
      }
    },
    {
      "cell_type": "markdown",
      "source": [
        "## 第一題\n",
        "寫一個互動式的存款計算器：讓使用者輸入初始存款金額和每月存款金額，然後使用 ipywidgets 計算<mark>一年後(12個月)</mark>的存款金額。"
      ],
      "metadata": {
        "id": "ykXf_SXKYZFT"
      }
    },
    {
      "cell_type": "code",
      "source": [
        "from ipywidgets import interact\n",
        "\n",
        "def deposit_calculator(initial_deposit, monthly_deposit):\n",
        "    final_deposit = initial_deposit + 12 * monthly_deposit\n",
        "    return final_deposit\n",
        "\n",
        "interact(deposit_calculator, initial_deposit = 100000, monthly_deposit = (0., 10000))"
      ],
      "metadata": {
        "colab": {
          "base_uri": "https://localhost:8080/",
          "height": 185,
          "referenced_widgets": [
            "b5c83e15d50d4a1f81a38734af01b443",
            "aa7ad6a152fe4802ab33388fd644ab0a",
            "d5895dc2ccc943a6b5104e91e799e5fd",
            "d3bf0817229f4fcf8b13e3449ca832dd",
            "8f556b30faac43f69453dd61b52623c8",
            "4741307030f14bf8954dfeab6b43173b",
            "d1258200579b4a1c92cac9030c9bd1ec",
            "8b3aba6505e54817b07d21c71bd59361",
            "629aaff214c74c66a89a9510aadc7e23",
            "3fcfc770e144430ca4e0ea8f7d5ac1d4"
          ]
        },
        "id": "Hp7cClU3YrGS",
        "outputId": "9099c860-26b7-4711-f430-9c109b37195b"
      },
      "execution_count": null,
      "outputs": [
        {
          "output_type": "display_data",
          "data": {
            "text/plain": [
              "interactive(children=(IntSlider(value=100000, description='initial_deposit', max=300000, min=-100000), FloatSl…"
            ],
            "application/vnd.jupyter.widget-view+json": {
              "version_major": 2,
              "version_minor": 0,
              "model_id": "b5c83e15d50d4a1f81a38734af01b443"
            }
          },
          "metadata": {}
        },
        {
          "output_type": "execute_result",
          "data": {
            "text/plain": [
              "<function __main__.deposit_calculator(initial_deposit, monthly_deposit)>"
            ],
            "text/html": [
              "<div style=\"max-width:800px; border: 1px solid var(--colab-border-color);\"><style>\n",
              "      pre.function-repr-contents {\n",
              "        overflow-x: auto;\n",
              "        padding: 8px 12px;\n",
              "        max-height: 500px;\n",
              "      }\n",
              "\n",
              "      pre.function-repr-contents.function-repr-contents-collapsed {\n",
              "        cursor: pointer;\n",
              "        max-height: 100px;\n",
              "      }\n",
              "    </style>\n",
              "    <pre style=\"white-space: initial; background:\n",
              "         var(--colab-secondary-surface-color); padding: 8px 12px;\n",
              "         border-bottom: 1px solid var(--colab-border-color);\"><b>deposit_calculator</b><br/>def deposit_calculator(initial_deposit, monthly_deposit)</pre><pre class=\"function-repr-contents function-repr-contents-collapsed\" style=\"\"><a class=\"filepath\" style=\"display:none\" href=\"#\">/content/&lt;ipython-input-93-b3ad0147251e&gt;</a>&lt;no docstring&gt;</pre></div>"
            ]
          },
          "metadata": {},
          "execution_count": 93
        }
      ]
    },
    {
      "cell_type": "markdown",
      "source": [
        "### 第一題_延伸\n",
        "將滑桿做改進。"
      ],
      "metadata": {
        "id": "qmECsVfHctSJ"
      }
    },
    {
      "cell_type": "code",
      "source": [
        "import ipywidgets as widgets\n",
        "\n",
        "def deposit_calculator(initial_deposit, monthly_deposit):\n",
        "    final_deposit = initial_deposit + 12 * monthly_deposit\n",
        "    return final_deposit\n",
        "\n",
        "# widgets.FloatText 是 ipywidgets 模組中的一種小部件，用於在互動式介面中創建一個用戶可以輸入浮點數值的文本框。這個小部件允許用戶直接輸入數值，而不是使用滑塊或下拉菜單。\n",
        "# widgets.FloatText(value, description)\n",
        "initial_deposit_widget = widgets.FloatText(value=1000, description='Initial Deposit:')\n",
        "monthly_deposit_widget = widgets.FloatText(value=100, description='Monthly Deposit:')\n",
        "result_widget = widgets.Output()\n",
        "\n",
        "# 建立calculate按鈕的運作功能\n",
        "def calculate_button_clicked(b):\n",
        "    result_widget.clear_output()\n",
        "    with result_widget:\n",
        "        final_deposit = deposit_calculator(initial_deposit_widget.value, monthly_deposit_widget.value)\n",
        "        print(\"Final deposit after one year:\", final_deposit)\n",
        "\n",
        "calculate_button = widgets.Button(description=\"Calculate\")\n",
        "calculate_button.on_click(calculate_button_clicked)\n",
        "\n",
        "widgets.VBox([initial_deposit_widget, monthly_deposit_widget, calculate_button, result_widget])\n"
      ],
      "metadata": {
        "colab": {
          "base_uri": "https://localhost:8080/",
          "height": 130,
          "referenced_widgets": [
            "ec8643888a8b4095b0a80867dc31bbf3",
            "097ec3d5a958468caf2ae72be274126a",
            "5e8c85c31592446dba02368f13b1f2e4",
            "104a058aabec46629cfd3796f6d495a2",
            "e5fb2f83205743dcb5c103a2455628c0",
            "cd05665885c14ce399c1f4444ef2d97a",
            "5eacb21d4b584320b4033cdf8c52af46",
            "b5783e017c524b5a90b6b2cdc398478b",
            "1e618310af30447d9341881043c03b9f",
            "2a383105662544fabfb6f1e921c41e88",
            "62604b4553664c29ad6666d414fab0ee",
            "d0cecb980ddc48cdb0b3017464b85624",
            "f862ddc6e89a449ba50645b3c00c72df"
          ]
        },
        "id": "cX80a6UwAEWh",
        "outputId": "acad8f36-effd-4fbe-c5b7-c39faa584aca"
      },
      "execution_count": null,
      "outputs": [
        {
          "output_type": "display_data",
          "data": {
            "text/plain": [
              "VBox(children=(FloatText(value=1000.0, description='Initial Deposit:'), FloatText(value=100.0, description='Mo…"
            ],
            "application/vnd.jupyter.widget-view+json": {
              "version_major": 2,
              "version_minor": 0,
              "model_id": "ec8643888a8b4095b0a80867dc31bbf3"
            }
          },
          "metadata": {}
        }
      ]
    },
    {
      "cell_type": "markdown",
      "source": [
        "### 第一題_延伸\n",
        "互動式的存款計算器：讓使用者輸入初始存款金額和每月存款金額，然後使用 ipywidgets 計算<mark>n年後</mark>的存款金額。"
      ],
      "metadata": {
        "id": "zGhCG7avsSp2"
      }
    },
    {
      "cell_type": "code",
      "source": [
        "# fixed 函式的作用是將函式的某些參數固定為特定值，使得該參數在互動式介面中不可調整。\n",
        "from ipywidgets import interact, interactive, fixed, widgets\n",
        "\n",
        "def deposit_calculator(initial_deposit, monthly_deposit, n_years):\n",
        "    final_deposit = initial_deposit + n_years * 12 * monthly_deposit\n",
        "    return final_deposit\n",
        "\n",
        "# widgets.FloatSlider(value, min, max, step, description)\n",
        "# value: 滑塊的初始值。min: 滑塊可選擇的最小值。max: 滑塊可選擇的最大值。step: 滑塊上數值的增量。description: 滑塊旁邊的文字描述。\n",
        "interact(deposit_calculator,\n",
        "         initial_deposit = widgets.FloatSlider(value=100000, min=0, max=1000000, step=1000, description='Initial Deposit:'),\n",
        "         monthly_deposit = widgets.FloatSlider(value=1000, min=0, max=10000, step=100, description='Monthly Deposit:'),\n",
        "         n_years = widgets.IntSlider(value=1, min=1, max=30, step=1, description='Number of years:'))\n"
      ],
      "metadata": {
        "colab": {
          "base_uri": "https://localhost:8080/",
          "height": 217,
          "referenced_widgets": [
            "f62ca348c1054cc09efa3f590ccb9d63",
            "61aa366b4bef45b98f19c3c2c42297d8",
            "2c88cd473c8b4d839368db71b695b6b8",
            "19cb20a9cac240448e4d03d13b10a6f8",
            "9510d18443994b6bb14c799fc4f99192",
            "37163da5044b48cca067d96c6573975e",
            "88153645ff3a401c9eff021e5dfa1d7f",
            "06274818941240a1be9fa341b0112348",
            "fbea4a4d0c354b6ba02ce9a83b9d8d11",
            "4c1dd23d55344c498e71c06a8d4064a3",
            "6a0b544b23554b18adc681c8acec66cb",
            "cc466d2263904bed85873a99ed198223",
            "9c45a3375ccb43c299feb0affefbc650"
          ]
        },
        "id": "KPxwVxAstOce",
        "outputId": "76329b47-01fc-4d3d-ce88-d2913a41a3a3"
      },
      "execution_count": null,
      "outputs": [
        {
          "output_type": "display_data",
          "data": {
            "text/plain": [
              "interactive(children=(FloatSlider(value=100000.0, description='Initial Deposit:', max=1000000.0, step=1000.0),…"
            ],
            "application/vnd.jupyter.widget-view+json": {
              "version_major": 2,
              "version_minor": 0,
              "model_id": "f62ca348c1054cc09efa3f590ccb9d63"
            }
          },
          "metadata": {}
        },
        {
          "output_type": "execute_result",
          "data": {
            "text/plain": [
              "<function __main__.deposit_calculator(initial_deposit, monthly_deposit, n_years)>"
            ],
            "text/html": [
              "<div style=\"max-width:800px; border: 1px solid var(--colab-border-color);\"><style>\n",
              "      pre.function-repr-contents {\n",
              "        overflow-x: auto;\n",
              "        padding: 8px 12px;\n",
              "        max-height: 500px;\n",
              "      }\n",
              "\n",
              "      pre.function-repr-contents.function-repr-contents-collapsed {\n",
              "        cursor: pointer;\n",
              "        max-height: 100px;\n",
              "      }\n",
              "    </style>\n",
              "    <pre style=\"white-space: initial; background:\n",
              "         var(--colab-secondary-surface-color); padding: 8px 12px;\n",
              "         border-bottom: 1px solid var(--colab-border-color);\"><b>deposit_calculator</b><br/>def deposit_calculator(initial_deposit, monthly_deposit, n_years)</pre><pre class=\"function-repr-contents function-repr-contents-collapsed\" style=\"\"><a class=\"filepath\" style=\"display:none\" href=\"#\">/content/&lt;ipython-input-97-174d9036563f&gt;</a>&lt;no docstring&gt;</pre></div>"
            ]
          },
          "metadata": {},
          "execution_count": 97
        }
      ]
    },
    {
      "cell_type": "markdown",
      "source": [
        "## 第二題\n",
        "寫一個互動式的換算貨幣程式：讓使用者選擇貨幣類型和金額，然後使用 ipywidgets 將其轉換成另一種貨幣類型。"
      ],
      "metadata": {
        "id": "zDg_aql6YKt9"
      }
    },
    {
      "cell_type": "code",
      "source": [
        "import ipywidgets as widgets\n",
        "\n",
        "def currency_converter(amount, currency_type):\n",
        "    if currency_type == \"USD to TWD\":\n",
        "        converted_amount = amount * 32.09\n",
        "    elif currency_type == \"TWD to USD\":\n",
        "        converted_amount = amount / 32.09\n",
        "    return converted_amount\n",
        "\n",
        "amount_widget = widgets.FloatText(value=100, description='Amount:')\n",
        "currency_widget = widgets.Dropdown(options=[\"USD to TWD\", \"TWD to USD\"], description='Currency:')\n",
        "result_widget = widgets.Output()\n",
        "\n",
        "# 建立Convert按鈕的運作功能\n",
        "def calculate_button_clicked(b):\n",
        "    result_widget.clear_output()\n",
        "    with result_widget:\n",
        "        # amount_widget.value: 這裡假設 amount_widget 是一個小部件，通常是用於接收用戶輸入的金額的文本框或滑塊。.value 屬性用於獲取小部件的當前值。\n",
        "        # currency_widget.value: 這裡假設 currency_widget 是一個小部件，通常是一個下拉菜單，用於讓用戶選擇貨幣類型。.value 屬性用於獲取當前所選的貨幣類型。\n",
        "        converted_amount = currency_converter(amount_widget.value, currency_widget.value)\n",
        "        print(\"Converted amount:\", converted_amount)\n",
        "\n",
        "calculate_button = widgets.Button(description=\"Convert\")\n",
        "calculate_button.on_click(calculate_button_clicked)\n",
        "\n",
        "# widgets.VBox : 建立了一個垂直方向的容器\n",
        "widgets.VBox([amount_widget, currency_widget, calculate_button, result_widget])\n"
      ],
      "metadata": {
        "colab": {
          "base_uri": "https://localhost:8080/",
          "height": 130,
          "referenced_widgets": [
            "226b1790e4644777917621118026fea0",
            "715b463bde464f11904b2bf04817d4fe",
            "4503ffc84c4e403f986068f8d9dfaebb",
            "a2a1a89ab09049f7a60be750ba6fd8b9",
            "b2654f6350b340a8aef8ada68033fdb0",
            "13a38820fe25481faaaf9e38d5b8dadd",
            "e0d674c8586b471c9f39bac46cf5bd63",
            "58d8ed048ee447aa9ac284c40f9883aa",
            "a295e717d75c40218dd47d6ce196974d",
            "4aa512d44e89436694d7328682ccfd15",
            "6a2a7992e9b244158d33e1d38a50aa15",
            "ff20d5cd23cc451da6ab2772ed30e37b",
            "d0e733acdfcf418c8833df05a2b860c7"
          ]
        },
        "id": "Mvf3q12kYlBc",
        "outputId": "17f940da-8462-48e6-c93a-e41d98105e8d"
      },
      "execution_count": null,
      "outputs": [
        {
          "output_type": "display_data",
          "data": {
            "text/plain": [
              "VBox(children=(FloatText(value=100.0, description='Amount:'), Dropdown(description='Currency:', options=('USD …"
            ],
            "application/vnd.jupyter.widget-view+json": {
              "version_major": 2,
              "version_minor": 0,
              "model_id": "226b1790e4644777917621118026fea0"
            }
          },
          "metadata": {}
        }
      ]
    },
    {
      "cell_type": "markdown",
      "source": [
        "## 第三題\n",
        "寫一個互動式的投資回報計算器：讓使用者輸入投資金額、投資期數和預期回報率，然後使用 ipywidgets 計算投資回報。\n"
      ],
      "metadata": {
        "id": "DhSE04rnvigd"
      }
    },
    {
      "cell_type": "code",
      "source": [
        "import ipywidgets as widgets\n",
        "\n",
        "def investment_calculator(investment_amount, investment_period, expected_return_rate):\n",
        "    final_amount = investment_amount * (1 + expected_return_rate / 100) ** investment_period\n",
        "    return final_amount\n",
        "\n",
        "investment_amount_widget = widgets.FloatText(value=1000, description='Investment Amount:')\n",
        "investment_period_widget = widgets.IntText(value=1, description='Investment Period (years):')\n",
        "expected_return_rate_widget = widgets.FloatText(value=5, description='Expected Return Rate (%):')\n",
        "result_widget = widgets.Output()\n",
        "\n",
        "# 建立calculate按鈕的運作功能\n",
        "def calculate_button_clicked(b):\n",
        "    result_widget.clear_output()\n",
        "    with result_widget:\n",
        "        final_amount = investment_calculator(investment_amount_widget.value, investment_period_widget.value, expected_return_rate_widget.value)\n",
        "        print(\"Final investment amount:\", final_amount)\n",
        "\n",
        "calculate_button = widgets.Button(description=\"Calculate\")\n",
        "calculate_button.on_click(calculate_button_clicked)\n",
        "\n",
        "widgets.VBox([investment_amount_widget, investment_period_widget, expected_return_rate_widget, calculate_button, result_widget])\n"
      ],
      "metadata": {
        "colab": {
          "base_uri": "https://localhost:8080/",
          "height": 162,
          "referenced_widgets": [
            "576aec1e66ac42df887eead5a8e4cf82",
            "4f869d6b2b8745f780c9670ba3e0207e",
            "3e177bede26c42939f415b610deb7a87",
            "3388d7d20757440d9497f40f83481a1b",
            "e7183af965ea4ca4bd1a1c32a39a5773",
            "7025c2a7761d48bfb7aa4001688e3b6e",
            "dfc444cf05534e909f58409d0dbd76f6",
            "545f0fafd19046fd9e390a13d8094fa0",
            "a5ee7aadfc204f2a9cce74326455f076",
            "c932f291f56b42a8b4911f993c36a3be",
            "d0559c3e2aee45989de718420f087560",
            "0ea17e41a7fd49acb45d56b415353ff6",
            "4766b329a9df497190b3e303f7338ae8",
            "0d66bbd5632c4814be1016d7f19c7eda",
            "401714f1cd1540179fb1fb6282f26c72",
            "743b78bc852c49d486e44091cd1a3ff3"
          ]
        },
        "id": "Olnob4Y5vhii",
        "outputId": "844a9321-588d-40c0-b666-fd5027120a32"
      },
      "execution_count": null,
      "outputs": [
        {
          "output_type": "display_data",
          "data": {
            "text/plain": [
              "VBox(children=(FloatText(value=1000.0, description='Investment Amount:'), IntText(value=1, description='Invest…"
            ],
            "application/vnd.jupyter.widget-view+json": {
              "version_major": 2,
              "version_minor": 0,
              "model_id": "576aec1e66ac42df887eead5a8e4cf82"
            }
          },
          "metadata": {}
        }
      ]
    },
    {
      "cell_type": "markdown",
      "source": [
        "## 第四題\n",
        "寫一個互動式的圓周長和面積計算器：讓使用者輸入半徑，然後使用 ipywidgets 計算圓周長和面積。"
      ],
      "metadata": {
        "id": "1kmdbTRJvo2x"
      }
    },
    {
      "cell_type": "code",
      "source": [
        "import ipywidgets as widgets\n",
        "import math\n",
        "\n",
        "def circle_calculator(radius):\n",
        "    circumference = 2 * math.pi * radius\n",
        "    area = math.pi * radius ** 2\n",
        "    return circumference, area\n",
        "\n",
        "radius_widget = widgets.FloatText(value=1, description='Radius:')\n",
        "result_widget = widgets.Output()\n",
        "\n",
        "# 建立calculate按鈕的運作功能\n",
        "def calculate_button_clicked(b):\n",
        "    result_widget.clear_output()\n",
        "    with result_widget:\n",
        "        circumference, area = circle_calculator(radius_widget.value)\n",
        "        print(\"Circumference:\", circumference)\n",
        "        print(\"Area:\", area)\n",
        "\n",
        "calculate_button = widgets.Button(description=\"Calculate\")\n",
        "calculate_button.on_click(calculate_button_clicked)\n",
        "\n",
        "widgets.VBox([radius_widget, calculate_button, result_widget])\n"
      ],
      "metadata": {
        "colab": {
          "base_uri": "https://localhost:8080/",
          "height": 81,
          "referenced_widgets": [
            "b8db361723ed493b964817535755fa0e",
            "b85743c5aee14798b55d8d7358bc80ab",
            "69c29f68c3204dd4bbf90f25ad9d1b60",
            "58738db14e3e49baa87086f26c812fea",
            "441f18d56f1c48e98baa479b23a8b046",
            "8baa70f2018e4bae81d2a525cf9f85a9",
            "d046b3b85bb2460fbfdcc26515e6b4d3",
            "68a145ee48b546cc93e829207f184a75",
            "338ec6ec590b4b2783d861c73b8a3c20",
            "35a4ce0598644468832bc39c6bcce8ca"
          ]
        },
        "id": "NTITQ1NNvoO2",
        "outputId": "7615ad70-a12d-4aac-b0b4-71da01401c32"
      },
      "execution_count": null,
      "outputs": [
        {
          "output_type": "display_data",
          "data": {
            "text/plain": [
              "VBox(children=(FloatText(value=1.0, description='Radius:'), Button(description='Calculate', style=ButtonStyle(…"
            ],
            "application/vnd.jupyter.widget-view+json": {
              "version_major": 2,
              "version_minor": 0,
              "model_id": "b8db361723ed493b964817535755fa0e"
            }
          },
          "metadata": {}
        }
      ]
    },
    {
      "cell_type": "code",
      "source": [],
      "metadata": {
        "id": "JWdbaBV2vtjm"
      },
      "execution_count": null,
      "outputs": []
    }
  ]
}